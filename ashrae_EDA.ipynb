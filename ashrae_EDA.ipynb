{
 "cells": [
  {
   "cell_type": "code",
   "execution_count": 2,
   "metadata": {},
   "outputs": [
    {
     "data": {
      "text/html": [
       "        <script type=\"text/javascript\">\n",
       "        window.PlotlyConfig = {MathJaxConfig: 'local'};\n",
       "        if (window.MathJax) {MathJax.Hub.Config({SVG: {font: \"STIX-Web\"}});}\n",
       "        if (typeof require !== 'undefined') {\n",
       "        require.undef(\"plotly\");\n",
       "        requirejs.config({\n",
       "            paths: {\n",
       "                'plotly': ['https://cdn.plot.ly/plotly-latest.min']\n",
       "            }\n",
       "        });\n",
       "        require(['plotly'], function(Plotly) {\n",
       "            window._Plotly = Plotly;\n",
       "        });\n",
       "        }\n",
       "        </script>\n",
       "        "
      ]
     },
     "metadata": {},
     "output_type": "display_data"
    }
   ],
   "source": [
    "import os\n",
    "import numpy as np\n",
    "import pandas as pd\n",
    "import matplotlib.pyplot as plt\n",
    "import seaborn as sns\n",
    "\n",
    "from plotly import tools, subplots\n",
    "import plotly.offline as py\n",
    "import plotly.graph_objs as go\n",
    "\n",
    "from plotly.offline import download_plotlyjs,init_notebook_mode,plot,iplot\n",
    "init_notebook_mode(connected=True)\n",
    "sns.set_style(\"whitegrid\")\n",
    "%matplotlib inline"
   ]
  },
  {
   "cell_type": "code",
   "execution_count": 3,
   "metadata": {},
   "outputs": [],
   "source": [
    "import plotly.express as px"
   ]
  },
  {
   "cell_type": "code",
   "execution_count": 4,
   "metadata": {},
   "outputs": [],
   "source": [
    "building_path = os.path.join(os.path.dirname(\"ashrae.ipynb\"), \"data/building_metadata.csv\")\n",
    "train_path = os.path.join(os.path.dirname(\"ashrae.ipynb\"), \"data/train.csv\")\n",
    "test_path = os.path.join(os.path.dirname(\"ashrae.ipynb\"), \"data/test.csv\")\n",
    "weather_test_path = os.path.join(os.path.dirname(\"ashrae.ipynb\"), \"data/weather_test.csv\")\n",
    "weather_train_path = os.path.join(os.path.dirname(\"ashrae.ipynb\"), \"data/weather_train.csv\")\n",
    "\n",
    "building_meta = pd.read_csv(building_path)\n",
    "train = pd.read_csv(train_path)\n",
    "test = pd.read_csv(test_path)\n",
    "weather_test = pd.read_csv(weather_test_path)\n",
    "weather_train = pd.read_csv(weather_train_path)"
   ]
  },
  {
   "cell_type": "code",
   "execution_count": 5,
   "metadata": {},
   "outputs": [],
   "source": [
    "train[\"timestamp\"] = pd.to_datetime(train[\"timestamp\"], format='%Y-%m-%d %H:%M:%S')"
   ]
  },
  {
   "cell_type": "code",
   "execution_count": 17,
   "metadata": {},
   "outputs": [
    {
     "name": "stdout",
     "output_type": "stream",
     "text": [
      "shape of train:  (20216100, 6)\n",
      "shape of weather_train:  (139773, 12)\n",
      "shape of weather_test:  (277243, 9)\n",
      "shape of building_meta:  (1449, 6)\n",
      "shape of test:  (41697600, 4)\n"
     ]
    }
   ],
   "source": [
    "print('shape of train: ', train.shape)\n",
    "print('shape of weather_train: ', weather_train.shape)\n",
    "print('shape of weather_test: ', weather_test.shape)\n",
    "print('shape of building_meta: ', building_meta.shape)\n",
    "print('shape of test: ', test.shape)"
   ]
  },
  {
   "cell_type": "code",
   "execution_count": 6,
   "metadata": {},
   "outputs": [
    {
     "name": "stdout",
     "output_type": "stream",
     "text": [
      "Mem. usage decreased to 289.19 Mb (53.1% reduction)\n",
      "Mem. usage decreased to 596.49 Mb (53.1% reduction)\n",
      "Mem. usage decreased to  3.07 Mb (68.1% reduction)\n",
      "Mem. usage decreased to  6.08 Mb (68.1% reduction)\n",
      "Mem. usage decreased to  0.03 Mb (60.3% reduction)\n"
     ]
    }
   ],
   "source": [
    "## Function to reduce the DF size\n",
    "def reduce_mem_usage(df, verbose=True):\n",
    "    numerics = ['int16', 'int32', 'int64', 'float16', 'float32', 'float64']\n",
    "    start_mem = df.memory_usage().sum() / 1024**2    \n",
    "    for col in df.columns:\n",
    "        col_type = df[col].dtypes\n",
    "        if col_type in numerics:\n",
    "            c_min = df[col].min()\n",
    "            c_max = df[col].max()\n",
    "            if str(col_type)[:3] == 'int':\n",
    "                if c_min > np.iinfo(np.int8).min and c_max < np.iinfo(np.int8).max:\n",
    "                    df[col] = df[col].astype(np.int8)\n",
    "                elif c_min > np.iinfo(np.int16).min and c_max < np.iinfo(np.int16).max:\n",
    "                    df[col] = df[col].astype(np.int16)\n",
    "                elif c_min > np.iinfo(np.int32).min and c_max < np.iinfo(np.int32).max:\n",
    "                    df[col] = df[col].astype(np.int32)\n",
    "                elif c_min > np.iinfo(np.int64).min and c_max < np.iinfo(np.int64).max:\n",
    "                    df[col] = df[col].astype(np.int64)  \n",
    "            else:\n",
    "                if c_min > np.finfo(np.float16).min and c_max < np.finfo(np.float16).max:\n",
    "                    df[col] = df[col].astype(np.float16)\n",
    "                elif c_min > np.finfo(np.float32).min and c_max < np.finfo(np.float32).max:\n",
    "                    df[col] = df[col].astype(np.float32)\n",
    "                else:\n",
    "                    df[col] = df[col].astype(np.float64)    \n",
    "    end_mem = df.memory_usage().sum() / 1024**2\n",
    "    if verbose: print('Mem. usage decreased to {:5.2f} Mb ({:.1f}% reduction)'.format(end_mem, 100 * (start_mem - end_mem) / start_mem))\n",
    "    return df\n",
    "train = reduce_mem_usage(train)\n",
    "test = reduce_mem_usage(test)\n",
    "\n",
    "weather_train = reduce_mem_usage(weather_train)\n",
    "weather_test = reduce_mem_usage(weather_test)\n",
    "building_meta = reduce_mem_usage(building_meta)"
   ]
  },
  {
   "cell_type": "code",
   "execution_count": 30,
   "metadata": {},
   "outputs": [
    {
     "data": {
      "text/plain": [
       "Index(['building_id', 'meter', 'timestamp', 'meter_reading'], dtype='object')"
      ]
     },
     "execution_count": 30,
     "metadata": {},
     "output_type": "execute_result"
    }
   ],
   "source": [
    "train.columns\n",
    "#meter: {0: electricity, 1: chilledwater, 2: steam, 3: hotwater}"
   ]
  },
  {
   "cell_type": "code",
   "execution_count": 37,
   "metadata": {},
   "outputs": [
    {
     "data": {
      "text/html": [
       "<div>\n",
       "<style scoped>\n",
       "    .dataframe tbody tr th:only-of-type {\n",
       "        vertical-align: middle;\n",
       "    }\n",
       "\n",
       "    .dataframe tbody tr th {\n",
       "        vertical-align: top;\n",
       "    }\n",
       "\n",
       "    .dataframe thead th {\n",
       "        text-align: right;\n",
       "    }\n",
       "</style>\n",
       "<table border=\"1\" class=\"dataframe\">\n",
       "  <thead>\n",
       "    <tr style=\"text-align: right;\">\n",
       "      <th>meter</th>\n",
       "      <th>0</th>\n",
       "      <th>1</th>\n",
       "      <th>2</th>\n",
       "      <th>3</th>\n",
       "    </tr>\n",
       "  </thead>\n",
       "  <tbody>\n",
       "    <tr>\n",
       "      <th>count</th>\n",
       "      <td>12,060,910.00</td>\n",
       "      <td>4,182,440.00</td>\n",
       "      <td>2,708,713.00</td>\n",
       "      <td>1,264,037.00</td>\n",
       "    </tr>\n",
       "    <tr>\n",
       "      <th>mean</th>\n",
       "      <td>170.83</td>\n",
       "      <td>633.36</td>\n",
       "      <td>13,882.19</td>\n",
       "      <td>385.87</td>\n",
       "    </tr>\n",
       "    <tr>\n",
       "      <th>std</th>\n",
       "      <td>380.83</td>\n",
       "      <td>7,988.21</td>\n",
       "      <td>418,313.50</td>\n",
       "      <td>2,508.17</td>\n",
       "    </tr>\n",
       "    <tr>\n",
       "      <th>min</th>\n",
       "      <td>0.00</td>\n",
       "      <td>0.00</td>\n",
       "      <td>0.00</td>\n",
       "      <td>0.00</td>\n",
       "    </tr>\n",
       "    <tr>\n",
       "      <th>25%</th>\n",
       "      <td>19.50</td>\n",
       "      <td>11.33</td>\n",
       "      <td>45.75</td>\n",
       "      <td>0.00</td>\n",
       "    </tr>\n",
       "    <tr>\n",
       "      <th>50%</th>\n",
       "      <td>62.83</td>\n",
       "      <td>120.49</td>\n",
       "      <td>257.81</td>\n",
       "      <td>39.62</td>\n",
       "    </tr>\n",
       "    <tr>\n",
       "      <th>75%</th>\n",
       "      <td>170.07</td>\n",
       "      <td>464.31</td>\n",
       "      <td>1,035.32</td>\n",
       "      <td>241.28</td>\n",
       "    </tr>\n",
       "    <tr>\n",
       "      <th>max</th>\n",
       "      <td>79,769.00</td>\n",
       "      <td>880,374.00</td>\n",
       "      <td>21,904,700.00</td>\n",
       "      <td>160,187.00</td>\n",
       "    </tr>\n",
       "  </tbody>\n",
       "</table>\n",
       "</div>"
      ],
      "text/plain": [
       "meter             0            1             2            3\n",
       "count 12,060,910.00 4,182,440.00  2,708,713.00 1,264,037.00\n",
       "mean         170.83       633.36     13,882.19       385.87\n",
       "std          380.83     7,988.21    418,313.50     2,508.17\n",
       "min            0.00         0.00          0.00         0.00\n",
       "25%           19.50        11.33         45.75         0.00\n",
       "50%           62.83       120.49        257.81        39.62\n",
       "75%          170.07       464.31      1,035.32       241.28\n",
       "max       79,769.00   880,374.00 21,904,700.00   160,187.00"
      ]
     },
     "execution_count": 37,
     "metadata": {},
     "output_type": "execute_result"
    }
   ],
   "source": [
    "pd.options.display.float_format = '{:,.2f}'.format\n",
    "train.groupby('meter')['meter_reading'].describe().transpose()"
   ]
  },
  {
   "cell_type": "code",
   "execution_count": 248,
   "metadata": {},
   "outputs": [
    {
     "data": {
      "text/plain": [
       "<matplotlib.axes._subplots.AxesSubplot at 0x1f1aca19b0>"
      ]
     },
     "execution_count": 248,
     "metadata": {},
     "output_type": "execute_result"
    },
    {
     "data": {
      "image/png": "[encoded data removed]",
      "text/plain": [
       "<Figure size 432x288 with 1 Axes>"
      ]
     },
     "metadata": {
      "needs_background": "light"
     },
     "output_type": "display_data"
    }
   ],
   "source": [
    "sns.distplot(train['meter_reading'],kde=False)"
   ]
  },
  {
   "cell_type": "code",
   "execution_count": 6,
   "metadata": {},
   "outputs": [],
   "source": [
    "train_building = pd.merge(train, building_meta, how='inner', on='building_id')"
   ]
  },
  {
   "cell_type": "code",
   "execution_count": 254,
   "metadata": {},
   "outputs": [
    {
     "data": {
      "image/png": "[encoded data removed]",
      "text/plain": [
       "<Figure size 576x360 with 1 Axes>"
      ]
     },
     "metadata": {
      "needs_background": "light"
     },
     "output_type": "display_data"
    }
   ],
   "source": [
    "plt.figure(figsize=(8,5))\n",
    "ax = sns.countplot(building_meta.primary_use)\n",
    "ax.set_xticklabels(ax.get_xticklabels(), rotation=40, ha=\"right\")\n",
    "plt.tight_layout()"
   ]
  },
  {
   "cell_type": "code",
   "execution_count": 110,
   "metadata": {},
   "outputs": [
    {
     "data": {
      "text/plain": [
       "Index(['building_id', 'meter', 'timestamp', 'meter_reading', 'site_id',\n",
       "       'primary_use', 'square_feet', 'year_built', 'floor_count'],\n",
       "      dtype='object')"
      ]
     },
     "execution_count": 110,
     "metadata": {},
     "output_type": "execute_result"
    }
   ],
   "source": [
    "train_building.columns"
   ]
  },
  {
   "cell_type": "code",
   "execution_count": 113,
   "metadata": {},
   "outputs": [],
   "source": [
    "train_building_corr = train_building.drop(['building_id','timestamp','site_id'],axis=1)"
   ]
  },
  {
   "cell_type": "code",
   "execution_count": 115,
   "metadata": {},
   "outputs": [
    {
     "data": {
      "text/plain": [
       "<matplotlib.axes._subplots.AxesSubplot at 0x1d112e1160>"
      ]
     },
     "execution_count": 115,
     "metadata": {},
     "output_type": "execute_result"
    },
    {
     "data": {
      "image/png": "[encoded data removed]",
      "text/plain": [
       "<Figure size 432x288 with 2 Axes>"
      ]
     },
     "metadata": {
      "needs_background": "light"
     },
     "output_type": "display_data"
    }
   ],
   "source": [
    "sns.heatmap(train_building_corr.corr(), cmap='coolwarm')"
   ]
  },
  {
   "cell_type": "code",
   "execution_count": 123,
   "metadata": {},
   "outputs": [
    {
     "data": {
      "text/plain": [
       "(2021610, 9)"
      ]
     },
     "execution_count": 123,
     "metadata": {},
     "output_type": "execute_result"
    }
   ],
   "source": [
    "train_building_frac = train_building.sample(frac=0.1)\n",
    "train_building_frac.shape"
   ]
  },
  {
   "cell_type": "code",
   "execution_count": 177,
   "metadata": {},
   "outputs": [
    {
     "data": {
      "image/png": "[encoded data removed]",
      "text/plain": [
       "<Figure size 1080x720 with 4 Axes>"
      ]
     },
     "metadata": {
      "needs_background": "light"
     },
     "output_type": "display_data"
    }
   ],
   "source": [
    "fig, axs = plt.subplots(2, 2, figsize=(15,10))\n",
    "\n",
    "sns.barplot(x='primary_use', y='meter_reading', data=train_building_frac, ax=axs[0,0])\n",
    "axs[0,0].set_xticklabels(ax.get_xticklabels(), rotation=40, ha=\"right\")\n",
    "\n",
    "sns.scatterplot(x='year_built', y='meter_reading', data=train_building_frac, ax=axs[0,1])\n",
    "\n",
    "sns.barplot(x='floor_count', y='meter_reading', data=train_building_frac, ax=axs[1,0])\n",
    "axs[1,0].set_xticklabels(list(range(1,27)))\n",
    "\n",
    "sns.scatterplot(x='square_feet', y='meter_reading', data=train_building_frac, ax=axs[1,1])\n",
    "\n",
    "plt.tight_layout()"
   ]
  },
  {
   "cell_type": "code",
   "execution_count": 7,
   "metadata": {},
   "outputs": [],
   "source": [
    "train['Month'] = train['timestamp'].dt.month\n",
    "train['Day'] = train['timestamp'].dt.day\n",
    "date_pivot = train.pivot_table(index='Day', columns='Month', values='meter_reading')"
   ]
  },
  {
   "cell_type": "code",
   "execution_count": 201,
   "metadata": {},
   "outputs": [
    {
     "data": {
      "image/png": "[encoded data removed]",
      "text/plain": [
       "<Figure size 576x576 with 2 Axes>"
      ]
     },
     "metadata": {
      "needs_background": "light"
     },
     "output_type": "display_data"
    }
   ],
   "source": [
    "plt.figure(figsize=(8,8))\n",
    "sns.heatmap(date_pivot, cmap = 'Blues')\n",
    "plt.title('meter reading by dates in 2016')\n",
    "plt.tight_layout()"
   ]
  },
  {
   "cell_type": "code",
   "execution_count": 8,
   "metadata": {},
   "outputs": [],
   "source": [
    "weather_train[\"timestamp\"] = pd.to_datetime(train[\"timestamp\"], format='%Y-%m-%d %H:%M:%S')\n",
    "weather_train['Month'] = weather_train['timestamp'].dt.month\n",
    "weather_train['Day'] = weather_train['timestamp'].dt.day\n",
    "weather_train['Time'] = weather_train['timestamp'].dt.time"
   ]
  },
  {
   "cell_type": "code",
   "execution_count": 9,
   "metadata": {},
   "outputs": [],
   "source": [
    "weather_train['type'] = 'train'\n",
    "weather_test['type'] = 'test'\n",
    "weather_meta = pd.concat([weather_train, weather_test], axis=0, sort=True)"
   ]
  },
  {
   "cell_type": "code",
   "execution_count": 225,
   "metadata": {},
   "outputs": [
    {
     "data": {
      "text/plain": [
       "Index(['Day', 'Month', 'Time', 'air_temperature', 'cloud_coverage',\n",
       "       'dew_temperature', 'precip_depth_1_hr', 'sea_level_pressure', 'site_id',\n",
       "       'timestamp', 'type', 'wind_direction', 'wind_speed'],\n",
       "      dtype='object')"
      ]
     },
     "execution_count": 225,
     "metadata": {},
     "output_type": "execute_result"
    }
   ],
   "source": [
    "weather_meta.columns"
   ]
  },
  {
   "cell_type": "code",
   "execution_count": 259,
   "metadata": {},
   "outputs": [],
   "source": [
    "def plot_dist(column, ax):\n",
    "    sns.distplot(weather_train[column].dropna(), color='seagreen', ax=ax).set_title(column, fontsize=16)\n",
    "    sns.distplot(weather_test[column].dropna(), color='mediumorchid', ax=ax).set_title(column, fontsize=16)\n",
    "    plt.xlabel(column, fontsize=15)\n",
    "    ax.legend(['train', 'test'])"
   ]
  },
  {
   "cell_type": "code",
   "execution_count": 263,
   "metadata": {},
   "outputs": [
    {
     "data": {
      "image/png": "[encoded data removed]",
      "text/plain": [
       "<Figure size 1440x1440 with 4 Axes>"
      ]
     },
     "metadata": {
      "needs_background": "light"
     },
     "output_type": "display_data"
    }
   ],
   "source": [
    "fig, axs = plt.subplots(2, 2, figsize=(20,20))\n",
    "\n",
    "plot_dist('air_temperature', axs[0,0])\n",
    "plot_dist('cloud_coverage', axs[0,1])\n",
    "plot_dist('dew_temperature', axs[1,0])\n",
    "plot_dist('precip_depth_1_hr', axs[1,1])"
   ]
  },
  {
   "cell_type": "code",
   "execution_count": 267,
   "metadata": {},
   "outputs": [
    {
     "data": {
      "image/png": "[encoded data removed]",
      "text/plain": [
       "<Figure size 1440x1440 with 4 Axes>"
      ]
     },
     "metadata": {
      "needs_background": "light"
     },
     "output_type": "display_data"
    }
   ],
   "source": [
    "fig, axs = plt.subplots(2, 2, figsize=(20,20))\n",
    "plot_dist('sea_level_pressure', axs[0,0])\n",
    "plot_dist('wind_direction', axs[0,1])\n",
    "plot_dist('wind_speed', axs[1,0])"
   ]
  },
  {
   "cell_type": "code",
   "execution_count": 16,
   "metadata": {},
   "outputs": [],
   "source": [
    "train['meter'] = pd.Categorical(train['meter']).rename_categories({0: 'electricity', 1: 'chilledwater', 2: 'steam', 3: 'hotwater'})"
   ]
  },
  {
   "cell_type": "code",
   "execution_count": 17,
   "metadata": {},
   "outputs": [],
   "source": [
    "train_group = train.copy()\n",
    "train_group.drop(['Month','Day'], axis=1, inplace=True)\n",
    "train_group['date'] = train_group['timestamp'].dt.date\n",
    "train_group = train_group.groupby(['date', 'building_id', 'meter']).sum()"
   ]
  },
  {
   "cell_type": "code",
   "execution_count": 18,
   "metadata": {},
   "outputs": [
    {
     "data": {
      "text/html": [
       "<div>\n",
       "<style scoped>\n",
       "    .dataframe tbody tr th:only-of-type {\n",
       "        vertical-align: middle;\n",
       "    }\n",
       "\n",
       "    .dataframe tbody tr th {\n",
       "        vertical-align: top;\n",
       "    }\n",
       "\n",
       "    .dataframe thead th {\n",
       "        text-align: right;\n",
       "    }\n",
       "</style>\n",
       "<table border=\"1\" class=\"dataframe\">\n",
       "  <thead>\n",
       "    <tr style=\"text-align: right;\">\n",
       "      <th></th>\n",
       "      <th>date</th>\n",
       "      <th>meter</th>\n",
       "      <th>meter_reading-sum</th>\n",
       "      <th>meter_reading-mean</th>\n",
       "      <th>meter_reading-idxmax</th>\n",
       "      <th>meter_reading-max</th>\n",
       "    </tr>\n",
       "  </thead>\n",
       "  <tbody>\n",
       "    <tr>\n",
       "      <th>0</th>\n",
       "      <td>2016-01-01</td>\n",
       "      <td>electricity</td>\n",
       "      <td>4.219648e+06</td>\n",
       "      <td>3037.903076</td>\n",
       "      <td>(2016-01-01, 803, electricity)</td>\n",
       "      <td>1.160372e+05</td>\n",
       "    </tr>\n",
       "    <tr>\n",
       "      <th>1</th>\n",
       "      <td>2016-01-01</td>\n",
       "      <td>chilledwater</td>\n",
       "      <td>1.412169e+06</td>\n",
       "      <td>3090.084961</td>\n",
       "      <td>(2016-01-01, 1289, chilledwater)</td>\n",
       "      <td>1.042116e+05</td>\n",
       "    </tr>\n",
       "    <tr>\n",
       "      <th>2</th>\n",
       "      <td>2016-01-01</td>\n",
       "      <td>steam</td>\n",
       "      <td>6.873201e+07</td>\n",
       "      <td>218891.734375</td>\n",
       "      <td>(2016-01-01, 1099, steam)</td>\n",
       "      <td>5.095080e+07</td>\n",
       "    </tr>\n",
       "    <tr>\n",
       "      <th>3</th>\n",
       "      <td>2016-01-01</td>\n",
       "      <td>hotwater</td>\n",
       "      <td>1.609989e+06</td>\n",
       "      <td>11180.481445</td>\n",
       "      <td>(2016-01-01, 1331, hotwater)</td>\n",
       "      <td>2.198245e+05</td>\n",
       "    </tr>\n",
       "    <tr>\n",
       "      <th>4</th>\n",
       "      <td>2016-01-02</td>\n",
       "      <td>electricity</td>\n",
       "      <td>4.288951e+06</td>\n",
       "      <td>3085.576416</td>\n",
       "      <td>(2016-01-02, 803, electricity)</td>\n",
       "      <td>1.157768e+05</td>\n",
       "    </tr>\n",
       "  </tbody>\n",
       "</table>\n",
       "</div>"
      ],
      "text/plain": [
       "         date         meter  meter_reading-sum  meter_reading-mean  \\\n",
       "0  2016-01-01   electricity       4.219648e+06         3037.903076   \n",
       "1  2016-01-01  chilledwater       1.412169e+06         3090.084961   \n",
       "2  2016-01-01         steam       6.873201e+07       218891.734375   \n",
       "3  2016-01-01      hotwater       1.609989e+06        11180.481445   \n",
       "4  2016-01-02   electricity       4.288951e+06         3085.576416   \n",
       "\n",
       "               meter_reading-idxmax  meter_reading-max  \n",
       "0    (2016-01-01, 803, electricity)       1.160372e+05  \n",
       "1  (2016-01-01, 1289, chilledwater)       1.042116e+05  \n",
       "2         (2016-01-01, 1099, steam)       5.095080e+07  \n",
       "3      (2016-01-01, 1331, hotwater)       2.198245e+05  \n",
       "4    (2016-01-02, 803, electricity)       1.157768e+05  "
      ]
     },
     "execution_count": 18,
     "metadata": {},
     "output_type": "execute_result"
    }
   ],
   "source": [
    "train_group_agg = train_group.groupby(['date', 'meter']).agg(['sum', 'mean', 'idxmax', 'max'])\n",
    "train_group_agg = train_group_agg.reset_index()\n",
    "level_0 = train_group_agg.columns.droplevel(0)\n",
    "level_1 = train_group_agg.columns.droplevel(1)\n",
    "level_0 = ['' if x == '' else '-' + x for x in level_0]\n",
    "train_group_agg.columns = level_1 + level_0\n",
    "train_group_agg.rename_axis(None, axis=1)\n",
    "train_group_agg.head()"
   ]
  },
  {
   "cell_type": "code",
   "execution_count": 23,
   "metadata": {},
   "outputs": [],
   "source": [
    "train_group_agg['building_id_max'] = [x[1] for x in train_group_agg['meter_reading-idxmax']]"
   ]
  },
  {
   "cell_type": "code",
   "execution_count": 31,
   "metadata": {},
   "outputs": [
    {
     "data": {
      "application/vnd.plotly.v1+json": {
       "config": {
        "plotlyServerURL": "https://plot.ly"
       },
       "data": [
        {
         "hoverlabel": {
          "namelength": 0
         },
         "hovertemplate": "building_id_max=803<br>date=%{x}<br>meter_reading-max=%{y}",
         "legendgroup": "building_id_max=803",
         "marker": {
          "color": "#636efa",
          "symbol": "circle"
         },
         "mode": "markers",
         "name": "building_id_max=803",
         "showlegend": true,
         "type": "scatter",
         "x": [
          "2016-01-01",
          "2016-01-02",
          "2016-01-03",
          "2016-01-04",
          "2016-01-05",
          "2016-01-06",
          "2016-01-09",
          "2016-01-10",
          "2016-01-11",
          "2016-01-12",
          "2016-01-13",
          "2016-01-14",
          "2016-01-15",
          "2016-01-16",
          "2016-01-17",
          "2016-01-18",
          "2016-01-19",
          "2016-01-21",
          "2016-01-22",
          "2016-01-23",
          "2016-01-24",
          "2016-01-25",
          "2016-01-26",
          "2016-01-27",
          "2016-01-28",
          "2016-01-29",
          "2016-01-30",
          "2016-01-31",
          "2016-02-01",
          "2016-02-02",
          "2016-02-03",
          "2016-02-05",
          "2016-02-06",
          "2016-02-07",
          "2016-02-08",
          "2016-02-09",
          "2016-02-10",
          "2016-02-11",
          "2016-02-12",
          "2016-02-13",
          "2016-02-14",
          "2016-02-15",
          "2016-02-16",
          "2016-02-17",
          "2016-02-18",
          "2016-02-19",
          "2016-02-20",
          "2016-02-21",
          "2016-02-22",
          "2016-02-23",
          "2016-02-24",
          "2016-02-25",
          "2016-02-26",
          "2016-02-27",
          "2016-02-28",
          "2016-02-29",
          "2016-03-01",
          "2016-03-02",
          "2016-03-03",
          "2016-03-04",
          "2016-03-05",
          "2016-03-06",
          "2016-03-07",
          "2016-03-08",
          "2016-03-09",
          "2016-03-10",
          "2016-03-11",
          "2016-03-12",
          "2016-03-13",
          "2016-03-14",
          "2016-03-15",
          "2016-03-16",
          "2016-03-17",
          "2016-03-18",
          "2016-03-19",
          "2016-03-20",
          "2016-03-21",
          "2016-03-22",
          "2016-03-23",
          "2016-03-24",
          "2016-03-25",
          "2016-03-26",
          "2016-03-27",
          "2016-03-28",
          "2016-03-29",
          "2016-03-30",
          "2016-03-31",
          "2016-04-01",
          "2016-04-02",
          "2016-04-03",
          "2016-04-04",
          "2016-04-05",
          "2016-04-06",
          "2016-04-07",
          "2016-04-08",
          "2016-04-09",
          "2016-04-10",
          "2016-04-11",
          "2016-04-12",
          "2016-04-13",
          "2016-04-14",
          "2016-04-15",
          "2016-04-16",
          "2016-04-17",
          "2016-04-18",
          "2016-04-19",
          "2016-04-20",
          "2016-04-21",
          "2016-04-22",
          "2016-04-23",
          "2016-04-24",
          "2016-04-25",
          "2016-04-26",
          "2016-04-27",
          "2016-04-28",
          "2016-04-29",
          "2016-04-30",
          "2016-05-01",
          "2016-05-02",
          "2016-05-03",
          "2016-05-05",
          "2016-05-06",
          "2016-05-07",
          "2016-05-08",
          "2016-05-09",
          "2016-05-10",
          "2016-05-13",
          "2016-05-14",
          "2016-05-15",
          "2016-05-16",
          "2016-05-17",
          "2016-05-26",
          "2016-05-27",
          "2016-05-28",
          "2016-05-29",
          "2016-05-30",
          "2016-05-31",
          "2016-06-01",
          "2016-06-02",
          "2016-06-03",
          "2016-06-04",
          "2016-06-05",
          "2016-06-06",
          "2016-06-07",
          "2016-06-08",
          "2016-06-09",
          "2016-06-12",
          "2016-06-13",
          "2016-06-14",
          "2016-06-16",
          "2016-06-20",
          "2016-06-21",
          "2016-06-23",
          "2016-06-24",
          "2016-06-26",
          "2016-06-27",
          "2016-06-28",
          "2016-06-29",
          "2016-06-30",
          "2016-07-01",
          "2016-07-02",
          "2016-07-03",
          "2016-07-04",
          "2016-07-06",
          "2016-07-08",
          "2016-07-09",
          "2016-07-13",
          "2016-07-14",
          "2016-07-15",
          "2016-07-16",
          "2016-07-18",
          "2016-07-28",
          "2016-08-25",
          "2016-08-26",
          "2016-08-27",
          "2016-08-31",
          "2016-09-01",
          "2016-09-02",
          "2016-09-03",
          "2016-09-04",
          "2016-09-09",
          "2016-09-10",
          "2016-09-11",
          "2016-09-12",
          "2016-09-13",
          "2016-09-14",
          "2016-09-15",
          "2016-09-16",
          "2016-09-19",
          "2016-09-20",
          "2016-09-21",
          "2016-09-22"
         ],
         "xaxis": "x",
         "y": [
          116037.1796875,
          115776.75,
          115708.1328125,
          124764.109375,
          125209.890625,
          124011.984375,
          118570.7890625,
          117448.8125,
          124070.40625,
          121459.3203125,
          126254.421875,
          128586.7734375,
          127603.8515625,
          120588.9609375,
          120743.421875,
          126620.7265625,
          125967.734375,
          126618.25,
          124945.140625,
          119935.8515625,
          119221.0625,
          125150.3828125,
          125259.046875,
          125045.796875,
          126600.03125,
          125555.578125,
          117628.71875,
          115951.7734375,
          123925.53125,
          125074.3515625,
          125008.109375,
          124499.9375,
          118816.484375,
          118853.8515625,
          124876.6484375,
          125992.6328125,
          126481.5,
          126912.03125,
          127748.9296875,
          120481.421875,
          120797.4609375,
          128238.7421875,
          127155,
          123829.2578125,
          127269.546875,
          128959.390625,
          120526.4296875,
          118246.0390625,
          126742.640625,
          128270.734375,
          127252.625,
          124162.28125,
          123833.765625,
          112359.6015625,
          113623,
          123645.53125,
          125182.921875,
          127168.75,
          128633.5703125,
          128281.6171875,
          120916.4140625,
          120418.7890625,
          128303.71875,
          127927.953125,
          126435.140625,
          125653.8515625,
          125320.8984375,
          119131.7421875,
          117456.96875,
          125142.953125,
          126722.4296875,
          122161.3828125,
          124547.2109375,
          114101.3125,
          101685.65625,
          119881.921875,
          126979.3359375,
          125117.6171875,
          125501.5703125,
          126409.2109375,
          119145.703125,
          118785.0078125,
          118282.859375,
          118812.21875,
          126011,
          126133.9453125,
          124525.7890625,
          124474.96875,
          116522.3984375,
          115894.3125,
          124139.7421875,
          125424.890625,
          126059.078125,
          125554.1796875,
          125138.890625,
          118088.7578125,
          117777.921875,
          124484.6328125,
          124731.21875,
          126590.484375,
          127533.4921875,
          126744.6875,
          120074.046875,
          119599.4765625,
          126104.1875,
          126655.953125,
          124210.7109375,
          125554.6875,
          125953.84375,
          116896.2890625,
          118136.140625,
          125494.7578125,
          126191.8515625,
          125299.7734375,
          125712.53125,
          125973.1796875,
          120039.5390625,
          118841.515625,
          126339.65625,
          123426.3515625,
          123017.78125,
          122609.9375,
          112525.1953125,
          112525.1953125,
          120735.8828125,
          121931.9140625,
          123342.0859375,
          112217.515625,
          112217.515625,
          122176.71875,
          122524.0546875,
          123169.78125,
          124289.2890625,
          110834.4375,
          109675.0078125,
          124672.828125,
          124206.1875,
          123910,
          125537.140625,
          126390.5546875,
          113353.4375,
          113353.4375,
          125595.5859375,
          126529.703125,
          124092.453125,
          123039.1953125,
          111435.59375,
          122961.15625,
          123497.4921875,
          128128.578125,
          126769.7890625,
          123321.5703125,
          126813.1171875,
          123551.5859375,
          116951.28125,
          127269.8515625,
          125972.203125,
          125439.3671875,
          126767.7734375,
          111827.28125,
          111330.9609375,
          111330.9609375,
          125514.46875,
          128328.609375,
          124350.9609375,
          113486.8828125,
          130599.3359375,
          127639.6484375,
          126200.5546875,
          114864.484375,
          124870.90625,
          126451.328125,
          127580.515625,
          126196.96875,
          111788.15625,
          127240.8671875,
          127522.734375,
          124092.3203125,
          115874.8828125,
          115874.8828125,
          127301.59375,
          115141.6796875,
          112503.359375,
          123004.3984375,
          127196.6328125,
          127544.0234375,
          124657.9609375,
          124044.3125,
          123362.2734375,
          129184.1875,
          124272.140625,
          128712.34375
         ],
         "yaxis": "y"
        },
        {
         "hoverlabel": {
          "namelength": 0
         },
         "hovertemplate": "building_id_max=801<br>date=%{x}<br>meter_reading-max=%{y}",
         "legendgroup": "building_id_max=801",
         "marker": {
          "color": "#EF553B",
          "symbol": "circle"
         },
         "mode": "markers",
         "name": "building_id_max=801",
         "showlegend": true,
         "type": "scatter",
         "x": [
          "2016-01-07",
          "2016-01-08",
          "2016-01-20",
          "2016-02-04",
          "2016-05-04",
          "2016-05-11",
          "2016-05-12",
          "2016-05-18",
          "2016-05-19",
          "2016-05-20",
          "2016-05-21",
          "2016-05-22",
          "2016-05-23",
          "2016-05-24",
          "2016-05-25",
          "2016-06-15",
          "2016-07-29",
          "2016-08-05",
          "2016-08-06",
          "2016-08-07",
          "2016-08-20",
          "2016-08-21",
          "2016-08-22",
          "2016-09-08",
          "2016-09-17",
          "2016-09-18",
          "2016-09-23",
          "2016-09-24",
          "2016-09-26",
          "2016-09-27",
          "2016-09-28",
          "2016-09-29",
          "2016-09-30",
          "2016-10-01",
          "2016-10-02",
          "2016-10-03",
          "2016-10-04",
          "2016-10-05",
          "2016-10-06",
          "2016-10-07",
          "2016-10-08",
          "2016-10-09",
          "2016-10-11",
          "2016-10-12",
          "2016-10-13",
          "2016-10-14",
          "2016-10-15",
          "2016-10-16",
          "2016-10-18",
          "2016-10-19",
          "2016-10-20",
          "2016-10-21",
          "2016-10-22",
          "2016-10-23",
          "2016-10-24",
          "2016-10-25",
          "2016-10-26",
          "2016-10-27",
          "2016-10-28",
          "2016-10-29",
          "2016-10-30",
          "2016-10-31",
          "2016-11-01",
          "2016-11-02",
          "2016-11-03"
         ],
         "xaxis": "x",
         "y": [
          123691.7421875,
          123572.5078125,
          122806.9921875,
          125935.71875,
          123632.984375,
          122696.21875,
          123221.703125,
          121138.1328125,
          134834.515625,
          146021.28125,
          146021.28125,
          146021.28125,
          146021.28125,
          146021.28125,
          126416.4921875,
          122380.109375,
          117120.671875,
          117000.296875,
          94203.59375,
          94203.59375,
          92056.4921875,
          94369.6796875,
          116836.25,
          131684,
          93455.28125,
          93455.28125,
          114628.6484375,
          92223.390625,
          114897.7578125,
          116011.7421875,
          116776.0234375,
          115625.0234375,
          115016.40625,
          94103.9140625,
          92099.8828125,
          115608.2734375,
          115339.4375,
          114634.109375,
          115264.1875,
          113421.0625,
          93604.3203125,
          88652.703125,
          113382.5546875,
          116309.2578125,
          114230.21875,
          111728.125,
          91127.28125,
          91127.28125,
          112705.4921875,
          114182.484375,
          112747.125,
          111735.4921875,
          91160.8828125,
          91160.8828125,
          114356.46875,
          113757.375,
          114038.375,
          112228.828125,
          114083.765625,
          84110.53125,
          84594.2421875,
          112630.9609375,
          113861.96875,
          114998.265625,
          115744.03125
         ],
         "yaxis": "y"
        },
        {
         "hoverlabel": {
          "namelength": 0
         },
         "hovertemplate": "building_id_max=1088<br>date=%{x}<br>meter_reading-max=%{y}",
         "legendgroup": "building_id_max=1088",
         "marker": {
          "color": "#00cc96",
          "symbol": "circle"
         },
         "mode": "markers",
         "name": "building_id_max=1088",
         "showlegend": true,
         "type": "scatter",
         "x": [
          "2016-06-10",
          "2016-06-11",
          "2016-06-17",
          "2016-06-18",
          "2016-06-19",
          "2016-06-22",
          "2016-06-25",
          "2016-07-05",
          "2016-07-07",
          "2016-07-10",
          "2016-07-11",
          "2016-07-12",
          "2016-07-17",
          "2016-07-19",
          "2016-07-20",
          "2016-07-21",
          "2016-07-22",
          "2016-07-23",
          "2016-07-24",
          "2016-07-25",
          "2016-07-26",
          "2016-07-27",
          "2016-07-30",
          "2016-07-31",
          "2016-08-01",
          "2016-08-02",
          "2016-08-03",
          "2016-08-04",
          "2016-08-08",
          "2016-08-09",
          "2016-08-10",
          "2016-08-11",
          "2016-08-12",
          "2016-08-13",
          "2016-08-14",
          "2016-08-15",
          "2016-08-16",
          "2016-08-17",
          "2016-08-18",
          "2016-08-19",
          "2016-08-23",
          "2016-08-24",
          "2016-08-28",
          "2016-08-29",
          "2016-08-30",
          "2016-09-05",
          "2016-09-06",
          "2016-09-07",
          "2016-09-25"
         ],
         "xaxis": "x",
         "y": [
          155194,
          131835,
          132756,
          132246,
          143928,
          129699,
          165567,
          145648,
          129443,
          125758,
          149119,
          133618,
          119099,
          151034,
          176935,
          171451,
          149902,
          155407,
          149734,
          140482,
          162123,
          156457,
          122639,
          139379.796875,
          163359.296875,
          176402.703125,
          172618.703125,
          166365.40625,
          131866.40625,
          128729,
          125162.8046875,
          160751.296875,
          159112.796875,
          128230.3984375,
          114827.203125,
          127417.1015625,
          145144.203125,
          143629.59375,
          159646.09375,
          140442.90625,
          144038.203125,
          136448,
          116425.5,
          176217.296875,
          126954.5,
          145094.703125,
          172186.90625,
          158149.203125,
          97083.3984375
         ],
         "yaxis": "y"
        },
        {
         "hoverlabel": {
          "namelength": 0
         },
         "hovertemplate": "building_id_max=794<br>date=%{x}<br>meter_reading-max=%{y}",
         "legendgroup": "building_id_max=794",
         "marker": {
          "color": "#ab63fa",
          "symbol": "circle"
         },
         "mode": "markers",
         "name": "building_id_max=794",
         "showlegend": true,
         "type": "scatter",
         "x": [
          "2016-10-10"
         ],
         "xaxis": "x",
         "y": [
          95176.9921875
         ],
         "yaxis": "y"
        },
        {
         "hoverlabel": {
          "namelength": 0
         },
         "hovertemplate": "building_id_max=993<br>date=%{x}<br>meter_reading-max=%{y}",
         "legendgroup": "building_id_max=993",
         "marker": {
          "color": "#FFA15A",
          "symbol": "circle"
         },
         "mode": "markers",
         "name": "building_id_max=993",
         "showlegend": true,
         "type": "scatter",
         "x": [
          "2016-10-17"
         ],
         "xaxis": "x",
         "y": [
          136362
         ],
         "yaxis": "y"
        },
        {
         "hoverlabel": {
          "namelength": 0
         },
         "hovertemplate": "building_id_max=799<br>date=%{x}<br>meter_reading-max=%{y}",
         "legendgroup": "building_id_max=799",
         "marker": {
          "color": "#19d3f3",
          "symbol": "circle"
         },
         "mode": "markers",
         "name": "building_id_max=799",
         "showlegend": true,
         "type": "scatter",
         "x": [
          "2016-11-04",
          "2016-11-05",
          "2016-11-06",
          "2016-11-07",
          "2016-11-08",
          "2016-11-09",
          "2016-11-10",
          "2016-11-11",
          "2016-11-12",
          "2016-11-13",
          "2016-11-14",
          "2016-11-15",
          "2016-11-16",
          "2016-11-17",
          "2016-11-18",
          "2016-11-19",
          "2016-11-20",
          "2016-11-21",
          "2016-11-22",
          "2016-11-23",
          "2016-11-24",
          "2016-11-25",
          "2016-11-26",
          "2016-11-27",
          "2016-11-28",
          "2016-11-29",
          "2016-11-30",
          "2016-12-01",
          "2016-12-02",
          "2016-12-03",
          "2016-12-04",
          "2016-12-05",
          "2016-12-06",
          "2016-12-07",
          "2016-12-08",
          "2016-12-09",
          "2016-12-10",
          "2016-12-11",
          "2016-12-12",
          "2016-12-13",
          "2016-12-14",
          "2016-12-15",
          "2016-12-16",
          "2016-12-17",
          "2016-12-18",
          "2016-12-19",
          "2016-12-20",
          "2016-12-21",
          "2016-12-22",
          "2016-12-23",
          "2016-12-24",
          "2016-12-25",
          "2016-12-26",
          "2016-12-27",
          "2016-12-28",
          "2016-12-29",
          "2016-12-30",
          "2016-12-31"
         ],
         "xaxis": "x",
         "y": [
          236054.578125,
          119524.4375,
          124078.9375,
          235987.078125,
          235129.546875,
          236568.625,
          234862.21875,
          187253.625,
          122378.640625,
          122378.640625,
          233484.84375,
          237107.171875,
          238622.625,
          238253.3125,
          232123.71875,
          112731.84375,
          123684.0625,
          240037.265625,
          241309.328125,
          243039.921875,
          242491.5,
          235386.75,
          120940.0234375,
          137149.921875,
          242905.15625,
          239200.15625,
          241196.0625,
          235803.71875,
          233716.71875,
          119686.703125,
          137632.5625,
          168646.078125,
          236363.4375,
          238944.859375,
          240249.03125,
          239289.65625,
          134167.59375,
          138370.328125,
          239051.4375,
          235883.421875,
          243640.84375,
          267015.3125,
          285743.625,
          225825.703125,
          230459.28125,
          286445.5,
          288201,
          285074.6875,
          257199,
          228776.71875,
          119667.9453125,
          132417.59375,
          183613.59375,
          182879.859375,
          232612.421875,
          233739.921875,
          228336,
          134388.28125
         ],
         "yaxis": "y"
        }
       ],
       "layout": {
        "height": 600,
        "legend": {
         "tracegroupgap": 0
        },
        "margin": {
         "t": 60
        },
        "template": {
         "data": {
          "bar": [
           {
            "error_x": {
             "color": "#2a3f5f"
            },
            "error_y": {
             "color": "#2a3f5f"
            },
            "marker": {
             "line": {
              "color": "#E5ECF6",
              "width": 0.5
             }
            },
            "type": "bar"
           }
          ],
          "barpolar": [
           {
            "marker": {
             "line": {
              "color": "#E5ECF6",
              "width": 0.5
             }
            },
            "type": "barpolar"
           }
          ],
          "carpet": [
           {
            "aaxis": {
             "endlinecolor": "#2a3f5f",
             "gridcolor": "white",
             "linecolor": "white",
             "minorgridcolor": "white",
             "startlinecolor": "#2a3f5f"
            },
            "baxis": {
             "endlinecolor": "#2a3f5f",
             "gridcolor": "white",
             "linecolor": "white",
             "minorgridcolor": "white",
             "startlinecolor": "#2a3f5f"
            },
            "type": "carpet"
           }
          ],
          "choropleth": [
           {
            "colorbar": {
             "outlinewidth": 0,
             "ticks": ""
            },
            "type": "choropleth"
           }
          ],
          "contour": [
           {
            "colorbar": {
             "outlinewidth": 0,
             "ticks": ""
            },
            "colorscale": [
             [
              0,
              "#0d0887"
             ],
             [
              0.1111111111111111,
              "#46039f"
             ],
             [
              0.2222222222222222,
              "#7201a8"
             ],
             [
              0.3333333333333333,
              "#9c179e"
             ],
             [
              0.4444444444444444,
              "#bd3786"
             ],
             [
              0.5555555555555556,
              "#d8576b"
             ],
             [
              0.6666666666666666,
              "#ed7953"
             ],
             [
              0.7777777777777778,
              "#fb9f3a"
             ],
             [
              0.8888888888888888,
              "#fdca26"
             ],
             [
              1,
              "#f0f921"
             ]
            ],
            "type": "contour"
           }
          ],
          "contourcarpet": [
           {
            "colorbar": {
             "outlinewidth": 0,
             "ticks": ""
            },
            "type": "contourcarpet"
           }
          ],
          "heatmap": [
           {
            "colorbar": {
             "outlinewidth": 0,
             "ticks": ""
            },
            "colorscale": [
             [
              0,
              "#0d0887"
             ],
             [
              0.1111111111111111,
              "#46039f"
             ],
             [
              0.2222222222222222,
              "#7201a8"
             ],
             [
              0.3333333333333333,
              "#9c179e"
             ],
             [
              0.4444444444444444,
              "#bd3786"
             ],
             [
              0.5555555555555556,
              "#d8576b"
             ],
             [
              0.6666666666666666,
              "#ed7953"
             ],
             [
              0.7777777777777778,
              "#fb9f3a"
             ],
             [
              0.8888888888888888,
              "#fdca26"
             ],
             [
              1,
              "#f0f921"
             ]
            ],
            "type": "heatmap"
           }
          ],
          "heatmapgl": [
           {
            "colorbar": {
             "outlinewidth": 0,
             "ticks": ""
            },
            "colorscale": [
             [
              0,
              "#0d0887"
             ],
             [
              0.1111111111111111,
              "#46039f"
             ],
             [
              0.2222222222222222,
              "#7201a8"
             ],
             [
              0.3333333333333333,
              "#9c179e"
             ],
             [
              0.4444444444444444,
              "#bd3786"
             ],
             [
              0.5555555555555556,
              "#d8576b"
             ],
             [
              0.6666666666666666,
              "#ed7953"
             ],
             [
              0.7777777777777778,
              "#fb9f3a"
             ],
             [
              0.8888888888888888,
              "#fdca26"
             ],
             [
              1,
              "#f0f921"
             ]
            ],
            "type": "heatmapgl"
           }
          ],
          "histogram": [
           {
            "marker": {
             "colorbar": {
              "outlinewidth": 0,
              "ticks": ""
             }
            },
            "type": "histogram"
           }
          ],
          "histogram2d": [
           {
            "colorbar": {
             "outlinewidth": 0,
             "ticks": ""
            },
            "colorscale": [
             [
              0,
              "#0d0887"
             ],
             [
              0.1111111111111111,
              "#46039f"
             ],
             [
              0.2222222222222222,
              "#7201a8"
             ],
             [
              0.3333333333333333,
              "#9c179e"
             ],
             [
              0.4444444444444444,
              "#bd3786"
             ],
             [
              0.5555555555555556,
              "#d8576b"
             ],
             [
              0.6666666666666666,
              "#ed7953"
             ],
             [
              0.7777777777777778,
              "#fb9f3a"
             ],
             [
              0.8888888888888888,
              "#fdca26"
             ],
             [
              1,
              "#f0f921"
             ]
            ],
            "type": "histogram2d"
           }
          ],
          "histogram2dcontour": [
           {
            "colorbar": {
             "outlinewidth": 0,
             "ticks": ""
            },
            "colorscale": [
             [
              0,
              "#0d0887"
             ],
             [
              0.1111111111111111,
              "#46039f"
             ],
             [
              0.2222222222222222,
              "#7201a8"
             ],
             [
              0.3333333333333333,
              "#9c179e"
             ],
             [
              0.4444444444444444,
              "#bd3786"
             ],
             [
              0.5555555555555556,
              "#d8576b"
             ],
             [
              0.6666666666666666,
              "#ed7953"
             ],
             [
              0.7777777777777778,
              "#fb9f3a"
             ],
             [
              0.8888888888888888,
              "#fdca26"
             ],
             [
              1,
              "#f0f921"
             ]
            ],
            "type": "histogram2dcontour"
           }
          ],
          "mesh3d": [
           {
            "colorbar": {
             "outlinewidth": 0,
             "ticks": ""
            },
            "type": "mesh3d"
           }
          ],
          "parcoords": [
           {
            "line": {
             "colorbar": {
              "outlinewidth": 0,
              "ticks": ""
             }
            },
            "type": "parcoords"
           }
          ],
          "pie": [
           {
            "automargin": true,
            "type": "pie"
           }
          ],
          "scatter": [
           {
            "marker": {
             "colorbar": {
              "outlinewidth": 0,
              "ticks": ""
             }
            },
            "type": "scatter"
           }
          ],
          "scatter3d": [
           {
            "line": {
             "colorbar": {
              "outlinewidth": 0,
              "ticks": ""
             }
            },
            "marker": {
             "colorbar": {
              "outlinewidth": 0,
              "ticks": ""
             }
            },
            "type": "scatter3d"
           }
          ],
          "scattercarpet": [
           {
            "marker": {
             "colorbar": {
              "outlinewidth": 0,
              "ticks": ""
             }
            },
            "type": "scattercarpet"
           }
          ],
          "scattergeo": [
           {
            "marker": {
             "colorbar": {
              "outlinewidth": 0,
              "ticks": ""
             }
            },
            "type": "scattergeo"
           }
          ],
          "scattergl": [
           {
            "marker": {
             "colorbar": {
              "outlinewidth": 0,
              "ticks": ""
             }
            },
            "type": "scattergl"
           }
          ],
          "scattermapbox": [
           {
            "marker": {
             "colorbar": {
              "outlinewidth": 0,
              "ticks": ""
             }
            },
            "type": "scattermapbox"
           }
          ],
          "scatterpolar": [
           {
            "marker": {
             "colorbar": {
              "outlinewidth": 0,
              "ticks": ""
             }
            },
            "type": "scatterpolar"
           }
          ],
          "scatterpolargl": [
           {
            "marker": {
             "colorbar": {
              "outlinewidth": 0,
              "ticks": ""
             }
            },
            "type": "scatterpolargl"
           }
          ],
          "scatterternary": [
           {
            "marker": {
             "colorbar": {
              "outlinewidth": 0,
              "ticks": ""
             }
            },
            "type": "scatterternary"
           }
          ],
          "surface": [
           {
            "colorbar": {
             "outlinewidth": 0,
             "ticks": ""
            },
            "colorscale": [
             [
              0,
              "#0d0887"
             ],
             [
              0.1111111111111111,
              "#46039f"
             ],
             [
              0.2222222222222222,
              "#7201a8"
             ],
             [
              0.3333333333333333,
              "#9c179e"
             ],
             [
              0.4444444444444444,
              "#bd3786"
             ],
             [
              0.5555555555555556,
              "#d8576b"
             ],
             [
              0.6666666666666666,
              "#ed7953"
             ],
             [
              0.7777777777777778,
              "#fb9f3a"
             ],
             [
              0.8888888888888888,
              "#fdca26"
             ],
             [
              1,
              "#f0f921"
             ]
            ],
            "type": "surface"
           }
          ],
          "table": [
           {
            "cells": {
             "fill": {
              "color": "#EBF0F8"
             },
             "line": {
              "color": "white"
             }
            },
            "header": {
             "fill": {
              "color": "#C8D4E3"
             },
             "line": {
              "color": "white"
             }
            },
            "type": "table"
           }
          ]
         },
         "layout": {
          "annotationdefaults": {
           "arrowcolor": "#2a3f5f",
           "arrowhead": 0,
           "arrowwidth": 1
          },
          "coloraxis": {
           "colorbar": {
            "outlinewidth": 0,
            "ticks": ""
           }
          },
          "colorscale": {
           "diverging": [
            [
             0,
             "#8e0152"
            ],
            [
             0.1,
             "#c51b7d"
            ],
            [
             0.2,
             "#de77ae"
            ],
            [
             0.3,
             "#f1b6da"
            ],
            [
             0.4,
             "#fde0ef"
            ],
            [
             0.5,
             "#f7f7f7"
            ],
            [
             0.6,
             "#e6f5d0"
            ],
            [
             0.7,
             "#b8e186"
            ],
            [
             0.8,
             "#7fbc41"
            ],
            [
             0.9,
             "#4d9221"
            ],
            [
             1,
             "#276419"
            ]
           ],
           "sequential": [
            [
             0,
             "#0d0887"
            ],
            [
             0.1111111111111111,
             "#46039f"
            ],
            [
             0.2222222222222222,
             "#7201a8"
            ],
            [
             0.3333333333333333,
             "#9c179e"
            ],
            [
             0.4444444444444444,
             "#bd3786"
            ],
            [
             0.5555555555555556,
             "#d8576b"
            ],
            [
             0.6666666666666666,
             "#ed7953"
            ],
            [
             0.7777777777777778,
             "#fb9f3a"
            ],
            [
             0.8888888888888888,
             "#fdca26"
            ],
            [
             1,
             "#f0f921"
            ]
           ],
           "sequentialminus": [
            [
             0,
             "#0d0887"
            ],
            [
             0.1111111111111111,
             "#46039f"
            ],
            [
             0.2222222222222222,
             "#7201a8"
            ],
            [
             0.3333333333333333,
             "#9c179e"
            ],
            [
             0.4444444444444444,
             "#bd3786"
            ],
            [
             0.5555555555555556,
             "#d8576b"
            ],
            [
             0.6666666666666666,
             "#ed7953"
            ],
            [
             0.7777777777777778,
             "#fb9f3a"
            ],
            [
             0.8888888888888888,
             "#fdca26"
            ],
            [
             1,
             "#f0f921"
            ]
           ]
          },
          "colorway": [
           "#636efa",
           "#EF553B",
           "#00cc96",
           "#ab63fa",
           "#FFA15A",
           "#19d3f3",
           "#FF6692",
           "#B6E880",
           "#FF97FF",
           "#FECB52"
          ],
          "font": {
           "color": "#2a3f5f"
          },
          "geo": {
           "bgcolor": "white",
           "lakecolor": "white",
           "landcolor": "#E5ECF6",
           "showlakes": true,
           "showland": true,
           "subunitcolor": "white"
          },
          "hoverlabel": {
           "align": "left"
          },
          "hovermode": "closest",
          "mapbox": {
           "style": "light"
          },
          "paper_bgcolor": "white",
          "plot_bgcolor": "#E5ECF6",
          "polar": {
           "angularaxis": {
            "gridcolor": "white",
            "linecolor": "white",
            "ticks": ""
           },
           "bgcolor": "#E5ECF6",
           "radialaxis": {
            "gridcolor": "white",
            "linecolor": "white",
            "ticks": ""
           }
          },
          "scene": {
           "xaxis": {
            "backgroundcolor": "#E5ECF6",
            "gridcolor": "white",
            "gridwidth": 2,
            "linecolor": "white",
            "showbackground": true,
            "ticks": "",
            "zerolinecolor": "white"
           },
           "yaxis": {
            "backgroundcolor": "#E5ECF6",
            "gridcolor": "white",
            "gridwidth": 2,
            "linecolor": "white",
            "showbackground": true,
            "ticks": "",
            "zerolinecolor": "white"
           },
           "zaxis": {
            "backgroundcolor": "#E5ECF6",
            "gridcolor": "white",
            "gridwidth": 2,
            "linecolor": "white",
            "showbackground": true,
            "ticks": "",
            "zerolinecolor": "white"
           }
          },
          "shapedefaults": {
           "line": {
            "color": "#2a3f5f"
           }
          },
          "ternary": {
           "aaxis": {
            "gridcolor": "white",
            "linecolor": "white",
            "ticks": ""
           },
           "baxis": {
            "gridcolor": "white",
            "linecolor": "white",
            "ticks": ""
           },
           "bgcolor": "#E5ECF6",
           "caxis": {
            "gridcolor": "white",
            "linecolor": "white",
            "ticks": ""
           }
          },
          "title": {
           "x": 0.05
          },
          "xaxis": {
           "automargin": true,
           "gridcolor": "white",
           "linecolor": "white",
           "ticks": "",
           "title": {
            "standoff": 15
           },
           "zerolinecolor": "white",
           "zerolinewidth": 2
          },
          "yaxis": {
           "automargin": true,
           "gridcolor": "white",
           "linecolor": "white",
           "ticks": "",
           "title": {
            "standoff": 15
           },
           "zerolinecolor": "white",
           "zerolinewidth": 2
          }
         }
        },
        "title": {
         "text": "Max electricity consumption per day"
        },
        "xaxis": {
         "anchor": "y",
         "domain": [
          0,
          1
         ],
         "title": {
          "text": "date"
         }
        },
        "yaxis": {
         "anchor": "x",
         "domain": [
          0,
          1
         ],
         "title": {
          "text": "meter_reading-max"
         }
        }
       }
      },
      "text/html": [
       "<div>\n",
       "        \n",
       "        \n",
       "            <div id=\"61db4b02-ec80-43b3-bd0c-e360c345ddec\" class=\"plotly-graph-div\" style=\"height:600px; width:100%;\"></div>\n",
       "            <script type=\"text/javascript\">\n",
       "                require([\"plotly\"], function(Plotly) {\n",
       "                    window.PLOTLYENV=window.PLOTLYENV || {};\n",
       "                    \n",
       "                if (document.getElementById(\"61db4b02-ec80-43b3-bd0c-e360c345ddec\")) {\n",
       "                    Plotly.newPlot(\n",
       "                        '61db4b02-ec80-43b3-bd0c-e360c345ddec',\n",
       "                        [{\"hoverlabel\": {\"namelength\": 0}, \"hovertemplate\": \"building_id_max=803<br>date=%{x}<br>meter_reading-max=%{y}\", \"legendgroup\": \"building_id_max=803\", \"marker\": {\"color\": \"#636efa\", \"symbol\": \"circle\"}, \"mode\": \"markers\", \"name\": \"building_id_max=803\", \"showlegend\": true, \"type\": \"scatter\", \"x\": [\"2016-01-01\", \"2016-01-02\", \"2016-01-03\", \"2016-01-04\", \"2016-01-05\", \"2016-01-06\", \"2016-01-09\", \"2016-01-10\", \"2016-01-11\", \"2016-01-12\", \"2016-01-13\", \"2016-01-14\", \"2016-01-15\", \"2016-01-16\", \"2016-01-17\", \"2016-01-18\", \"2016-01-19\", \"2016-01-21\", \"2016-01-22\", \"2016-01-23\", \"2016-01-24\", \"2016-01-25\", \"2016-01-26\", \"2016-01-27\", \"2016-01-28\", \"2016-01-29\", \"2016-01-30\", \"2016-01-31\", \"2016-02-01\", \"2016-02-02\", \"2016-02-03\", \"2016-02-05\", \"2016-02-06\", \"2016-02-07\", \"2016-02-08\", \"2016-02-09\", \"2016-02-10\", \"2016-02-11\", \"2016-02-12\", \"2016-02-13\", \"2016-02-14\", \"2016-02-15\", \"2016-02-16\", \"2016-02-17\", \"2016-02-18\", \"2016-02-19\", \"2016-02-20\", \"2016-02-21\", \"2016-02-22\", \"2016-02-23\", \"2016-02-24\", \"2016-02-25\", \"2016-02-26\", \"2016-02-27\", \"2016-02-28\", \"2016-02-29\", \"2016-03-01\", \"2016-03-02\", \"2016-03-03\", \"2016-03-04\", \"2016-03-05\", \"2016-03-06\", \"2016-03-07\", \"2016-03-08\", \"2016-03-09\", \"2016-03-10\", \"2016-03-11\", \"2016-03-12\", \"2016-03-13\", \"2016-03-14\", \"2016-03-15\", \"2016-03-16\", \"2016-03-17\", \"2016-03-18\", \"2016-03-19\", \"2016-03-20\", \"2016-03-21\", \"2016-03-22\", \"2016-03-23\", \"2016-03-24\", \"2016-03-25\", \"2016-03-26\", \"2016-03-27\", \"2016-03-28\", \"2016-03-29\", \"2016-03-30\", \"2016-03-31\", \"2016-04-01\", \"2016-04-02\", \"2016-04-03\", \"2016-04-04\", \"2016-04-05\", \"2016-04-06\", \"2016-04-07\", \"2016-04-08\", \"2016-04-09\", \"2016-04-10\", \"2016-04-11\", \"2016-04-12\", \"2016-04-13\", \"2016-04-14\", \"2016-04-15\", \"2016-04-16\", \"2016-04-17\", \"2016-04-18\", \"2016-04-19\", \"2016-04-20\", \"2016-04-21\", \"2016-04-22\", \"2016-04-23\", \"2016-04-24\", \"2016-04-25\", \"2016-04-26\", \"2016-04-27\", \"2016-04-28\", \"2016-04-29\", \"2016-04-30\", \"2016-05-01\", \"2016-05-02\", \"2016-05-03\", \"2016-05-05\", \"2016-05-06\", \"2016-05-07\", \"2016-05-08\", \"2016-05-09\", \"2016-05-10\", \"2016-05-13\", \"2016-05-14\", \"2016-05-15\", \"2016-05-16\", \"2016-05-17\", \"2016-05-26\", \"2016-05-27\", \"2016-05-28\", \"2016-05-29\", \"2016-05-30\", \"2016-05-31\", \"2016-06-01\", \"2016-06-02\", \"2016-06-03\", \"2016-06-04\", \"2016-06-05\", \"2016-06-06\", \"2016-06-07\", \"2016-06-08\", \"2016-06-09\", \"2016-06-12\", \"2016-06-13\", \"2016-06-14\", \"2016-06-16\", \"2016-06-20\", \"2016-06-21\", \"2016-06-23\", \"2016-06-24\", \"2016-06-26\", \"2016-06-27\", \"2016-06-28\", \"2016-06-29\", \"2016-06-30\", \"2016-07-01\", \"2016-07-02\", \"2016-07-03\", \"2016-07-04\", \"2016-07-06\", \"2016-07-08\", \"2016-07-09\", \"2016-07-13\", \"2016-07-14\", \"2016-07-15\", \"2016-07-16\", \"2016-07-18\", \"2016-07-28\", \"2016-08-25\", \"2016-08-26\", \"2016-08-27\", \"2016-08-31\", \"2016-09-01\", \"2016-09-02\", \"2016-09-03\", \"2016-09-04\", \"2016-09-09\", \"2016-09-10\", \"2016-09-11\", \"2016-09-12\", \"2016-09-13\", \"2016-09-14\", \"2016-09-15\", \"2016-09-16\", \"2016-09-19\", \"2016-09-20\", \"2016-09-21\", \"2016-09-22\"], \"xaxis\": \"x\", \"y\": [116037.1796875, 115776.75, 115708.1328125, 124764.109375, 125209.890625, 124011.984375, 118570.7890625, 117448.8125, 124070.40625, 121459.3203125, 126254.421875, 128586.7734375, 127603.8515625, 120588.9609375, 120743.421875, 126620.7265625, 125967.734375, 126618.25, 124945.140625, 119935.8515625, 119221.0625, 125150.3828125, 125259.046875, 125045.796875, 126600.03125, 125555.578125, 117628.71875, 115951.7734375, 123925.53125, 125074.3515625, 125008.109375, 124499.9375, 118816.484375, 118853.8515625, 124876.6484375, 125992.6328125, 126481.5, 126912.03125, 127748.9296875, 120481.421875, 120797.4609375, 128238.7421875, 127155.0, 123829.2578125, 127269.546875, 128959.390625, 120526.4296875, 118246.0390625, 126742.640625, 128270.734375, 127252.625, 124162.28125, 123833.765625, 112359.6015625, 113623.0, 123645.53125, 125182.921875, 127168.75, 128633.5703125, 128281.6171875, 120916.4140625, 120418.7890625, 128303.71875, 127927.953125, 126435.140625, 125653.8515625, 125320.8984375, 119131.7421875, 117456.96875, 125142.953125, 126722.4296875, 122161.3828125, 124547.2109375, 114101.3125, 101685.65625, 119881.921875, 126979.3359375, 125117.6171875, 125501.5703125, 126409.2109375, 119145.703125, 118785.0078125, 118282.859375, 118812.21875, 126011.0, 126133.9453125, 124525.7890625, 124474.96875, 116522.3984375, 115894.3125, 124139.7421875, 125424.890625, 126059.078125, 125554.1796875, 125138.890625, 118088.7578125, 117777.921875, 124484.6328125, 124731.21875, 126590.484375, 127533.4921875, 126744.6875, 120074.046875, 119599.4765625, 126104.1875, 126655.953125, 124210.7109375, 125554.6875, 125953.84375, 116896.2890625, 118136.140625, 125494.7578125, 126191.8515625, 125299.7734375, 125712.53125, 125973.1796875, 120039.5390625, 118841.515625, 126339.65625, 123426.3515625, 123017.78125, 122609.9375, 112525.1953125, 112525.1953125, 120735.8828125, 121931.9140625, 123342.0859375, 112217.515625, 112217.515625, 122176.71875, 122524.0546875, 123169.78125, 124289.2890625, 110834.4375, 109675.0078125, 124672.828125, 124206.1875, 123910.0, 125537.140625, 126390.5546875, 113353.4375, 113353.4375, 125595.5859375, 126529.703125, 124092.453125, 123039.1953125, 111435.59375, 122961.15625, 123497.4921875, 128128.578125, 126769.7890625, 123321.5703125, 126813.1171875, 123551.5859375, 116951.28125, 127269.8515625, 125972.203125, 125439.3671875, 126767.7734375, 111827.28125, 111330.9609375, 111330.9609375, 125514.46875, 128328.609375, 124350.9609375, 113486.8828125, 130599.3359375, 127639.6484375, 126200.5546875, 114864.484375, 124870.90625, 126451.328125, 127580.515625, 126196.96875, 111788.15625, 127240.8671875, 127522.734375, 124092.3203125, 115874.8828125, 115874.8828125, 127301.59375, 115141.6796875, 112503.359375, 123004.3984375, 127196.6328125, 127544.0234375, 124657.9609375, 124044.3125, 123362.2734375, 129184.1875, 124272.140625, 128712.34375], \"yaxis\": \"y\"}, {\"hoverlabel\": {\"namelength\": 0}, \"hovertemplate\": \"building_id_max=801<br>date=%{x}<br>meter_reading-max=%{y}\", \"legendgroup\": \"building_id_max=801\", \"marker\": {\"color\": \"#EF553B\", \"symbol\": \"circle\"}, \"mode\": \"markers\", \"name\": \"building_id_max=801\", \"showlegend\": true, \"type\": \"scatter\", \"x\": [\"2016-01-07\", \"2016-01-08\", \"2016-01-20\", \"2016-02-04\", \"2016-05-04\", \"2016-05-11\", \"2016-05-12\", \"2016-05-18\", \"2016-05-19\", \"2016-05-20\", \"2016-05-21\", \"2016-05-22\", \"2016-05-23\", \"2016-05-24\", \"2016-05-25\", \"2016-06-15\", \"2016-07-29\", \"2016-08-05\", \"2016-08-06\", \"2016-08-07\", \"2016-08-20\", \"2016-08-21\", \"2016-08-22\", \"2016-09-08\", \"2016-09-17\", \"2016-09-18\", \"2016-09-23\", \"2016-09-24\", \"2016-09-26\", \"2016-09-27\", \"2016-09-28\", \"2016-09-29\", \"2016-09-30\", \"2016-10-01\", \"2016-10-02\", \"2016-10-03\", \"2016-10-04\", \"2016-10-05\", \"2016-10-06\", \"2016-10-07\", \"2016-10-08\", \"2016-10-09\", \"2016-10-11\", \"2016-10-12\", \"2016-10-13\", \"2016-10-14\", \"2016-10-15\", \"2016-10-16\", \"2016-10-18\", \"2016-10-19\", \"2016-10-20\", \"2016-10-21\", \"2016-10-22\", \"2016-10-23\", \"2016-10-24\", \"2016-10-25\", \"2016-10-26\", \"2016-10-27\", \"2016-10-28\", \"2016-10-29\", \"2016-10-30\", \"2016-10-31\", \"2016-11-01\", \"2016-11-02\", \"2016-11-03\"], \"xaxis\": \"x\", \"y\": [123691.7421875, 123572.5078125, 122806.9921875, 125935.71875, 123632.984375, 122696.21875, 123221.703125, 121138.1328125, 134834.515625, 146021.28125, 146021.28125, 146021.28125, 146021.28125, 146021.28125, 126416.4921875, 122380.109375, 117120.671875, 117000.296875, 94203.59375, 94203.59375, 92056.4921875, 94369.6796875, 116836.25, 131684.0, 93455.28125, 93455.28125, 114628.6484375, 92223.390625, 114897.7578125, 116011.7421875, 116776.0234375, 115625.0234375, 115016.40625, 94103.9140625, 92099.8828125, 115608.2734375, 115339.4375, 114634.109375, 115264.1875, 113421.0625, 93604.3203125, 88652.703125, 113382.5546875, 116309.2578125, 114230.21875, 111728.125, 91127.28125, 91127.28125, 112705.4921875, 114182.484375, 112747.125, 111735.4921875, 91160.8828125, 91160.8828125, 114356.46875, 113757.375, 114038.375, 112228.828125, 114083.765625, 84110.53125, 84594.2421875, 112630.9609375, 113861.96875, 114998.265625, 115744.03125], \"yaxis\": \"y\"}, {\"hoverlabel\": {\"namelength\": 0}, \"hovertemplate\": \"building_id_max=1088<br>date=%{x}<br>meter_reading-max=%{y}\", \"legendgroup\": \"building_id_max=1088\", \"marker\": {\"color\": \"#00cc96\", \"symbol\": \"circle\"}, \"mode\": \"markers\", \"name\": \"building_id_max=1088\", \"showlegend\": true, \"type\": \"scatter\", \"x\": [\"2016-06-10\", \"2016-06-11\", \"2016-06-17\", \"2016-06-18\", \"2016-06-19\", \"2016-06-22\", \"2016-06-25\", \"2016-07-05\", \"2016-07-07\", \"2016-07-10\", \"2016-07-11\", \"2016-07-12\", \"2016-07-17\", \"2016-07-19\", \"2016-07-20\", \"2016-07-21\", \"2016-07-22\", \"2016-07-23\", \"2016-07-24\", \"2016-07-25\", \"2016-07-26\", \"2016-07-27\", \"2016-07-30\", \"2016-07-31\", \"2016-08-01\", \"2016-08-02\", \"2016-08-03\", \"2016-08-04\", \"2016-08-08\", \"2016-08-09\", \"2016-08-10\", \"2016-08-11\", \"2016-08-12\", \"2016-08-13\", \"2016-08-14\", \"2016-08-15\", \"2016-08-16\", \"2016-08-17\", \"2016-08-18\", \"2016-08-19\", \"2016-08-23\", \"2016-08-24\", \"2016-08-28\", \"2016-08-29\", \"2016-08-30\", \"2016-09-05\", \"2016-09-06\", \"2016-09-07\", \"2016-09-25\"], \"xaxis\": \"x\", \"y\": [155194.0, 131835.0, 132756.0, 132246.0, 143928.0, 129699.0, 165567.0, 145648.0, 129443.0, 125758.0, 149119.0, 133618.0, 119099.0, 151034.0, 176935.0, 171451.0, 149902.0, 155407.0, 149734.0, 140482.0, 162123.0, 156457.0, 122639.0, 139379.796875, 163359.296875, 176402.703125, 172618.703125, 166365.40625, 131866.40625, 128729.0, 125162.8046875, 160751.296875, 159112.796875, 128230.3984375, 114827.203125, 127417.1015625, 145144.203125, 143629.59375, 159646.09375, 140442.90625, 144038.203125, 136448.0, 116425.5, 176217.296875, 126954.5, 145094.703125, 172186.90625, 158149.203125, 97083.3984375], \"yaxis\": \"y\"}, {\"hoverlabel\": {\"namelength\": 0}, \"hovertemplate\": \"building_id_max=794<br>date=%{x}<br>meter_reading-max=%{y}\", \"legendgroup\": \"building_id_max=794\", \"marker\": {\"color\": \"#ab63fa\", \"symbol\": \"circle\"}, \"mode\": \"markers\", \"name\": \"building_id_max=794\", \"showlegend\": true, \"type\": \"scatter\", \"x\": [\"2016-10-10\"], \"xaxis\": \"x\", \"y\": [95176.9921875], \"yaxis\": \"y\"}, {\"hoverlabel\": {\"namelength\": 0}, \"hovertemplate\": \"building_id_max=993<br>date=%{x}<br>meter_reading-max=%{y}\", \"legendgroup\": \"building_id_max=993\", \"marker\": {\"color\": \"#FFA15A\", \"symbol\": \"circle\"}, \"mode\": \"markers\", \"name\": \"building_id_max=993\", \"showlegend\": true, \"type\": \"scatter\", \"x\": [\"2016-10-17\"], \"xaxis\": \"x\", \"y\": [136362.0], \"yaxis\": \"y\"}, {\"hoverlabel\": {\"namelength\": 0}, \"hovertemplate\": \"building_id_max=799<br>date=%{x}<br>meter_reading-max=%{y}\", \"legendgroup\": \"building_id_max=799\", \"marker\": {\"color\": \"#19d3f3\", \"symbol\": \"circle\"}, \"mode\": \"markers\", \"name\": \"building_id_max=799\", \"showlegend\": true, \"type\": \"scatter\", \"x\": [\"2016-11-04\", \"2016-11-05\", \"2016-11-06\", \"2016-11-07\", \"2016-11-08\", \"2016-11-09\", \"2016-11-10\", \"2016-11-11\", \"2016-11-12\", \"2016-11-13\", \"2016-11-14\", \"2016-11-15\", \"2016-11-16\", \"2016-11-17\", \"2016-11-18\", \"2016-11-19\", \"2016-11-20\", \"2016-11-21\", \"2016-11-22\", \"2016-11-23\", \"2016-11-24\", \"2016-11-25\", \"2016-11-26\", \"2016-11-27\", \"2016-11-28\", \"2016-11-29\", \"2016-11-30\", \"2016-12-01\", \"2016-12-02\", \"2016-12-03\", \"2016-12-04\", \"2016-12-05\", \"2016-12-06\", \"2016-12-07\", \"2016-12-08\", \"2016-12-09\", \"2016-12-10\", \"2016-12-11\", \"2016-12-12\", \"2016-12-13\", \"2016-12-14\", \"2016-12-15\", \"2016-12-16\", \"2016-12-17\", \"2016-12-18\", \"2016-12-19\", \"2016-12-20\", \"2016-12-21\", \"2016-12-22\", \"2016-12-23\", \"2016-12-24\", \"2016-12-25\", \"2016-12-26\", \"2016-12-27\", \"2016-12-28\", \"2016-12-29\", \"2016-12-30\", \"2016-12-31\"], \"xaxis\": \"x\", \"y\": [236054.578125, 119524.4375, 124078.9375, 235987.078125, 235129.546875, 236568.625, 234862.21875, 187253.625, 122378.640625, 122378.640625, 233484.84375, 237107.171875, 238622.625, 238253.3125, 232123.71875, 112731.84375, 123684.0625, 240037.265625, 241309.328125, 243039.921875, 242491.5, 235386.75, 120940.0234375, 137149.921875, 242905.15625, 239200.15625, 241196.0625, 235803.71875, 233716.71875, 119686.703125, 137632.5625, 168646.078125, 236363.4375, 238944.859375, 240249.03125, 239289.65625, 134167.59375, 138370.328125, 239051.4375, 235883.421875, 243640.84375, 267015.3125, 285743.625, 225825.703125, 230459.28125, 286445.5, 288201.0, 285074.6875, 257199.0, 228776.71875, 119667.9453125, 132417.59375, 183613.59375, 182879.859375, 232612.421875, 233739.921875, 228336.0, 134388.28125], \"yaxis\": \"y\"}],\n",
       "                        {\"height\": 600, \"legend\": {\"tracegroupgap\": 0}, \"margin\": {\"t\": 60}, \"template\": {\"data\": {\"bar\": [{\"error_x\": {\"color\": \"#2a3f5f\"}, \"error_y\": {\"color\": \"#2a3f5f\"}, \"marker\": {\"line\": {\"color\": \"#E5ECF6\", \"width\": 0.5}}, \"type\": \"bar\"}], \"barpolar\": [{\"marker\": {\"line\": {\"color\": \"#E5ECF6\", \"width\": 0.5}}, \"type\": \"barpolar\"}], \"carpet\": [{\"aaxis\": {\"endlinecolor\": \"#2a3f5f\", \"gridcolor\": \"white\", \"linecolor\": \"white\", \"minorgridcolor\": \"white\", \"startlinecolor\": \"#2a3f5f\"}, \"baxis\": {\"endlinecolor\": \"#2a3f5f\", \"gridcolor\": \"white\", \"linecolor\": \"white\", \"minorgridcolor\": \"white\", \"startlinecolor\": \"#2a3f5f\"}, \"type\": \"carpet\"}], \"choropleth\": [{\"colorbar\": {\"outlinewidth\": 0, \"ticks\": \"\"}, \"type\": \"choropleth\"}], \"contour\": [{\"colorbar\": {\"outlinewidth\": 0, \"ticks\": \"\"}, \"colorscale\": [[0.0, \"#0d0887\"], [0.1111111111111111, \"#46039f\"], [0.2222222222222222, \"#7201a8\"], [0.3333333333333333, \"#9c179e\"], [0.4444444444444444, \"#bd3786\"], [0.5555555555555556, \"#d8576b\"], [0.6666666666666666, \"#ed7953\"], [0.7777777777777778, \"#fb9f3a\"], [0.8888888888888888, \"#fdca26\"], [1.0, \"#f0f921\"]], \"type\": \"contour\"}], \"contourcarpet\": [{\"colorbar\": {\"outlinewidth\": 0, \"ticks\": \"\"}, \"type\": \"contourcarpet\"}], \"heatmap\": [{\"colorbar\": {\"outlinewidth\": 0, \"ticks\": \"\"}, \"colorscale\": [[0.0, \"#0d0887\"], [0.1111111111111111, \"#46039f\"], [0.2222222222222222, \"#7201a8\"], [0.3333333333333333, \"#9c179e\"], [0.4444444444444444, \"#bd3786\"], [0.5555555555555556, \"#d8576b\"], [0.6666666666666666, \"#ed7953\"], [0.7777777777777778, \"#fb9f3a\"], [0.8888888888888888, \"#fdca26\"], [1.0, \"#f0f921\"]], \"type\": \"heatmap\"}], \"heatmapgl\": [{\"colorbar\": {\"outlinewidth\": 0, \"ticks\": \"\"}, \"colorscale\": [[0.0, \"#0d0887\"], [0.1111111111111111, \"#46039f\"], [0.2222222222222222, \"#7201a8\"], [0.3333333333333333, \"#9c179e\"], [0.4444444444444444, \"#bd3786\"], [0.5555555555555556, \"#d8576b\"], [0.6666666666666666, \"#ed7953\"], [0.7777777777777778, \"#fb9f3a\"], [0.8888888888888888, \"#fdca26\"], [1.0, \"#f0f921\"]], \"type\": \"heatmapgl\"}], \"histogram\": [{\"marker\": {\"colorbar\": {\"outlinewidth\": 0, \"ticks\": \"\"}}, \"type\": \"histogram\"}], \"histogram2d\": [{\"colorbar\": {\"outlinewidth\": 0, \"ticks\": \"\"}, \"colorscale\": [[0.0, \"#0d0887\"], [0.1111111111111111, \"#46039f\"], [0.2222222222222222, \"#7201a8\"], [0.3333333333333333, \"#9c179e\"], [0.4444444444444444, \"#bd3786\"], [0.5555555555555556, \"#d8576b\"], [0.6666666666666666, \"#ed7953\"], [0.7777777777777778, \"#fb9f3a\"], [0.8888888888888888, \"#fdca26\"], [1.0, \"#f0f921\"]], \"type\": \"histogram2d\"}], \"histogram2dcontour\": [{\"colorbar\": {\"outlinewidth\": 0, \"ticks\": \"\"}, \"colorscale\": [[0.0, \"#0d0887\"], [0.1111111111111111, \"#46039f\"], [0.2222222222222222, \"#7201a8\"], [0.3333333333333333, \"#9c179e\"], [0.4444444444444444, \"#bd3786\"], [0.5555555555555556, \"#d8576b\"], [0.6666666666666666, \"#ed7953\"], [0.7777777777777778, \"#fb9f3a\"], [0.8888888888888888, \"#fdca26\"], [1.0, \"#f0f921\"]], \"type\": \"histogram2dcontour\"}], \"mesh3d\": [{\"colorbar\": {\"outlinewidth\": 0, \"ticks\": \"\"}, \"type\": \"mesh3d\"}], \"parcoords\": [{\"line\": {\"colorbar\": {\"outlinewidth\": 0, \"ticks\": \"\"}}, \"type\": \"parcoords\"}], \"pie\": [{\"automargin\": true, \"type\": \"pie\"}], \"scatter\": [{\"marker\": {\"colorbar\": {\"outlinewidth\": 0, \"ticks\": \"\"}}, \"type\": \"scatter\"}], \"scatter3d\": [{\"line\": {\"colorbar\": {\"outlinewidth\": 0, \"ticks\": \"\"}}, \"marker\": {\"colorbar\": {\"outlinewidth\": 0, \"ticks\": \"\"}}, \"type\": \"scatter3d\"}], \"scattercarpet\": [{\"marker\": {\"colorbar\": {\"outlinewidth\": 0, \"ticks\": \"\"}}, \"type\": \"scattercarpet\"}], \"scattergeo\": [{\"marker\": {\"colorbar\": {\"outlinewidth\": 0, \"ticks\": \"\"}}, \"type\": \"scattergeo\"}], \"scattergl\": [{\"marker\": {\"colorbar\": {\"outlinewidth\": 0, \"ticks\": \"\"}}, \"type\": \"scattergl\"}], \"scattermapbox\": [{\"marker\": {\"colorbar\": {\"outlinewidth\": 0, \"ticks\": \"\"}}, \"type\": \"scattermapbox\"}], \"scatterpolar\": [{\"marker\": {\"colorbar\": {\"outlinewidth\": 0, \"ticks\": \"\"}}, \"type\": \"scatterpolar\"}], \"scatterpolargl\": [{\"marker\": {\"colorbar\": {\"outlinewidth\": 0, \"ticks\": \"\"}}, \"type\": \"scatterpolargl\"}], \"scatterternary\": [{\"marker\": {\"colorbar\": {\"outlinewidth\": 0, \"ticks\": \"\"}}, \"type\": \"scatterternary\"}], \"surface\": [{\"colorbar\": {\"outlinewidth\": 0, \"ticks\": \"\"}, \"colorscale\": [[0.0, \"#0d0887\"], [0.1111111111111111, \"#46039f\"], [0.2222222222222222, \"#7201a8\"], [0.3333333333333333, \"#9c179e\"], [0.4444444444444444, \"#bd3786\"], [0.5555555555555556, \"#d8576b\"], [0.6666666666666666, \"#ed7953\"], [0.7777777777777778, \"#fb9f3a\"], [0.8888888888888888, \"#fdca26\"], [1.0, \"#f0f921\"]], \"type\": \"surface\"}], \"table\": [{\"cells\": {\"fill\": {\"color\": \"#EBF0F8\"}, \"line\": {\"color\": \"white\"}}, \"header\": {\"fill\": {\"color\": \"#C8D4E3\"}, \"line\": {\"color\": \"white\"}}, \"type\": \"table\"}]}, \"layout\": {\"annotationdefaults\": {\"arrowcolor\": \"#2a3f5f\", \"arrowhead\": 0, \"arrowwidth\": 1}, \"coloraxis\": {\"colorbar\": {\"outlinewidth\": 0, \"ticks\": \"\"}}, \"colorscale\": {\"diverging\": [[0, \"#8e0152\"], [0.1, \"#c51b7d\"], [0.2, \"#de77ae\"], [0.3, \"#f1b6da\"], [0.4, \"#fde0ef\"], [0.5, \"#f7f7f7\"], [0.6, \"#e6f5d0\"], [0.7, \"#b8e186\"], [0.8, \"#7fbc41\"], [0.9, \"#4d9221\"], [1, \"#276419\"]], \"sequential\": [[0.0, \"#0d0887\"], [0.1111111111111111, \"#46039f\"], [0.2222222222222222, \"#7201a8\"], [0.3333333333333333, \"#9c179e\"], [0.4444444444444444, \"#bd3786\"], [0.5555555555555556, \"#d8576b\"], [0.6666666666666666, \"#ed7953\"], [0.7777777777777778, \"#fb9f3a\"], [0.8888888888888888, \"#fdca26\"], [1.0, \"#f0f921\"]], \"sequentialminus\": [[0.0, \"#0d0887\"], [0.1111111111111111, \"#46039f\"], [0.2222222222222222, \"#7201a8\"], [0.3333333333333333, \"#9c179e\"], [0.4444444444444444, \"#bd3786\"], [0.5555555555555556, \"#d8576b\"], [0.6666666666666666, \"#ed7953\"], [0.7777777777777778, \"#fb9f3a\"], [0.8888888888888888, \"#fdca26\"], [1.0, \"#f0f921\"]]}, \"colorway\": [\"#636efa\", \"#EF553B\", \"#00cc96\", \"#ab63fa\", \"#FFA15A\", \"#19d3f3\", \"#FF6692\", \"#B6E880\", \"#FF97FF\", \"#FECB52\"], \"font\": {\"color\": \"#2a3f5f\"}, \"geo\": {\"bgcolor\": \"white\", \"lakecolor\": \"white\", \"landcolor\": \"#E5ECF6\", \"showlakes\": true, \"showland\": true, \"subunitcolor\": \"white\"}, \"hoverlabel\": {\"align\": \"left\"}, \"hovermode\": \"closest\", \"mapbox\": {\"style\": \"light\"}, \"paper_bgcolor\": \"white\", \"plot_bgcolor\": \"#E5ECF6\", \"polar\": {\"angularaxis\": {\"gridcolor\": \"white\", \"linecolor\": \"white\", \"ticks\": \"\"}, \"bgcolor\": \"#E5ECF6\", \"radialaxis\": {\"gridcolor\": \"white\", \"linecolor\": \"white\", \"ticks\": \"\"}}, \"scene\": {\"xaxis\": {\"backgroundcolor\": \"#E5ECF6\", \"gridcolor\": \"white\", \"gridwidth\": 2, \"linecolor\": \"white\", \"showbackground\": true, \"ticks\": \"\", \"zerolinecolor\": \"white\"}, \"yaxis\": {\"backgroundcolor\": \"#E5ECF6\", \"gridcolor\": \"white\", \"gridwidth\": 2, \"linecolor\": \"white\", \"showbackground\": true, \"ticks\": \"\", \"zerolinecolor\": \"white\"}, \"zaxis\": {\"backgroundcolor\": \"#E5ECF6\", \"gridcolor\": \"white\", \"gridwidth\": 2, \"linecolor\": \"white\", \"showbackground\": true, \"ticks\": \"\", \"zerolinecolor\": \"white\"}}, \"shapedefaults\": {\"line\": {\"color\": \"#2a3f5f\"}}, \"ternary\": {\"aaxis\": {\"gridcolor\": \"white\", \"linecolor\": \"white\", \"ticks\": \"\"}, \"baxis\": {\"gridcolor\": \"white\", \"linecolor\": \"white\", \"ticks\": \"\"}, \"bgcolor\": \"#E5ECF6\", \"caxis\": {\"gridcolor\": \"white\", \"linecolor\": \"white\", \"ticks\": \"\"}}, \"title\": {\"x\": 0.05}, \"xaxis\": {\"automargin\": true, \"gridcolor\": \"white\", \"linecolor\": \"white\", \"ticks\": \"\", \"title\": {\"standoff\": 15}, \"zerolinecolor\": \"white\", \"zerolinewidth\": 2}, \"yaxis\": {\"automargin\": true, \"gridcolor\": \"white\", \"linecolor\": \"white\", \"ticks\": \"\", \"title\": {\"standoff\": 15}, \"zerolinecolor\": \"white\", \"zerolinewidth\": 2}}}, \"title\": {\"text\": \"Max electricity consumption per day\"}, \"xaxis\": {\"anchor\": \"y\", \"domain\": [0.0, 1.0], \"title\": {\"text\": \"date\"}}, \"yaxis\": {\"anchor\": \"x\", \"domain\": [0.0, 1.0], \"title\": {\"text\": \"meter_reading-max\"}}},\n",
       "                        {\"responsive\": true}\n",
       "                    ).then(function(){\n",
       "                            \n",
       "var gd = document.getElementById('61db4b02-ec80-43b3-bd0c-e360c345ddec');\n",
       "var x = new MutationObserver(function (mutations, observer) {{\n",
       "        var display = window.getComputedStyle(gd).display;\n",
       "        if (!display || display === 'none') {{\n",
       "            console.log([gd, 'removed!']);\n",
       "            Plotly.purge(gd);\n",
       "            observer.disconnect();\n",
       "        }}\n",
       "}});\n",
       "\n",
       "// Listen for the removal of the full notebook cells\n",
       "var notebookContainer = gd.closest('#notebook-container');\n",
       "if (notebookContainer) {{\n",
       "    x.observe(notebookContainer, {childList: true});\n",
       "}}\n",
       "\n",
       "// Listen for the clearing of the current output cell\n",
       "var outputEl = gd.closest('.output');\n",
       "if (outputEl) {{\n",
       "    x.observe(outputEl, {childList: true});\n",
       "}}\n",
       "\n",
       "                        })\n",
       "                };\n",
       "                });\n",
       "            </script>\n",
       "        </div>"
      ]
     },
     "metadata": {},
     "output_type": "display_data"
    }
   ],
   "source": [
    "electricity = train_group_agg[train_group_agg['meter']=='electricity'].copy()\n",
    "electricity['building_id_max'] = pd.Categorical(electricity['building_id_max'])\n",
    "electricity_graph = px.scatter(electricity, x='date', y='meter_reading-max', color='building_id_max')\n",
    "electricity_graph.update_layout(title='Max electricity consumption per day')"
   ]
  },
  {
   "cell_type": "code",
   "execution_count": 32,
   "metadata": {},
   "outputs": [
    {
     "data": {
      "application/vnd.plotly.v1+json": {
       "config": {
        "plotlyServerURL": "https://plot.ly"
       },
       "data": [
        {
         "hoverlabel": {
          "namelength": 0
         },
         "hovertemplate": "building_id_max=1289<br>date=%{x}<br>meter_reading-max=%{y}",
         "legendgroup": "building_id_max=1289",
         "marker": {
          "color": "#636efa",
          "symbol": "circle"
         },
         "mode": "markers",
         "name": "building_id_max=1289",
         "showlegend": true,
         "type": "scatter",
         "x": [
          "2016-01-01",
          "2016-01-02",
          "2016-01-08",
          "2016-01-09",
          "2016-01-10",
          "2016-01-16",
          "2016-01-24",
          "2016-01-25",
          "2016-01-26",
          "2016-01-27",
          "2016-01-31",
          "2016-02-01",
          "2016-02-02",
          "2016-02-03",
          "2016-02-04",
          "2016-02-05",
          "2016-02-09",
          "2016-02-15",
          "2016-02-16",
          "2016-02-17",
          "2016-02-21",
          "2016-02-22",
          "2016-02-25",
          "2016-03-21",
          "2016-05-06",
          "2016-10-21",
          "2016-10-22",
          "2016-10-23",
          "2016-10-24",
          "2016-10-25",
          "2016-10-26",
          "2016-10-27",
          "2016-10-28",
          "2016-10-29",
          "2016-10-30",
          "2016-10-31",
          "2016-11-01",
          "2016-11-02"
         ],
         "xaxis": "x",
         "y": [
          104211.6484375,
          98187.2578125,
          97712.578125,
          100240.59375,
          106336.1484375,
          103261.71875,
          112180.3203125,
          101584.8125,
          110577.9609375,
          107868.3671875,
          103568.8125,
          115845.5078125,
          97456.1875,
          94662.7421875,
          115146.7109375,
          91145.421875,
          85415.4375,
          121840.453125,
          110265.9921875,
          136586.296875,
          90408.3203125,
          79857.6171875,
          84636.8515625,
          88167.6484375,
          98842.5078125,
          348905.40625,
          274496.09375,
          273095.8125,
          293989.21875,
          280975.59375,
          261275.984375,
          263925.65625,
          302929.0625,
          287331.0625,
          332632,
          289850.4375,
          261397.28125,
          283526.40625
         ],
         "yaxis": "y"
        },
        {
         "hoverlabel": {
          "namelength": 0
         },
         "hovertemplate": "building_id_max=1258<br>date=%{x}<br>meter_reading-max=%{y}",
         "legendgroup": "building_id_max=1258",
         "marker": {
          "color": "#EF553B",
          "symbol": "circle"
         },
         "mode": "markers",
         "name": "building_id_max=1258",
         "showlegend": true,
         "type": "scatter",
         "x": [
          "2016-01-03",
          "2016-01-04",
          "2016-01-05",
          "2016-01-06",
          "2016-01-07",
          "2016-01-11",
          "2016-01-12",
          "2016-01-13",
          "2016-01-14",
          "2016-01-15",
          "2016-01-17",
          "2016-01-18",
          "2016-01-19",
          "2016-01-20",
          "2016-01-21",
          "2016-01-22",
          "2016-01-23",
          "2016-01-28",
          "2016-01-29",
          "2016-01-30",
          "2016-02-06",
          "2016-02-07",
          "2016-02-08",
          "2016-02-10",
          "2016-02-11",
          "2016-02-12",
          "2016-02-13",
          "2016-02-14",
          "2016-02-18",
          "2016-02-19",
          "2016-02-20",
          "2016-02-23",
          "2016-02-24",
          "2016-02-26",
          "2016-02-27",
          "2016-02-28",
          "2016-03-03",
          "2016-03-04",
          "2016-11-20",
          "2016-11-21",
          "2016-12-30"
         ],
         "xaxis": "x",
         "y": [
          83892.1171875,
          96508.4609375,
          102095.8671875,
          100346.140625,
          102379.8984375,
          99075.9609375,
          103098.5390625,
          102968.703125,
          101656.921875,
          105336.9375,
          95785.4921875,
          106978.3984375,
          115307.546875,
          113722.921875,
          109357.4921875,
          111412.015625,
          105682.6328125,
          92198.421875,
          92291.640625,
          96896.7890625,
          98522.59375,
          94922.859375,
          98183.3828125,
          113251.1875,
          112252.0625,
          111965.046875,
          113615.0625,
          109386.9921875,
          99045.578125,
          103194.0625,
          91161.5,
          77367.0390625,
          89705.796875,
          86410.5234375,
          102276.828125,
          91317.390625,
          104385.828125,
          100097.5078125,
          81083.1875,
          77079.2265625,
          81500.9765625
         ],
         "yaxis": "y"
        },
        {
         "hoverlabel": {
          "namelength": 0
         },
         "hovertemplate": "building_id_max=1284<br>date=%{x}<br>meter_reading-max=%{y}",
         "legendgroup": "building_id_max=1284",
         "marker": {
          "color": "#00cc96",
          "symbol": "circle"
         },
         "mode": "markers",
         "name": "building_id_max=1284",
         "showlegend": true,
         "type": "scatter",
         "x": [
          "2016-02-29",
          "2016-03-08",
          "2016-03-09",
          "2016-03-10",
          "2016-03-11",
          "2016-03-17",
          "2016-03-23",
          "2016-03-25",
          "2016-04-01",
          "2016-04-04",
          "2016-04-12",
          "2016-04-18",
          "2016-04-19",
          "2016-04-20",
          "2016-04-21",
          "2016-04-22",
          "2016-04-23",
          "2016-04-25",
          "2016-04-26",
          "2016-04-27",
          "2016-05-02",
          "2016-05-03",
          "2016-05-08",
          "2016-05-11",
          "2016-05-12",
          "2016-05-13",
          "2016-05-24",
          "2016-05-25",
          "2016-05-26",
          "2016-05-27",
          "2016-05-28",
          "2016-05-29",
          "2016-05-30",
          "2016-05-31",
          "2016-06-01",
          "2016-06-02",
          "2016-06-03",
          "2016-06-04",
          "2016-06-05",
          "2016-06-06",
          "2016-06-07",
          "2016-06-10",
          "2016-06-11",
          "2016-06-12",
          "2016-06-14",
          "2016-06-15",
          "2016-06-16",
          "2016-06-17",
          "2016-06-18",
          "2016-06-19",
          "2016-06-20",
          "2016-06-21",
          "2016-06-22",
          "2016-06-23",
          "2016-06-24",
          "2016-06-25",
          "2016-06-26",
          "2016-06-27",
          "2016-06-28",
          "2016-06-29",
          "2016-06-30",
          "2016-07-01",
          "2016-07-02",
          "2016-07-03",
          "2016-07-04",
          "2016-07-05",
          "2016-07-06",
          "2016-07-07",
          "2016-07-08",
          "2016-07-09",
          "2016-07-10",
          "2016-07-11",
          "2016-07-12",
          "2016-07-13",
          "2016-07-14",
          "2016-07-15",
          "2016-07-16",
          "2016-07-17",
          "2016-07-18",
          "2016-07-19",
          "2016-07-20",
          "2016-07-21",
          "2016-07-22",
          "2016-07-23",
          "2016-07-24",
          "2016-07-25",
          "2016-07-26",
          "2016-07-27",
          "2016-07-28",
          "2016-07-29",
          "2016-07-30",
          "2016-07-31",
          "2016-08-01",
          "2016-08-02",
          "2016-08-03",
          "2016-08-04",
          "2016-08-05",
          "2016-08-06",
          "2016-08-07",
          "2016-08-08",
          "2016-08-09",
          "2016-08-10",
          "2016-08-11",
          "2016-08-13",
          "2016-08-14",
          "2016-08-15",
          "2016-08-16",
          "2016-08-17",
          "2016-08-18",
          "2016-08-19",
          "2016-08-20",
          "2016-08-21",
          "2016-08-22",
          "2016-08-23",
          "2016-08-24",
          "2016-08-25",
          "2016-08-26",
          "2016-08-27",
          "2016-08-28",
          "2016-08-29",
          "2016-08-30",
          "2016-08-31",
          "2016-09-01",
          "2016-09-02",
          "2016-09-03",
          "2016-09-04",
          "2016-09-05",
          "2016-09-06",
          "2016-09-07",
          "2016-10-07",
          "2016-10-08",
          "2016-10-20",
          "2016-11-03",
          "2016-11-30"
         ],
         "xaxis": "x",
         "y": [
          104348.3984375,
          156296.90625,
          166348.828125,
          225960.609375,
          229909.375,
          179753.875,
          165185.828125,
          231304.609375,
          319372.40625,
          122832.15625,
          189618.328125,
          177865.359375,
          219407.90625,
          180391.140625,
          161315.84375,
          271357.96875,
          213581.5625,
          176571.421875,
          289876.65625,
          302997.3125,
          271027.40625,
          301550.40625,
          174416.140625,
          239128.234375,
          271229.0625,
          332613.8125,
          228131.390625,
          270017.03125,
          369852.21875,
          464986.6875,
          469609.59375,
          330571.3125,
          371130.8125,
          471941.1875,
          458366.8125,
          501886.59375,
          487982.8125,
          534928.625,
          487022.90625,
          436056.09375,
          418717.8125,
          263187.9375,
          436761.5,
          465104.59375,
          328463,
          429992.40625,
          550275.8125,
          397377.8125,
          299767.15625,
          262189.5625,
          313534.96875,
          523213.59375,
          459958.40625,
          469350.6875,
          475776.5,
          470553,
          393405.8125,
          452794.8125,
          548723,
          409251.90625,
          342225.59375,
          488439.1875,
          425727.40625,
          345800.3125,
          398988.3125,
          581785.125,
          624582.375,
          627984.375,
          574018.625,
          518359.1875,
          415491.3125,
          456943.09375,
          569335.625,
          586620.1875,
          564143.875,
          594886.625,
          529485,
          521241.625,
          577777.625,
          608947.5,
          476608.40625,
          501685.1875,
          561564.375,
          608201.125,
          640881.875,
          701327.3125,
          680336.5,
          659757.125,
          656163.875,
          581088.375,
          619364.6875,
          571344.375,
          573112,
          611221.625,
          569774.375,
          494660.5,
          551058.8125,
          645979.8125,
          514004.59375,
          435329.6875,
          399187.1875,
          578005.5,
          458355.09375,
          724128,
          706757.625,
          635522.6875,
          632153.6875,
          643224,
          591781.8125,
          583544,
          592207.1875,
          513412.1875,
          355803.90625,
          396511.59375,
          445367,
          557223.5,
          666586.375,
          610968.3125,
          514114.1875,
          522779.6875,
          548837.1875,
          602067.1875,
          537102.3125,
          369102.8125,
          295406.65625,
          327478.09375,
          300677.40625,
          402520.09375,
          502693.78125,
          272972.15625,
          315179.59375,
          487666,
          234313.1875,
          232165.3125
         ],
         "yaxis": "y"
        },
        {
         "hoverlabel": {
          "namelength": 0
         },
         "hovertemplate": "building_id_max=29<br>date=%{x}<br>meter_reading-max=%{y}",
         "legendgroup": "building_id_max=29",
         "marker": {
          "color": "#ab63fa",
          "symbol": "circle"
         },
         "mode": "markers",
         "name": "building_id_max=29",
         "showlegend": true,
         "type": "scatter",
         "x": [
          "2016-03-01",
          "2016-03-05",
          "2016-03-06",
          "2016-03-07",
          "2016-03-22",
          "2016-04-03",
          "2016-04-05",
          "2016-04-09",
          "2016-04-10",
          "2016-05-07"
         ],
         "xaxis": "x",
         "y": [
          104259.578125,
          94720.0390625,
          94002.4609375,
          96450.640625,
          91512.0703125,
          94129.1015625,
          101938,
          93664.7890625,
          95099.9296875,
          98096.859375
         ],
         "yaxis": "y"
        },
        {
         "hoverlabel": {
          "namelength": 0
         },
         "hovertemplate": "building_id_max=76<br>date=%{x}<br>meter_reading-max=%{y}",
         "legendgroup": "building_id_max=76",
         "marker": {
          "color": "#FFA15A",
          "symbol": "circle"
         },
         "mode": "markers",
         "name": "building_id_max=76",
         "showlegend": true,
         "type": "scatter",
         "x": [
          "2016-03-02",
          "2016-03-12",
          "2016-03-13",
          "2016-03-14",
          "2016-03-15",
          "2016-03-16",
          "2016-03-18",
          "2016-03-19",
          "2016-03-20",
          "2016-03-24",
          "2016-03-26",
          "2016-03-27",
          "2016-03-28",
          "2016-03-29",
          "2016-03-30",
          "2016-03-31",
          "2016-04-02",
          "2016-04-06",
          "2016-04-07",
          "2016-04-08",
          "2016-04-11",
          "2016-04-13",
          "2016-04-14",
          "2016-04-15",
          "2016-04-24",
          "2016-04-28",
          "2016-04-29",
          "2016-04-30",
          "2016-05-04",
          "2016-05-05",
          "2016-05-09",
          "2016-05-10",
          "2016-05-14",
          "2016-05-15",
          "2016-05-16",
          "2016-05-17",
          "2016-05-18",
          "2016-05-19",
          "2016-05-20",
          "2016-05-21",
          "2016-05-22",
          "2016-05-23",
          "2016-06-08",
          "2016-06-09",
          "2016-06-13",
          "2016-08-12",
          "2016-10-05",
          "2016-10-06",
          "2016-10-09",
          "2016-11-04",
          "2016-11-05",
          "2016-11-06",
          "2016-11-07",
          "2016-11-08",
          "2016-11-09",
          "2016-11-10",
          "2016-11-11",
          "2016-11-12",
          "2016-11-13",
          "2016-11-14",
          "2016-11-15",
          "2016-11-18",
          "2016-11-19",
          "2016-11-22",
          "2016-11-23",
          "2016-11-24",
          "2016-11-25",
          "2016-11-26",
          "2016-11-27",
          "2016-11-28",
          "2016-12-01",
          "2016-12-02",
          "2016-12-03",
          "2016-12-04",
          "2016-12-05",
          "2016-12-06",
          "2016-12-07",
          "2016-12-15",
          "2016-12-16",
          "2016-12-17",
          "2016-12-18",
          "2016-12-19",
          "2016-12-20",
          "2016-12-21",
          "2016-12-22",
          "2016-12-23",
          "2016-12-24",
          "2016-12-25",
          "2016-12-26",
          "2016-12-27",
          "2016-12-28",
          "2016-12-29"
         ],
         "xaxis": "x",
         "y": [
          118062.3671875,
          165253.53125,
          172640.390625,
          197460.046875,
          185219.015625,
          183192.921875,
          157317.984375,
          163269.671875,
          155080.875,
          145372.484375,
          200288.25,
          228062.59375,
          218016.515625,
          186189.890625,
          152801.453125,
          190284.328125,
          217509.984375,
          96957.2109375,
          122621.0703125,
          126208.9921875,
          119877.3984375,
          175848.34375,
          185472.296875,
          173948.859375,
          170951.953125,
          200499.265625,
          222406.40625,
          212275.875,
          194252.0625,
          106581.140625,
          137563.53125,
          167870.59375,
          204804.671875,
          165886.71875,
          216961.3125,
          249674.375,
          233254.546875,
          250012.125,
          239586.140625,
          228146.84375,
          198346.5,
          165464.609375,
          277533,
          264363.3125,
          272721.1875,
          308346.59375,
          287368.03125,
          288887.6875,
          215357.28125,
          197206.78125,
          170107.75,
          174750.875,
          157191.375,
          142924.28125,
          158964.203125,
          141320.265625,
          113208.1796875,
          107805.25,
          157318,
          166562.046875,
          119286.5,
          137985.65625,
          139336.40625,
          89950.2734375,
          136508.296875,
          142417.734375,
          152210.546875,
          116542.828125,
          92778.34375,
          129839.09375,
          194167.53125,
          81550.3984375,
          96324.0625,
          147187.5625,
          209194.703125,
          228991.234375,
          139716.265625,
          148622.65625,
          120510.5625,
          187540.609375,
          239628.15625,
          248281.375,
          163269.671875,
          105568.109375,
          105568.09375,
          141573.546875,
          180575.90625,
          202356.4375,
          206070.953125,
          172387.078125,
          167448.515625,
          144781.515625
         ],
         "yaxis": "y"
        },
        {
         "hoverlabel": {
          "namelength": 0
         },
         "hovertemplate": "building_id_max=1156<br>date=%{x}<br>meter_reading-max=%{y}",
         "legendgroup": "building_id_max=1156",
         "marker": {
          "color": "#19d3f3",
          "symbol": "circle"
         },
         "mode": "markers",
         "name": "building_id_max=1156",
         "showlegend": true,
         "type": "scatter",
         "x": [
          "2016-04-16",
          "2016-04-17"
         ],
         "xaxis": "x",
         "y": [
          173774.515625,
          187952.765625
         ],
         "yaxis": "y"
        },
        {
         "hoverlabel": {
          "namelength": 0
         },
         "hovertemplate": "building_id_max=60<br>date=%{x}<br>meter_reading-max=%{y}",
         "legendgroup": "building_id_max=60",
         "marker": {
          "color": "#FF6692",
          "symbol": "circle"
         },
         "mode": "markers",
         "name": "building_id_max=60",
         "showlegend": true,
         "type": "scatter",
         "x": [
          "2016-05-01"
         ],
         "xaxis": "x",
         "y": [
          229341.734375
         ],
         "yaxis": "y"
        },
        {
         "hoverlabel": {
          "namelength": 0
         },
         "hovertemplate": "building_id_max=778<br>date=%{x}<br>meter_reading-max=%{y}",
         "legendgroup": "building_id_max=778",
         "marker": {
          "color": "#B6E880",
          "symbol": "circle"
         },
         "mode": "markers",
         "name": "building_id_max=778",
         "showlegend": true,
         "type": "scatter",
         "x": [
          "2016-09-08",
          "2016-09-09",
          "2016-09-10",
          "2016-09-11",
          "2016-09-12",
          "2016-09-13",
          "2016-09-14",
          "2016-09-15",
          "2016-09-16",
          "2016-09-17",
          "2016-09-18",
          "2016-09-19",
          "2016-09-20",
          "2016-09-21",
          "2016-09-22",
          "2016-09-23",
          "2016-09-24",
          "2016-09-25",
          "2016-09-26",
          "2016-09-27",
          "2016-09-28",
          "2016-09-29",
          "2016-09-30",
          "2016-10-01",
          "2016-10-02",
          "2016-10-03",
          "2016-10-04",
          "2016-10-10",
          "2016-10-11",
          "2016-10-12",
          "2016-10-13",
          "2016-10-14",
          "2016-10-15",
          "2016-10-16",
          "2016-10-17",
          "2016-10-18",
          "2016-10-19"
         ],
         "xaxis": "x",
         "y": [
          10122700,
          17654966,
          16815506,
          14794231,
          12231095,
          14521837,
          14991545,
          11617239,
          12123555,
          12993775,
          14696231,
          14931564,
          15617309,
          14203782,
          12351834,
          12803935,
          11595066,
          9034653,
          9212485,
          12054147,
          12340896,
          12315860,
          12183743,
          12362908,
          12914671,
          13052002,
          4093785,
          5410398.5,
          8792932,
          10153329,
          11206787,
          8550955,
          8706718,
          10080703,
          13325371,
          13861170,
          4565362
         ],
         "yaxis": "y"
        },
        {
         "hoverlabel": {
          "namelength": 0
         },
         "hovertemplate": "building_id_max=1088<br>date=%{x}<br>meter_reading-max=%{y}",
         "legendgroup": "building_id_max=1088",
         "marker": {
          "color": "#FF97FF",
          "symbol": "circle"
         },
         "mode": "markers",
         "name": "building_id_max=1088",
         "showlegend": true,
         "type": "scatter",
         "x": [
          "2016-11-16",
          "2016-11-17",
          "2016-11-29",
          "2016-12-08",
          "2016-12-09",
          "2016-12-10",
          "2016-12-11",
          "2016-12-12",
          "2016-12-13",
          "2016-12-14"
         ],
         "xaxis": "x",
         "y": [
          2566796,
          2086469.375,
          244210.765625,
          1797150.875,
          3758002.75,
          2838935.5,
          3995541,
          3629392.75,
          4045015,
          2053032.875
         ],
         "yaxis": "y"
        },
        {
         "hoverlabel": {
          "namelength": 0
         },
         "hovertemplate": "building_id_max=50<br>date=%{x}<br>meter_reading-max=%{y}",
         "legendgroup": "building_id_max=50",
         "marker": {
          "color": "#FECB52",
          "symbol": "circle"
         },
         "mode": "markers",
         "name": "building_id_max=50",
         "showlegend": true,
         "type": "scatter",
         "x": [
          "2016-12-31"
         ],
         "xaxis": "x",
         "y": [
          82563.46875
         ],
         "yaxis": "y"
        }
       ],
       "layout": {
        "height": 600,
        "legend": {
         "tracegroupgap": 0
        },
        "margin": {
         "t": 60
        },
        "template": {
         "data": {
          "bar": [
           {
            "error_x": {
             "color": "#2a3f5f"
            },
            "error_y": {
             "color": "#2a3f5f"
            },
            "marker": {
             "line": {
              "color": "#E5ECF6",
              "width": 0.5
             }
            },
            "type": "bar"
           }
          ],
          "barpolar": [
           {
            "marker": {
             "line": {
              "color": "#E5ECF6",
              "width": 0.5
             }
            },
            "type": "barpolar"
           }
          ],
          "carpet": [
           {
            "aaxis": {
             "endlinecolor": "#2a3f5f",
             "gridcolor": "white",
             "linecolor": "white",
             "minorgridcolor": "white",
             "startlinecolor": "#2a3f5f"
            },
            "baxis": {
             "endlinecolor": "#2a3f5f",
             "gridcolor": "white",
             "linecolor": "white",
             "minorgridcolor": "white",
             "startlinecolor": "#2a3f5f"
            },
            "type": "carpet"
           }
          ],
          "choropleth": [
           {
            "colorbar": {
             "outlinewidth": 0,
             "ticks": ""
            },
            "type": "choropleth"
           }
          ],
          "contour": [
           {
            "colorbar": {
             "outlinewidth": 0,
             "ticks": ""
            },
            "colorscale": [
             [
              0,
              "#0d0887"
             ],
             [
              0.1111111111111111,
              "#46039f"
             ],
             [
              0.2222222222222222,
              "#7201a8"
             ],
             [
              0.3333333333333333,
              "#9c179e"
             ],
             [
              0.4444444444444444,
              "#bd3786"
             ],
             [
              0.5555555555555556,
              "#d8576b"
             ],
             [
              0.6666666666666666,
              "#ed7953"
             ],
             [
              0.7777777777777778,
              "#fb9f3a"
             ],
             [
              0.8888888888888888,
              "#fdca26"
             ],
             [
              1,
              "#f0f921"
             ]
            ],
            "type": "contour"
           }
          ],
          "contourcarpet": [
           {
            "colorbar": {
             "outlinewidth": 0,
             "ticks": ""
            },
            "type": "contourcarpet"
           }
          ],
          "heatmap": [
           {
            "colorbar": {
             "outlinewidth": 0,
             "ticks": ""
            },
            "colorscale": [
             [
              0,
              "#0d0887"
             ],
             [
              0.1111111111111111,
              "#46039f"
             ],
             [
              0.2222222222222222,
              "#7201a8"
             ],
             [
              0.3333333333333333,
              "#9c179e"
             ],
             [
              0.4444444444444444,
              "#bd3786"
             ],
             [
              0.5555555555555556,
              "#d8576b"
             ],
             [
              0.6666666666666666,
              "#ed7953"
             ],
             [
              0.7777777777777778,
              "#fb9f3a"
             ],
             [
              0.8888888888888888,
              "#fdca26"
             ],
             [
              1,
              "#f0f921"
             ]
            ],
            "type": "heatmap"
           }
          ],
          "heatmapgl": [
           {
            "colorbar": {
             "outlinewidth": 0,
             "ticks": ""
            },
            "colorscale": [
             [
              0,
              "#0d0887"
             ],
             [
              0.1111111111111111,
              "#46039f"
             ],
             [
              0.2222222222222222,
              "#7201a8"
             ],
             [
              0.3333333333333333,
              "#9c179e"
             ],
             [
              0.4444444444444444,
              "#bd3786"
             ],
             [
              0.5555555555555556,
              "#d8576b"
             ],
             [
              0.6666666666666666,
              "#ed7953"
             ],
             [
              0.7777777777777778,
              "#fb9f3a"
             ],
             [
              0.8888888888888888,
              "#fdca26"
             ],
             [
              1,
              "#f0f921"
             ]
            ],
            "type": "heatmapgl"
           }
          ],
          "histogram": [
           {
            "marker": {
             "colorbar": {
              "outlinewidth": 0,
              "ticks": ""
             }
            },
            "type": "histogram"
           }
          ],
          "histogram2d": [
           {
            "colorbar": {
             "outlinewidth": 0,
             "ticks": ""
            },
            "colorscale": [
             [
              0,
              "#0d0887"
             ],
             [
              0.1111111111111111,
              "#46039f"
             ],
             [
              0.2222222222222222,
              "#7201a8"
             ],
             [
              0.3333333333333333,
              "#9c179e"
             ],
             [
              0.4444444444444444,
              "#bd3786"
             ],
             [
              0.5555555555555556,
              "#d8576b"
             ],
             [
              0.6666666666666666,
              "#ed7953"
             ],
             [
              0.7777777777777778,
              "#fb9f3a"
             ],
             [
              0.8888888888888888,
              "#fdca26"
             ],
             [
              1,
              "#f0f921"
             ]
            ],
            "type": "histogram2d"
           }
          ],
          "histogram2dcontour": [
           {
            "colorbar": {
             "outlinewidth": 0,
             "ticks": ""
            },
            "colorscale": [
             [
              0,
              "#0d0887"
             ],
             [
              0.1111111111111111,
              "#46039f"
             ],
             [
              0.2222222222222222,
              "#7201a8"
             ],
             [
              0.3333333333333333,
              "#9c179e"
             ],
             [
              0.4444444444444444,
              "#bd3786"
             ],
             [
              0.5555555555555556,
              "#d8576b"
             ],
             [
              0.6666666666666666,
              "#ed7953"
             ],
             [
              0.7777777777777778,
              "#fb9f3a"
             ],
             [
              0.8888888888888888,
              "#fdca26"
             ],
             [
              1,
              "#f0f921"
             ]
            ],
            "type": "histogram2dcontour"
           }
          ],
          "mesh3d": [
           {
            "colorbar": {
             "outlinewidth": 0,
             "ticks": ""
            },
            "type": "mesh3d"
           }
          ],
          "parcoords": [
           {
            "line": {
             "colorbar": {
              "outlinewidth": 0,
              "ticks": ""
             }
            },
            "type": "parcoords"
           }
          ],
          "pie": [
           {
            "automargin": true,
            "type": "pie"
           }
          ],
          "scatter": [
           {
            "marker": {
             "colorbar": {
              "outlinewidth": 0,
              "ticks": ""
             }
            },
            "type": "scatter"
           }
          ],
          "scatter3d": [
           {
            "line": {
             "colorbar": {
              "outlinewidth": 0,
              "ticks": ""
             }
            },
            "marker": {
             "colorbar": {
              "outlinewidth": 0,
              "ticks": ""
             }
            },
            "type": "scatter3d"
           }
          ],
          "scattercarpet": [
           {
            "marker": {
             "colorbar": {
              "outlinewidth": 0,
              "ticks": ""
             }
            },
            "type": "scattercarpet"
           }
          ],
          "scattergeo": [
           {
            "marker": {
             "colorbar": {
              "outlinewidth": 0,
              "ticks": ""
             }
            },
            "type": "scattergeo"
           }
          ],
          "scattergl": [
           {
            "marker": {
             "colorbar": {
              "outlinewidth": 0,
              "ticks": ""
             }
            },
            "type": "scattergl"
           }
          ],
          "scattermapbox": [
           {
            "marker": {
             "colorbar": {
              "outlinewidth": 0,
              "ticks": ""
             }
            },
            "type": "scattermapbox"
           }
          ],
          "scatterpolar": [
           {
            "marker": {
             "colorbar": {
              "outlinewidth": 0,
              "ticks": ""
             }
            },
            "type": "scatterpolar"
           }
          ],
          "scatterpolargl": [
           {
            "marker": {
             "colorbar": {
              "outlinewidth": 0,
              "ticks": ""
             }
            },
            "type": "scatterpolargl"
           }
          ],
          "scatterternary": [
           {
            "marker": {
             "colorbar": {
              "outlinewidth": 0,
              "ticks": ""
             }
            },
            "type": "scatterternary"
           }
          ],
          "surface": [
           {
            "colorbar": {
             "outlinewidth": 0,
             "ticks": ""
            },
            "colorscale": [
             [
              0,
              "#0d0887"
             ],
             [
              0.1111111111111111,
              "#46039f"
             ],
             [
              0.2222222222222222,
              "#7201a8"
             ],
             [
              0.3333333333333333,
              "#9c179e"
             ],
             [
              0.4444444444444444,
              "#bd3786"
             ],
             [
              0.5555555555555556,
              "#d8576b"
             ],
             [
              0.6666666666666666,
              "#ed7953"
             ],
             [
              0.7777777777777778,
              "#fb9f3a"
             ],
             [
              0.8888888888888888,
              "#fdca26"
             ],
             [
              1,
              "#f0f921"
             ]
            ],
            "type": "surface"
           }
          ],
          "table": [
           {
            "cells": {
             "fill": {
              "color": "#EBF0F8"
             },
             "line": {
              "color": "white"
             }
            },
            "header": {
             "fill": {
              "color": "#C8D4E3"
             },
             "line": {
              "color": "white"
             }
            },
            "type": "table"
           }
          ]
         },
         "layout": {
          "annotationdefaults": {
           "arrowcolor": "#2a3f5f",
           "arrowhead": 0,
           "arrowwidth": 1
          },
          "coloraxis": {
           "colorbar": {
            "outlinewidth": 0,
            "ticks": ""
           }
          },
          "colorscale": {
           "diverging": [
            [
             0,
             "#8e0152"
            ],
            [
             0.1,
             "#c51b7d"
            ],
            [
             0.2,
             "#de77ae"
            ],
            [
             0.3,
             "#f1b6da"
            ],
            [
             0.4,
             "#fde0ef"
            ],
            [
             0.5,
             "#f7f7f7"
            ],
            [
             0.6,
             "#e6f5d0"
            ],
            [
             0.7,
             "#b8e186"
            ],
            [
             0.8,
             "#7fbc41"
            ],
            [
             0.9,
             "#4d9221"
            ],
            [
             1,
             "#276419"
            ]
           ],
           "sequential": [
            [
             0,
             "#0d0887"
            ],
            [
             0.1111111111111111,
             "#46039f"
            ],
            [
             0.2222222222222222,
             "#7201a8"
            ],
            [
             0.3333333333333333,
             "#9c179e"
            ],
            [
             0.4444444444444444,
             "#bd3786"
            ],
            [
             0.5555555555555556,
             "#d8576b"
            ],
            [
             0.6666666666666666,
             "#ed7953"
            ],
            [
             0.7777777777777778,
             "#fb9f3a"
            ],
            [
             0.8888888888888888,
             "#fdca26"
            ],
            [
             1,
             "#f0f921"
            ]
           ],
           "sequentialminus": [
            [
             0,
             "#0d0887"
            ],
            [
             0.1111111111111111,
             "#46039f"
            ],
            [
             0.2222222222222222,
             "#7201a8"
            ],
            [
             0.3333333333333333,
             "#9c179e"
            ],
            [
             0.4444444444444444,
             "#bd3786"
            ],
            [
             0.5555555555555556,
             "#d8576b"
            ],
            [
             0.6666666666666666,
             "#ed7953"
            ],
            [
             0.7777777777777778,
             "#fb9f3a"
            ],
            [
             0.8888888888888888,
             "#fdca26"
            ],
            [
             1,
             "#f0f921"
            ]
           ]
          },
          "colorway": [
           "#636efa",
           "#EF553B",
           "#00cc96",
           "#ab63fa",
           "#FFA15A",
           "#19d3f3",
           "#FF6692",
           "#B6E880",
           "#FF97FF",
           "#FECB52"
          ],
          "font": {
           "color": "#2a3f5f"
          },
          "geo": {
           "bgcolor": "white",
           "lakecolor": "white",
           "landcolor": "#E5ECF6",
           "showlakes": true,
           "showland": true,
           "subunitcolor": "white"
          },
          "hoverlabel": {
           "align": "left"
          },
          "hovermode": "closest",
          "mapbox": {
           "style": "light"
          },
          "paper_bgcolor": "white",
          "plot_bgcolor": "#E5ECF6",
          "polar": {
           "angularaxis": {
            "gridcolor": "white",
            "linecolor": "white",
            "ticks": ""
           },
           "bgcolor": "#E5ECF6",
           "radialaxis": {
            "gridcolor": "white",
            "linecolor": "white",
            "ticks": ""
           }
          },
          "scene": {
           "xaxis": {
            "backgroundcolor": "#E5ECF6",
            "gridcolor": "white",
            "gridwidth": 2,
            "linecolor": "white",
            "showbackground": true,
            "ticks": "",
            "zerolinecolor": "white"
           },
           "yaxis": {
            "backgroundcolor": "#E5ECF6",
            "gridcolor": "white",
            "gridwidth": 2,
            "linecolor": "white",
            "showbackground": true,
            "ticks": "",
            "zerolinecolor": "white"
           },
           "zaxis": {
            "backgroundcolor": "#E5ECF6",
            "gridcolor": "white",
            "gridwidth": 2,
            "linecolor": "white",
            "showbackground": true,
            "ticks": "",
            "zerolinecolor": "white"
           }
          },
          "shapedefaults": {
           "line": {
            "color": "#2a3f5f"
           }
          },
          "ternary": {
           "aaxis": {
            "gridcolor": "white",
            "linecolor": "white",
            "ticks": ""
           },
           "baxis": {
            "gridcolor": "white",
            "linecolor": "white",
            "ticks": ""
           },
           "bgcolor": "#E5ECF6",
           "caxis": {
            "gridcolor": "white",
            "linecolor": "white",
            "ticks": ""
           }
          },
          "title": {
           "x": 0.05
          },
          "xaxis": {
           "automargin": true,
           "gridcolor": "white",
           "linecolor": "white",
           "ticks": "",
           "title": {
            "standoff": 15
           },
           "zerolinecolor": "white",
           "zerolinewidth": 2
          },
          "yaxis": {
           "automargin": true,
           "gridcolor": "white",
           "linecolor": "white",
           "ticks": "",
           "title": {
            "standoff": 15
           },
           "zerolinecolor": "white",
           "zerolinewidth": 2
          }
         }
        },
        "xaxis": {
         "anchor": "y",
         "domain": [
          0,
          1
         ],
         "title": {
          "text": "date"
         }
        },
        "yaxis": {
         "anchor": "x",
         "domain": [
          0,
          1
         ],
         "title": {
          "text": "meter_reading-max"
         }
        }
       }
      },
      "text/html": [
       "<div>\n",
       "        \n",
       "        \n",
       "            <div id=\"257a84c7-8a6c-4258-92cc-ad8d65ac5aab\" class=\"plotly-graph-div\" style=\"height:600px; width:100%;\"></div>\n",
       "            <script type=\"text/javascript\">\n",
       "                require([\"plotly\"], function(Plotly) {\n",
       "                    window.PLOTLYENV=window.PLOTLYENV || {};\n",
       "                    \n",
       "                if (document.getElementById(\"257a84c7-8a6c-4258-92cc-ad8d65ac5aab\")) {\n",
       "                    Plotly.newPlot(\n",
       "                        '257a84c7-8a6c-4258-92cc-ad8d65ac5aab',\n",
       "                        [{\"hoverlabel\": {\"namelength\": 0}, \"hovertemplate\": \"building_id_max=1289<br>date=%{x}<br>meter_reading-max=%{y}\", \"legendgroup\": \"building_id_max=1289\", \"marker\": {\"color\": \"#636efa\", \"symbol\": \"circle\"}, \"mode\": \"markers\", \"name\": \"building_id_max=1289\", \"showlegend\": true, \"type\": \"scatter\", \"x\": [\"2016-01-01\", \"2016-01-02\", \"2016-01-08\", \"2016-01-09\", \"2016-01-10\", \"2016-01-16\", \"2016-01-24\", \"2016-01-25\", \"2016-01-26\", \"2016-01-27\", \"2016-01-31\", \"2016-02-01\", \"2016-02-02\", \"2016-02-03\", \"2016-02-04\", \"2016-02-05\", \"2016-02-09\", \"2016-02-15\", \"2016-02-16\", \"2016-02-17\", \"2016-02-21\", \"2016-02-22\", \"2016-02-25\", \"2016-03-21\", \"2016-05-06\", \"2016-10-21\", \"2016-10-22\", \"2016-10-23\", \"2016-10-24\", \"2016-10-25\", \"2016-10-26\", \"2016-10-27\", \"2016-10-28\", \"2016-10-29\", \"2016-10-30\", \"2016-10-31\", \"2016-11-01\", \"2016-11-02\"], \"xaxis\": \"x\", \"y\": [104211.6484375, 98187.2578125, 97712.578125, 100240.59375, 106336.1484375, 103261.71875, 112180.3203125, 101584.8125, 110577.9609375, 107868.3671875, 103568.8125, 115845.5078125, 97456.1875, 94662.7421875, 115146.7109375, 91145.421875, 85415.4375, 121840.453125, 110265.9921875, 136586.296875, 90408.3203125, 79857.6171875, 84636.8515625, 88167.6484375, 98842.5078125, 348905.40625, 274496.09375, 273095.8125, 293989.21875, 280975.59375, 261275.984375, 263925.65625, 302929.0625, 287331.0625, 332632.0, 289850.4375, 261397.28125, 283526.40625], \"yaxis\": \"y\"}, {\"hoverlabel\": {\"namelength\": 0}, \"hovertemplate\": \"building_id_max=1258<br>date=%{x}<br>meter_reading-max=%{y}\", \"legendgroup\": \"building_id_max=1258\", \"marker\": {\"color\": \"#EF553B\", \"symbol\": \"circle\"}, \"mode\": \"markers\", \"name\": \"building_id_max=1258\", \"showlegend\": true, \"type\": \"scatter\", \"x\": [\"2016-01-03\", \"2016-01-04\", \"2016-01-05\", \"2016-01-06\", \"2016-01-07\", \"2016-01-11\", \"2016-01-12\", \"2016-01-13\", \"2016-01-14\", \"2016-01-15\", \"2016-01-17\", \"2016-01-18\", \"2016-01-19\", \"2016-01-20\", \"2016-01-21\", \"2016-01-22\", \"2016-01-23\", \"2016-01-28\", \"2016-01-29\", \"2016-01-30\", \"2016-02-06\", \"2016-02-07\", \"2016-02-08\", \"2016-02-10\", \"2016-02-11\", \"2016-02-12\", \"2016-02-13\", \"2016-02-14\", \"2016-02-18\", \"2016-02-19\", \"2016-02-20\", \"2016-02-23\", \"2016-02-24\", \"2016-02-26\", \"2016-02-27\", \"2016-02-28\", \"2016-03-03\", \"2016-03-04\", \"2016-11-20\", \"2016-11-21\", \"2016-12-30\"], \"xaxis\": \"x\", \"y\": [83892.1171875, 96508.4609375, 102095.8671875, 100346.140625, 102379.8984375, 99075.9609375, 103098.5390625, 102968.703125, 101656.921875, 105336.9375, 95785.4921875, 106978.3984375, 115307.546875, 113722.921875, 109357.4921875, 111412.015625, 105682.6328125, 92198.421875, 92291.640625, 96896.7890625, 98522.59375, 94922.859375, 98183.3828125, 113251.1875, 112252.0625, 111965.046875, 113615.0625, 109386.9921875, 99045.578125, 103194.0625, 91161.5, 77367.0390625, 89705.796875, 86410.5234375, 102276.828125, 91317.390625, 104385.828125, 100097.5078125, 81083.1875, 77079.2265625, 81500.9765625], \"yaxis\": \"y\"}, {\"hoverlabel\": {\"namelength\": 0}, \"hovertemplate\": \"building_id_max=1284<br>date=%{x}<br>meter_reading-max=%{y}\", \"legendgroup\": \"building_id_max=1284\", \"marker\": {\"color\": \"#00cc96\", \"symbol\": \"circle\"}, \"mode\": \"markers\", \"name\": \"building_id_max=1284\", \"showlegend\": true, \"type\": \"scatter\", \"x\": [\"2016-02-29\", \"2016-03-08\", \"2016-03-09\", \"2016-03-10\", \"2016-03-11\", \"2016-03-17\", \"2016-03-23\", \"2016-03-25\", \"2016-04-01\", \"2016-04-04\", \"2016-04-12\", \"2016-04-18\", \"2016-04-19\", \"2016-04-20\", \"2016-04-21\", \"2016-04-22\", \"2016-04-23\", \"2016-04-25\", \"2016-04-26\", \"2016-04-27\", \"2016-05-02\", \"2016-05-03\", \"2016-05-08\", \"2016-05-11\", \"2016-05-12\", \"2016-05-13\", \"2016-05-24\", \"2016-05-25\", \"2016-05-26\", \"2016-05-27\", \"2016-05-28\", \"2016-05-29\", \"2016-05-30\", \"2016-05-31\", \"2016-06-01\", \"2016-06-02\", \"2016-06-03\", \"2016-06-04\", \"2016-06-05\", \"2016-06-06\", \"2016-06-07\", \"2016-06-10\", \"2016-06-11\", \"2016-06-12\", \"2016-06-14\", \"2016-06-15\", \"2016-06-16\", \"2016-06-17\", \"2016-06-18\", \"2016-06-19\", \"2016-06-20\", \"2016-06-21\", \"2016-06-22\", \"2016-06-23\", \"2016-06-24\", \"2016-06-25\", \"2016-06-26\", \"2016-06-27\", \"2016-06-28\", \"2016-06-29\", \"2016-06-30\", \"2016-07-01\", \"2016-07-02\", \"2016-07-03\", \"2016-07-04\", \"2016-07-05\", \"2016-07-06\", \"2016-07-07\", \"2016-07-08\", \"2016-07-09\", \"2016-07-10\", \"2016-07-11\", \"2016-07-12\", \"2016-07-13\", \"2016-07-14\", \"2016-07-15\", \"2016-07-16\", \"2016-07-17\", \"2016-07-18\", \"2016-07-19\", \"2016-07-20\", \"2016-07-21\", \"2016-07-22\", \"2016-07-23\", \"2016-07-24\", \"2016-07-25\", \"2016-07-26\", \"2016-07-27\", \"2016-07-28\", \"2016-07-29\", \"2016-07-30\", \"2016-07-31\", \"2016-08-01\", \"2016-08-02\", \"2016-08-03\", \"2016-08-04\", \"2016-08-05\", \"2016-08-06\", \"2016-08-07\", \"2016-08-08\", \"2016-08-09\", \"2016-08-10\", \"2016-08-11\", \"2016-08-13\", \"2016-08-14\", \"2016-08-15\", \"2016-08-16\", \"2016-08-17\", \"2016-08-18\", \"2016-08-19\", \"2016-08-20\", \"2016-08-21\", \"2016-08-22\", \"2016-08-23\", \"2016-08-24\", \"2016-08-25\", \"2016-08-26\", \"2016-08-27\", \"2016-08-28\", \"2016-08-29\", \"2016-08-30\", \"2016-08-31\", \"2016-09-01\", \"2016-09-02\", \"2016-09-03\", \"2016-09-04\", \"2016-09-05\", \"2016-09-06\", \"2016-09-07\", \"2016-10-07\", \"2016-10-08\", \"2016-10-20\", \"2016-11-03\", \"2016-11-30\"], \"xaxis\": \"x\", \"y\": [104348.3984375, 156296.90625, 166348.828125, 225960.609375, 229909.375, 179753.875, 165185.828125, 231304.609375, 319372.40625, 122832.15625, 189618.328125, 177865.359375, 219407.90625, 180391.140625, 161315.84375, 271357.96875, 213581.5625, 176571.421875, 289876.65625, 302997.3125, 271027.40625, 301550.40625, 174416.140625, 239128.234375, 271229.0625, 332613.8125, 228131.390625, 270017.03125, 369852.21875, 464986.6875, 469609.59375, 330571.3125, 371130.8125, 471941.1875, 458366.8125, 501886.59375, 487982.8125, 534928.625, 487022.90625, 436056.09375, 418717.8125, 263187.9375, 436761.5, 465104.59375, 328463.0, 429992.40625, 550275.8125, 397377.8125, 299767.15625, 262189.5625, 313534.96875, 523213.59375, 459958.40625, 469350.6875, 475776.5, 470553.0, 393405.8125, 452794.8125, 548723.0, 409251.90625, 342225.59375, 488439.1875, 425727.40625, 345800.3125, 398988.3125, 581785.125, 624582.375, 627984.375, 574018.625, 518359.1875, 415491.3125, 456943.09375, 569335.625, 586620.1875, 564143.875, 594886.625, 529485.0, 521241.625, 577777.625, 608947.5, 476608.40625, 501685.1875, 561564.375, 608201.125, 640881.875, 701327.3125, 680336.5, 659757.125, 656163.875, 581088.375, 619364.6875, 571344.375, 573112.0, 611221.625, 569774.375, 494660.5, 551058.8125, 645979.8125, 514004.59375, 435329.6875, 399187.1875, 578005.5, 458355.09375, 724128.0, 706757.625, 635522.6875, 632153.6875, 643224.0, 591781.8125, 583544.0, 592207.1875, 513412.1875, 355803.90625, 396511.59375, 445367.0, 557223.5, 666586.375, 610968.3125, 514114.1875, 522779.6875, 548837.1875, 602067.1875, 537102.3125, 369102.8125, 295406.65625, 327478.09375, 300677.40625, 402520.09375, 502693.78125, 272972.15625, 315179.59375, 487666.0, 234313.1875, 232165.3125], \"yaxis\": \"y\"}, {\"hoverlabel\": {\"namelength\": 0}, \"hovertemplate\": \"building_id_max=29<br>date=%{x}<br>meter_reading-max=%{y}\", \"legendgroup\": \"building_id_max=29\", \"marker\": {\"color\": \"#ab63fa\", \"symbol\": \"circle\"}, \"mode\": \"markers\", \"name\": \"building_id_max=29\", \"showlegend\": true, \"type\": \"scatter\", \"x\": [\"2016-03-01\", \"2016-03-05\", \"2016-03-06\", \"2016-03-07\", \"2016-03-22\", \"2016-04-03\", \"2016-04-05\", \"2016-04-09\", \"2016-04-10\", \"2016-05-07\"], \"xaxis\": \"x\", \"y\": [104259.578125, 94720.0390625, 94002.4609375, 96450.640625, 91512.0703125, 94129.1015625, 101938.0, 93664.7890625, 95099.9296875, 98096.859375], \"yaxis\": \"y\"}, {\"hoverlabel\": {\"namelength\": 0}, \"hovertemplate\": \"building_id_max=76<br>date=%{x}<br>meter_reading-max=%{y}\", \"legendgroup\": \"building_id_max=76\", \"marker\": {\"color\": \"#FFA15A\", \"symbol\": \"circle\"}, \"mode\": \"markers\", \"name\": \"building_id_max=76\", \"showlegend\": true, \"type\": \"scatter\", \"x\": [\"2016-03-02\", \"2016-03-12\", \"2016-03-13\", \"2016-03-14\", \"2016-03-15\", \"2016-03-16\", \"2016-03-18\", \"2016-03-19\", \"2016-03-20\", \"2016-03-24\", \"2016-03-26\", \"2016-03-27\", \"2016-03-28\", \"2016-03-29\", \"2016-03-30\", \"2016-03-31\", \"2016-04-02\", \"2016-04-06\", \"2016-04-07\", \"2016-04-08\", \"2016-04-11\", \"2016-04-13\", \"2016-04-14\", \"2016-04-15\", \"2016-04-24\", \"2016-04-28\", \"2016-04-29\", \"2016-04-30\", \"2016-05-04\", \"2016-05-05\", \"2016-05-09\", \"2016-05-10\", \"2016-05-14\", \"2016-05-15\", \"2016-05-16\", \"2016-05-17\", \"2016-05-18\", \"2016-05-19\", \"2016-05-20\", \"2016-05-21\", \"2016-05-22\", \"2016-05-23\", \"2016-06-08\", \"2016-06-09\", \"2016-06-13\", \"2016-08-12\", \"2016-10-05\", \"2016-10-06\", \"2016-10-09\", \"2016-11-04\", \"2016-11-05\", \"2016-11-06\", \"2016-11-07\", \"2016-11-08\", \"2016-11-09\", \"2016-11-10\", \"2016-11-11\", \"2016-11-12\", \"2016-11-13\", \"2016-11-14\", \"2016-11-15\", \"2016-11-18\", \"2016-11-19\", \"2016-11-22\", \"2016-11-23\", \"2016-11-24\", \"2016-11-25\", \"2016-11-26\", \"2016-11-27\", \"2016-11-28\", \"2016-12-01\", \"2016-12-02\", \"2016-12-03\", \"2016-12-04\", \"2016-12-05\", \"2016-12-06\", \"2016-12-07\", \"2016-12-15\", \"2016-12-16\", \"2016-12-17\", \"2016-12-18\", \"2016-12-19\", \"2016-12-20\", \"2016-12-21\", \"2016-12-22\", \"2016-12-23\", \"2016-12-24\", \"2016-12-25\", \"2016-12-26\", \"2016-12-27\", \"2016-12-28\", \"2016-12-29\"], \"xaxis\": \"x\", \"y\": [118062.3671875, 165253.53125, 172640.390625, 197460.046875, 185219.015625, 183192.921875, 157317.984375, 163269.671875, 155080.875, 145372.484375, 200288.25, 228062.59375, 218016.515625, 186189.890625, 152801.453125, 190284.328125, 217509.984375, 96957.2109375, 122621.0703125, 126208.9921875, 119877.3984375, 175848.34375, 185472.296875, 173948.859375, 170951.953125, 200499.265625, 222406.40625, 212275.875, 194252.0625, 106581.140625, 137563.53125, 167870.59375, 204804.671875, 165886.71875, 216961.3125, 249674.375, 233254.546875, 250012.125, 239586.140625, 228146.84375, 198346.5, 165464.609375, 277533.0, 264363.3125, 272721.1875, 308346.59375, 287368.03125, 288887.6875, 215357.28125, 197206.78125, 170107.75, 174750.875, 157191.375, 142924.28125, 158964.203125, 141320.265625, 113208.1796875, 107805.25, 157318.0, 166562.046875, 119286.5, 137985.65625, 139336.40625, 89950.2734375, 136508.296875, 142417.734375, 152210.546875, 116542.828125, 92778.34375, 129839.09375, 194167.53125, 81550.3984375, 96324.0625, 147187.5625, 209194.703125, 228991.234375, 139716.265625, 148622.65625, 120510.5625, 187540.609375, 239628.15625, 248281.375, 163269.671875, 105568.109375, 105568.09375, 141573.546875, 180575.90625, 202356.4375, 206070.953125, 172387.078125, 167448.515625, 144781.515625], \"yaxis\": \"y\"}, {\"hoverlabel\": {\"namelength\": 0}, \"hovertemplate\": \"building_id_max=1156<br>date=%{x}<br>meter_reading-max=%{y}\", \"legendgroup\": \"building_id_max=1156\", \"marker\": {\"color\": \"#19d3f3\", \"symbol\": \"circle\"}, \"mode\": \"markers\", \"name\": \"building_id_max=1156\", \"showlegend\": true, \"type\": \"scatter\", \"x\": [\"2016-04-16\", \"2016-04-17\"], \"xaxis\": \"x\", \"y\": [173774.515625, 187952.765625], \"yaxis\": \"y\"}, {\"hoverlabel\": {\"namelength\": 0}, \"hovertemplate\": \"building_id_max=60<br>date=%{x}<br>meter_reading-max=%{y}\", \"legendgroup\": \"building_id_max=60\", \"marker\": {\"color\": \"#FF6692\", \"symbol\": \"circle\"}, \"mode\": \"markers\", \"name\": \"building_id_max=60\", \"showlegend\": true, \"type\": \"scatter\", \"x\": [\"2016-05-01\"], \"xaxis\": \"x\", \"y\": [229341.734375], \"yaxis\": \"y\"}, {\"hoverlabel\": {\"namelength\": 0}, \"hovertemplate\": \"building_id_max=778<br>date=%{x}<br>meter_reading-max=%{y}\", \"legendgroup\": \"building_id_max=778\", \"marker\": {\"color\": \"#B6E880\", \"symbol\": \"circle\"}, \"mode\": \"markers\", \"name\": \"building_id_max=778\", \"showlegend\": true, \"type\": \"scatter\", \"x\": [\"2016-09-08\", \"2016-09-09\", \"2016-09-10\", \"2016-09-11\", \"2016-09-12\", \"2016-09-13\", \"2016-09-14\", \"2016-09-15\", \"2016-09-16\", \"2016-09-17\", \"2016-09-18\", \"2016-09-19\", \"2016-09-20\", \"2016-09-21\", \"2016-09-22\", \"2016-09-23\", \"2016-09-24\", \"2016-09-25\", \"2016-09-26\", \"2016-09-27\", \"2016-09-28\", \"2016-09-29\", \"2016-09-30\", \"2016-10-01\", \"2016-10-02\", \"2016-10-03\", \"2016-10-04\", \"2016-10-10\", \"2016-10-11\", \"2016-10-12\", \"2016-10-13\", \"2016-10-14\", \"2016-10-15\", \"2016-10-16\", \"2016-10-17\", \"2016-10-18\", \"2016-10-19\"], \"xaxis\": \"x\", \"y\": [10122700.0, 17654966.0, 16815506.0, 14794231.0, 12231095.0, 14521837.0, 14991545.0, 11617239.0, 12123555.0, 12993775.0, 14696231.0, 14931564.0, 15617309.0, 14203782.0, 12351834.0, 12803935.0, 11595066.0, 9034653.0, 9212485.0, 12054147.0, 12340896.0, 12315860.0, 12183743.0, 12362908.0, 12914671.0, 13052002.0, 4093785.0, 5410398.5, 8792932.0, 10153329.0, 11206787.0, 8550955.0, 8706718.0, 10080703.0, 13325371.0, 13861170.0, 4565362.0], \"yaxis\": \"y\"}, {\"hoverlabel\": {\"namelength\": 0}, \"hovertemplate\": \"building_id_max=1088<br>date=%{x}<br>meter_reading-max=%{y}\", \"legendgroup\": \"building_id_max=1088\", \"marker\": {\"color\": \"#FF97FF\", \"symbol\": \"circle\"}, \"mode\": \"markers\", \"name\": \"building_id_max=1088\", \"showlegend\": true, \"type\": \"scatter\", \"x\": [\"2016-11-16\", \"2016-11-17\", \"2016-11-29\", \"2016-12-08\", \"2016-12-09\", \"2016-12-10\", \"2016-12-11\", \"2016-12-12\", \"2016-12-13\", \"2016-12-14\"], \"xaxis\": \"x\", \"y\": [2566796.0, 2086469.375, 244210.765625, 1797150.875, 3758002.75, 2838935.5, 3995541.0, 3629392.75, 4045015.0, 2053032.875], \"yaxis\": \"y\"}, {\"hoverlabel\": {\"namelength\": 0}, \"hovertemplate\": \"building_id_max=50<br>date=%{x}<br>meter_reading-max=%{y}\", \"legendgroup\": \"building_id_max=50\", \"marker\": {\"color\": \"#FECB52\", \"symbol\": \"circle\"}, \"mode\": \"markers\", \"name\": \"building_id_max=50\", \"showlegend\": true, \"type\": \"scatter\", \"x\": [\"2016-12-31\"], \"xaxis\": \"x\", \"y\": [82563.46875], \"yaxis\": \"y\"}],\n",
       "                        {\"height\": 600, \"legend\": {\"tracegroupgap\": 0}, \"margin\": {\"t\": 60}, \"template\": {\"data\": {\"bar\": [{\"error_x\": {\"color\": \"#2a3f5f\"}, \"error_y\": {\"color\": \"#2a3f5f\"}, \"marker\": {\"line\": {\"color\": \"#E5ECF6\", \"width\": 0.5}}, \"type\": \"bar\"}], \"barpolar\": [{\"marker\": {\"line\": {\"color\": \"#E5ECF6\", \"width\": 0.5}}, \"type\": \"barpolar\"}], \"carpet\": [{\"aaxis\": {\"endlinecolor\": \"#2a3f5f\", \"gridcolor\": \"white\", \"linecolor\": \"white\", \"minorgridcolor\": \"white\", \"startlinecolor\": \"#2a3f5f\"}, \"baxis\": {\"endlinecolor\": \"#2a3f5f\", \"gridcolor\": \"white\", \"linecolor\": \"white\", \"minorgridcolor\": \"white\", \"startlinecolor\": \"#2a3f5f\"}, \"type\": \"carpet\"}], \"choropleth\": [{\"colorbar\": {\"outlinewidth\": 0, \"ticks\": \"\"}, \"type\": \"choropleth\"}], \"contour\": [{\"colorbar\": {\"outlinewidth\": 0, \"ticks\": \"\"}, \"colorscale\": [[0.0, \"#0d0887\"], [0.1111111111111111, \"#46039f\"], [0.2222222222222222, \"#7201a8\"], [0.3333333333333333, \"#9c179e\"], [0.4444444444444444, \"#bd3786\"], [0.5555555555555556, \"#d8576b\"], [0.6666666666666666, \"#ed7953\"], [0.7777777777777778, \"#fb9f3a\"], [0.8888888888888888, \"#fdca26\"], [1.0, \"#f0f921\"]], \"type\": \"contour\"}], \"contourcarpet\": [{\"colorbar\": {\"outlinewidth\": 0, \"ticks\": \"\"}, \"type\": \"contourcarpet\"}], \"heatmap\": [{\"colorbar\": {\"outlinewidth\": 0, \"ticks\": \"\"}, \"colorscale\": [[0.0, \"#0d0887\"], [0.1111111111111111, \"#46039f\"], [0.2222222222222222, \"#7201a8\"], [0.3333333333333333, \"#9c179e\"], [0.4444444444444444, \"#bd3786\"], [0.5555555555555556, \"#d8576b\"], [0.6666666666666666, \"#ed7953\"], [0.7777777777777778, \"#fb9f3a\"], [0.8888888888888888, \"#fdca26\"], [1.0, \"#f0f921\"]], \"type\": \"heatmap\"}], \"heatmapgl\": [{\"colorbar\": {\"outlinewidth\": 0, \"ticks\": \"\"}, \"colorscale\": [[0.0, \"#0d0887\"], [0.1111111111111111, \"#46039f\"], [0.2222222222222222, \"#7201a8\"], [0.3333333333333333, \"#9c179e\"], [0.4444444444444444, \"#bd3786\"], [0.5555555555555556, \"#d8576b\"], [0.6666666666666666, \"#ed7953\"], [0.7777777777777778, \"#fb9f3a\"], [0.8888888888888888, \"#fdca26\"], [1.0, \"#f0f921\"]], \"type\": \"heatmapgl\"}], \"histogram\": [{\"marker\": {\"colorbar\": {\"outlinewidth\": 0, \"ticks\": \"\"}}, \"type\": \"histogram\"}], \"histogram2d\": [{\"colorbar\": {\"outlinewidth\": 0, \"ticks\": \"\"}, \"colorscale\": [[0.0, \"#0d0887\"], [0.1111111111111111, \"#46039f\"], [0.2222222222222222, \"#7201a8\"], [0.3333333333333333, \"#9c179e\"], [0.4444444444444444, \"#bd3786\"], [0.5555555555555556, \"#d8576b\"], [0.6666666666666666, \"#ed7953\"], [0.7777777777777778, \"#fb9f3a\"], [0.8888888888888888, \"#fdca26\"], [1.0, \"#f0f921\"]], \"type\": \"histogram2d\"}], \"histogram2dcontour\": [{\"colorbar\": {\"outlinewidth\": 0, \"ticks\": \"\"}, \"colorscale\": [[0.0, \"#0d0887\"], [0.1111111111111111, \"#46039f\"], [0.2222222222222222, \"#7201a8\"], [0.3333333333333333, \"#9c179e\"], [0.4444444444444444, \"#bd3786\"], [0.5555555555555556, \"#d8576b\"], [0.6666666666666666, \"#ed7953\"], [0.7777777777777778, \"#fb9f3a\"], [0.8888888888888888, \"#fdca26\"], [1.0, \"#f0f921\"]], \"type\": \"histogram2dcontour\"}], \"mesh3d\": [{\"colorbar\": {\"outlinewidth\": 0, \"ticks\": \"\"}, \"type\": \"mesh3d\"}], \"parcoords\": [{\"line\": {\"colorbar\": {\"outlinewidth\": 0, \"ticks\": \"\"}}, \"type\": \"parcoords\"}], \"pie\": [{\"automargin\": true, \"type\": \"pie\"}], \"scatter\": [{\"marker\": {\"colorbar\": {\"outlinewidth\": 0, \"ticks\": \"\"}}, \"type\": \"scatter\"}], \"scatter3d\": [{\"line\": {\"colorbar\": {\"outlinewidth\": 0, \"ticks\": \"\"}}, \"marker\": {\"colorbar\": {\"outlinewidth\": 0, \"ticks\": \"\"}}, \"type\": \"scatter3d\"}], \"scattercarpet\": [{\"marker\": {\"colorbar\": {\"outlinewidth\": 0, \"ticks\": \"\"}}, \"type\": \"scattercarpet\"}], \"scattergeo\": [{\"marker\": {\"colorbar\": {\"outlinewidth\": 0, \"ticks\": \"\"}}, \"type\": \"scattergeo\"}], \"scattergl\": [{\"marker\": {\"colorbar\": {\"outlinewidth\": 0, \"ticks\": \"\"}}, \"type\": \"scattergl\"}], \"scattermapbox\": [{\"marker\": {\"colorbar\": {\"outlinewidth\": 0, \"ticks\": \"\"}}, \"type\": \"scattermapbox\"}], \"scatterpolar\": [{\"marker\": {\"colorbar\": {\"outlinewidth\": 0, \"ticks\": \"\"}}, \"type\": \"scatterpolar\"}], \"scatterpolargl\": [{\"marker\": {\"colorbar\": {\"outlinewidth\": 0, \"ticks\": \"\"}}, \"type\": \"scatterpolargl\"}], \"scatterternary\": [{\"marker\": {\"colorbar\": {\"outlinewidth\": 0, \"ticks\": \"\"}}, \"type\": \"scatterternary\"}], \"surface\": [{\"colorbar\": {\"outlinewidth\": 0, \"ticks\": \"\"}, \"colorscale\": [[0.0, \"#0d0887\"], [0.1111111111111111, \"#46039f\"], [0.2222222222222222, \"#7201a8\"], [0.3333333333333333, \"#9c179e\"], [0.4444444444444444, \"#bd3786\"], [0.5555555555555556, \"#d8576b\"], [0.6666666666666666, \"#ed7953\"], [0.7777777777777778, \"#fb9f3a\"], [0.8888888888888888, \"#fdca26\"], [1.0, \"#f0f921\"]], \"type\": \"surface\"}], \"table\": [{\"cells\": {\"fill\": {\"color\": \"#EBF0F8\"}, \"line\": {\"color\": \"white\"}}, \"header\": {\"fill\": {\"color\": \"#C8D4E3\"}, \"line\": {\"color\": \"white\"}}, \"type\": \"table\"}]}, \"layout\": {\"annotationdefaults\": {\"arrowcolor\": \"#2a3f5f\", \"arrowhead\": 0, \"arrowwidth\": 1}, \"coloraxis\": {\"colorbar\": {\"outlinewidth\": 0, \"ticks\": \"\"}}, \"colorscale\": {\"diverging\": [[0, \"#8e0152\"], [0.1, \"#c51b7d\"], [0.2, \"#de77ae\"], [0.3, \"#f1b6da\"], [0.4, \"#fde0ef\"], [0.5, \"#f7f7f7\"], [0.6, \"#e6f5d0\"], [0.7, \"#b8e186\"], [0.8, \"#7fbc41\"], [0.9, \"#4d9221\"], [1, \"#276419\"]], \"sequential\": [[0.0, \"#0d0887\"], [0.1111111111111111, \"#46039f\"], [0.2222222222222222, \"#7201a8\"], [0.3333333333333333, \"#9c179e\"], [0.4444444444444444, \"#bd3786\"], [0.5555555555555556, \"#d8576b\"], [0.6666666666666666, \"#ed7953\"], [0.7777777777777778, \"#fb9f3a\"], [0.8888888888888888, \"#fdca26\"], [1.0, \"#f0f921\"]], \"sequentialminus\": [[0.0, \"#0d0887\"], [0.1111111111111111, \"#46039f\"], [0.2222222222222222, \"#7201a8\"], [0.3333333333333333, \"#9c179e\"], [0.4444444444444444, \"#bd3786\"], [0.5555555555555556, \"#d8576b\"], [0.6666666666666666, \"#ed7953\"], [0.7777777777777778, \"#fb9f3a\"], [0.8888888888888888, \"#fdca26\"], [1.0, \"#f0f921\"]]}, \"colorway\": [\"#636efa\", \"#EF553B\", \"#00cc96\", \"#ab63fa\", \"#FFA15A\", \"#19d3f3\", \"#FF6692\", \"#B6E880\", \"#FF97FF\", \"#FECB52\"], \"font\": {\"color\": \"#2a3f5f\"}, \"geo\": {\"bgcolor\": \"white\", \"lakecolor\": \"white\", \"landcolor\": \"#E5ECF6\", \"showlakes\": true, \"showland\": true, \"subunitcolor\": \"white\"}, \"hoverlabel\": {\"align\": \"left\"}, \"hovermode\": \"closest\", \"mapbox\": {\"style\": \"light\"}, \"paper_bgcolor\": \"white\", \"plot_bgcolor\": \"#E5ECF6\", \"polar\": {\"angularaxis\": {\"gridcolor\": \"white\", \"linecolor\": \"white\", \"ticks\": \"\"}, \"bgcolor\": \"#E5ECF6\", \"radialaxis\": {\"gridcolor\": \"white\", \"linecolor\": \"white\", \"ticks\": \"\"}}, \"scene\": {\"xaxis\": {\"backgroundcolor\": \"#E5ECF6\", \"gridcolor\": \"white\", \"gridwidth\": 2, \"linecolor\": \"white\", \"showbackground\": true, \"ticks\": \"\", \"zerolinecolor\": \"white\"}, \"yaxis\": {\"backgroundcolor\": \"#E5ECF6\", \"gridcolor\": \"white\", \"gridwidth\": 2, \"linecolor\": \"white\", \"showbackground\": true, \"ticks\": \"\", \"zerolinecolor\": \"white\"}, \"zaxis\": {\"backgroundcolor\": \"#E5ECF6\", \"gridcolor\": \"white\", \"gridwidth\": 2, \"linecolor\": \"white\", \"showbackground\": true, \"ticks\": \"\", \"zerolinecolor\": \"white\"}}, \"shapedefaults\": {\"line\": {\"color\": \"#2a3f5f\"}}, \"ternary\": {\"aaxis\": {\"gridcolor\": \"white\", \"linecolor\": \"white\", \"ticks\": \"\"}, \"baxis\": {\"gridcolor\": \"white\", \"linecolor\": \"white\", \"ticks\": \"\"}, \"bgcolor\": \"#E5ECF6\", \"caxis\": {\"gridcolor\": \"white\", \"linecolor\": \"white\", \"ticks\": \"\"}}, \"title\": {\"x\": 0.05}, \"xaxis\": {\"automargin\": true, \"gridcolor\": \"white\", \"linecolor\": \"white\", \"ticks\": \"\", \"title\": {\"standoff\": 15}, \"zerolinecolor\": \"white\", \"zerolinewidth\": 2}, \"yaxis\": {\"automargin\": true, \"gridcolor\": \"white\", \"linecolor\": \"white\", \"ticks\": \"\", \"title\": {\"standoff\": 15}, \"zerolinecolor\": \"white\", \"zerolinewidth\": 2}}}, \"xaxis\": {\"anchor\": \"y\", \"domain\": [0.0, 1.0], \"title\": {\"text\": \"date\"}}, \"yaxis\": {\"anchor\": \"x\", \"domain\": [0.0, 1.0], \"title\": {\"text\": \"meter_reading-max\"}}},\n",
       "                        {\"responsive\": true}\n",
       "                    ).then(function(){\n",
       "                            \n",
       "var gd = document.getElementById('257a84c7-8a6c-4258-92cc-ad8d65ac5aab');\n",
       "var x = new MutationObserver(function (mutations, observer) {{\n",
       "        var display = window.getComputedStyle(gd).display;\n",
       "        if (!display || display === 'none') {{\n",
       "            console.log([gd, 'removed!']);\n",
       "            Plotly.purge(gd);\n",
       "            observer.disconnect();\n",
       "        }}\n",
       "}});\n",
       "\n",
       "// Listen for the removal of the full notebook cells\n",
       "var notebookContainer = gd.closest('#notebook-container');\n",
       "if (notebookContainer) {{\n",
       "    x.observe(notebookContainer, {childList: true});\n",
       "}}\n",
       "\n",
       "// Listen for the clearing of the current output cell\n",
       "var outputEl = gd.closest('.output');\n",
       "if (outputEl) {{\n",
       "    x.observe(outputEl, {childList: true});\n",
       "}}\n",
       "\n",
       "                        })\n",
       "                };\n",
       "                });\n",
       "            </script>\n",
       "        </div>"
      ]
     },
     "metadata": {},
     "output_type": "display_data"
    }
   ],
   "source": [
    "chilledwater = train_group_agg[train_group_agg['meter']=='chilledwater'].copy()\n",
    "chilledwater['building_id_max'] = pd.Categorical(chilledwater['building_id_max'])\n",
    "px.scatter(chilledwsteater, x='date', y='meter_reading-max', color='building_id_max')"
   ]
  },
  {
   "cell_type": "code",
   "execution_count": 33,
   "metadata": {},
   "outputs": [
    {
     "data": {
      "application/vnd.plotly.v1+json": {
       "config": {
        "plotlyServerURL": "https://plot.ly"
       },
       "data": [
        {
         "hoverlabel": {
          "namelength": 0
         },
         "hovertemplate": "building_id_max=1099<br>date=%{x}<br>meter_reading-max=%{y}",
         "legendgroup": "building_id_max=1099",
         "marker": {
          "color": "#636efa",
          "symbol": "circle"
         },
         "mode": "markers",
         "name": "building_id_max=1099",
         "showlegend": true,
         "type": "scatter",
         "x": [
          "2016-01-01",
          "2016-01-02",
          "2016-01-03",
          "2016-01-04",
          "2016-01-05",
          "2016-01-06",
          "2016-01-07",
          "2016-01-08",
          "2016-01-09",
          "2016-01-13",
          "2016-01-14",
          "2016-01-15",
          "2016-01-21",
          "2016-01-22",
          "2016-01-23",
          "2016-01-24",
          "2016-01-25",
          "2016-01-26",
          "2016-01-27",
          "2016-01-28",
          "2016-01-29",
          "2016-01-30",
          "2016-01-31",
          "2016-02-01",
          "2016-02-02",
          "2016-02-03",
          "2016-02-04",
          "2016-02-05",
          "2016-02-06",
          "2016-02-07",
          "2016-02-15",
          "2016-02-16",
          "2016-02-17",
          "2016-02-18",
          "2016-02-19",
          "2016-02-20",
          "2016-02-21",
          "2016-02-22",
          "2016-02-23",
          "2016-02-24",
          "2016-02-25",
          "2016-02-26",
          "2016-02-27",
          "2016-02-28",
          "2016-02-29",
          "2016-03-01",
          "2016-03-02",
          "2016-03-03",
          "2016-03-04",
          "2016-03-05",
          "2016-03-06",
          "2016-03-07",
          "2016-03-08",
          "2016-03-09",
          "2016-03-10",
          "2016-03-11",
          "2016-03-12",
          "2016-03-13",
          "2016-03-14",
          "2016-03-15",
          "2016-03-16",
          "2016-03-17",
          "2016-03-18",
          "2016-03-19",
          "2016-03-20",
          "2016-03-21",
          "2016-03-22",
          "2016-03-23",
          "2016-03-24",
          "2016-03-25",
          "2016-03-26",
          "2016-03-27",
          "2016-03-28",
          "2016-03-29",
          "2016-03-30",
          "2016-03-31",
          "2016-04-01",
          "2016-04-02",
          "2016-04-03",
          "2016-04-04",
          "2016-04-05",
          "2016-04-06",
          "2016-04-07",
          "2016-04-08",
          "2016-04-09",
          "2016-04-10",
          "2016-04-11",
          "2016-04-12",
          "2016-04-13",
          "2016-04-14",
          "2016-04-15",
          "2016-04-16",
          "2016-04-17",
          "2016-04-18",
          "2016-04-19",
          "2016-04-20",
          "2016-04-21",
          "2016-04-22",
          "2016-04-23",
          "2016-04-24",
          "2016-04-25",
          "2016-04-26",
          "2016-04-27",
          "2016-04-28",
          "2016-04-29",
          "2016-04-30",
          "2016-05-01",
          "2016-05-02",
          "2016-05-03",
          "2016-05-04",
          "2016-05-05",
          "2016-05-06",
          "2016-05-07",
          "2016-05-08",
          "2016-05-09",
          "2016-05-10",
          "2016-05-11",
          "2016-05-12",
          "2016-05-13",
          "2016-05-14",
          "2016-05-15",
          "2016-05-16",
          "2016-05-17",
          "2016-05-18",
          "2016-05-19",
          "2016-05-20",
          "2016-05-21",
          "2016-05-22",
          "2016-05-23",
          "2016-05-24",
          "2016-05-25",
          "2016-05-26",
          "2016-05-27",
          "2016-05-28",
          "2016-05-29",
          "2016-05-30",
          "2016-05-31",
          "2016-06-01",
          "2016-06-02",
          "2016-06-03",
          "2016-06-04",
          "2016-06-05",
          "2016-06-06",
          "2016-06-07",
          "2016-06-08",
          "2016-06-09",
          "2016-06-10",
          "2016-06-11",
          "2016-06-12",
          "2016-06-13",
          "2016-06-14",
          "2016-06-15",
          "2016-06-16",
          "2016-11-08",
          "2016-11-09",
          "2016-11-10",
          "2016-11-11",
          "2016-11-12"
         ],
         "xaxis": "x",
         "y": [
          50950800,
          18746688,
          18646320,
          27760238,
          58403172,
          112135008,
          160212272,
          174563712,
          130359040,
          7361686,
          28359880,
          33972564,
          31909284,
          10870470,
          16343202,
          14426950,
          6165526,
          24745776,
          30595974,
          25087324,
          20132670,
          47350944,
          13176504,
          27772872,
          77513760,
          124012928,
          28354364,
          24281606,
          40925192,
          1290696,
          6551212,
          20098604,
          9549460,
          16468702,
          30156648,
          45915108,
          10194428,
          15296380,
          27148292,
          32775602,
          22385926,
          62057624,
          191340880,
          190054272,
          86987992,
          16592412,
          8880850,
          13525682,
          16529132,
          5010380,
          77348624,
          290265824,
          430916192,
          455224704,
          257913408,
          266191488,
          413154688,
          374916800,
          391211296,
          397590208,
          423932800,
          226860672,
          163804832,
          168515648,
          148173328,
          126882648,
          206124688,
          252265248,
          209291248,
          280378048,
          169384176,
          169211072,
          170145584,
          299756928,
          357192608,
          304014368,
          235833936,
          136537552,
          227317424,
          167248384,
          249963968,
          234648144,
          128764648,
          256002960,
          147967968,
          158665280,
          150021216,
          123774408,
          199672256,
          395719168,
          300940256,
          254814048,
          218312352,
          356952992,
          427946304,
          450787904,
          400777088,
          447694592,
          347039008,
          445405408,
          396174208,
          432213792,
          452210304,
          443202304,
          400945792,
          174923264,
          171986464,
          145732832,
          178611216,
          147783008,
          151824192,
          291107072,
          238941392,
          160854800,
          205955280,
          424836192,
          386634912,
          356739712,
          461146912,
          169000784,
          152531648,
          142984320,
          153314064,
          155725296,
          135886624,
          179232304,
          295266240,
          272544736,
          364362112,
          404532096,
          376937440,
          384428704,
          379759104,
          385455104,
          388253504,
          382917312,
          371698496,
          383705408,
          378469792,
          437496704,
          367886912,
          368204512,
          418365696,
          392759488,
          395005600,
          398957696,
          383892288,
          413549600,
          406452992,
          419520000,
          384060000,
          383857408,
          383755648,
          37753760,
          403633408,
          275397280,
          22634380,
          2773850
         ],
         "yaxis": "y"
        },
        {
         "hoverlabel": {
          "namelength": 0
         },
         "hovertemplate": "building_id_max=1197<br>date=%{x}<br>meter_reading-max=%{y}",
         "legendgroup": "building_id_max=1197",
         "marker": {
          "color": "#EF553B",
          "symbol": "circle"
         },
         "mode": "markers",
         "name": "building_id_max=1197",
         "showlegend": true,
         "type": "scatter",
         "x": [
          "2016-01-10",
          "2016-01-11",
          "2016-01-12",
          "2016-01-16",
          "2016-01-17",
          "2016-01-18",
          "2016-01-19",
          "2016-01-20",
          "2016-02-08",
          "2016-02-09",
          "2016-02-10",
          "2016-02-11",
          "2016-02-12",
          "2016-02-13",
          "2016-02-14",
          "2016-06-23",
          "2016-06-24",
          "2016-06-26",
          "2016-06-27",
          "2016-06-28",
          "2016-06-29",
          "2016-06-30",
          "2016-07-01",
          "2016-07-02",
          "2016-07-03",
          "2016-07-04",
          "2016-07-06",
          "2016-07-07",
          "2016-07-08",
          "2016-07-09",
          "2016-07-10",
          "2016-07-16",
          "2016-07-17",
          "2016-07-29",
          "2016-07-30",
          "2016-07-31",
          "2016-08-07",
          "2016-08-08",
          "2016-08-21",
          "2016-08-30",
          "2016-08-31",
          "2016-09-05",
          "2016-09-07",
          "2016-09-13",
          "2016-09-14",
          "2016-09-15",
          "2016-09-16",
          "2016-09-17",
          "2016-09-20",
          "2016-09-21",
          "2016-09-22",
          "2016-09-23",
          "2016-09-24",
          "2016-09-25",
          "2016-09-26",
          "2016-09-27",
          "2016-09-28",
          "2016-09-29",
          "2016-09-30",
          "2016-10-01",
          "2016-10-05",
          "2016-10-06",
          "2016-10-10",
          "2016-10-11",
          "2016-10-13",
          "2016-10-14",
          "2016-10-15",
          "2016-10-16",
          "2016-10-17",
          "2016-10-18",
          "2016-10-19",
          "2016-10-20",
          "2016-10-21",
          "2016-10-22",
          "2016-10-23",
          "2016-10-24",
          "2016-10-25",
          "2016-10-26",
          "2016-10-27",
          "2016-10-28",
          "2016-10-29",
          "2016-10-30",
          "2016-10-31",
          "2016-11-01",
          "2016-11-02",
          "2016-11-03",
          "2016-11-04",
          "2016-11-05",
          "2016-11-06",
          "2016-11-07",
          "2016-11-13",
          "2016-11-14",
          "2016-11-15",
          "2016-11-16",
          "2016-11-17",
          "2016-11-18",
          "2016-11-19",
          "2016-11-20",
          "2016-11-21",
          "2016-11-22",
          "2016-11-28"
         ],
         "xaxis": "x",
         "y": [
          2888890,
          2874718,
          2926784,
          2845829,
          2976046,
          2966280,
          2891469,
          2654842,
          1839719.125,
          1942453.25,
          2010484.5,
          1923328.125,
          1987203.25,
          2061125.25,
          1778875.25,
          828218.8125,
          772499.875,
          793218.6875,
          783937.6875,
          812719.125,
          801874.875,
          777187.375,
          842250.125,
          756500.125,
          734655.8125,
          730687.375,
          772812.5,
          764281,
          774156.375,
          763437.5,
          740875.375,
          748281.375,
          740968.6875,
          798375.3125,
          730593.625,
          738501.1875,
          751281.3125,
          799625.125,
          819437.6875,
          777000.375,
          820500.125,
          744125,
          779249.9375,
          923124.875,
          960562.5,
          896593.8125,
          869719,
          853968.875,
          881187.8125,
          859844,
          869125.125,
          895000.125,
          826937.6875,
          851781.3125,
          983343.8125,
          1032937.875,
          1029187.5,
          1007344,
          974406.375,
          910875,
          950249.8125,
          1027031.1875,
          990243.6875,
          959282.625,
          1190281.25,
          1100593.625,
          948500,
          1003250.375,
          967813,
          1041031.3125,
          1160750.25,
          1265156.375,
          1198406.25,
          1098656.5,
          1102094,
          1229906.375,
          1245531.25,
          1274375.25,
          1249938,
          1093563,
          1082406.25,
          1223718.75,
          1188531.625,
          1075875.25,
          1124406.125,
          1102156.25,
          1086687.75,
          1028343.6875,
          1062781.5,
          1063093.75,
          1134000,
          1215562.5,
          1225093.75,
          1182656.25,
          1140093.875,
          1320781.25,
          1489687.75,
          1514250,
          1500312.375,
          1473625.125,
          801437.6875
         ],
         "yaxis": "y"
        },
        {
         "hoverlabel": {
          "namelength": 0
         },
         "hovertemplate": "building_id_max=1168<br>date=%{x}<br>meter_reading-max=%{y}",
         "legendgroup": "building_id_max=1168",
         "marker": {
          "color": "#00cc96",
          "symbol": "circle"
         },
         "mode": "markers",
         "name": "building_id_max=1168",
         "showlegend": true,
         "type": "scatter",
         "x": [
          "2016-06-17",
          "2016-06-18",
          "2016-06-19",
          "2016-06-20",
          "2016-06-21",
          "2016-06-22",
          "2016-06-25",
          "2016-07-05",
          "2016-07-11",
          "2016-07-12",
          "2016-07-13",
          "2016-07-14",
          "2016-07-15",
          "2016-07-18",
          "2016-07-19",
          "2016-07-20",
          "2016-07-21",
          "2016-07-22",
          "2016-07-23",
          "2016-07-24",
          "2016-07-25",
          "2016-07-26",
          "2016-07-27",
          "2016-07-28",
          "2016-08-01",
          "2016-08-02",
          "2016-08-03",
          "2016-08-04",
          "2016-08-05",
          "2016-08-06",
          "2016-08-09",
          "2016-08-10",
          "2016-08-11",
          "2016-08-12",
          "2016-08-13",
          "2016-08-14",
          "2016-08-15",
          "2016-08-16",
          "2016-08-17",
          "2016-08-18",
          "2016-08-19",
          "2016-08-20",
          "2016-08-22",
          "2016-08-23",
          "2016-08-24",
          "2016-08-25",
          "2016-08-26",
          "2016-08-27",
          "2016-08-28",
          "2016-08-29",
          "2016-09-01",
          "2016-09-02",
          "2016-09-03",
          "2016-09-04",
          "2016-09-06",
          "2016-09-08",
          "2016-09-09",
          "2016-09-10",
          "2016-09-11",
          "2016-09-12",
          "2016-09-18",
          "2016-09-19",
          "2016-11-23",
          "2016-11-24",
          "2016-11-25",
          "2016-11-26",
          "2016-11-27",
          "2016-11-29",
          "2016-11-30",
          "2016-12-01",
          "2016-12-02",
          "2016-12-03",
          "2016-12-04",
          "2016-12-05",
          "2016-12-06",
          "2016-12-07",
          "2016-12-08",
          "2016-12-09",
          "2016-12-10",
          "2016-12-11",
          "2016-12-12",
          "2016-12-13",
          "2016-12-14",
          "2016-12-15",
          "2016-12-16",
          "2016-12-17",
          "2016-12-18",
          "2016-12-19",
          "2016-12-20",
          "2016-12-21",
          "2016-12-22",
          "2016-12-23",
          "2016-12-24",
          "2016-12-25",
          "2016-12-26",
          "2016-12-27",
          "2016-12-28",
          "2016-12-29",
          "2016-12-30",
          "2016-12-31"
         ],
         "xaxis": "x",
         "y": [
          1561875,
          2240250,
          2203875,
          2036250,
          1826250,
          1200000,
          1425375,
          1445250,
          2065875,
          2661750,
          1560000,
          1188375,
          1105500,
          873375,
          2183250,
          2655750,
          2693250,
          2742375,
          2746125,
          2608500,
          2769375,
          2824500,
          2816250,
          2618250,
          1435875,
          3012750,
          3025500,
          3016875,
          2587500,
          1293375,
          1455750,
          2776125,
          2749125,
          2718750,
          2671875,
          2694000,
          1985625,
          1214250,
          1238250,
          1218750,
          1231875,
          985875,
          1064625,
          1277625,
          1324500,
          1414125,
          1225500,
          1523250,
          844875,
          1531500,
          826125,
          827625,
          794625,
          780000,
          1456500,
          1541250,
          2255250,
          1996125,
          1999125,
          1081875,
          1449000,
          1257375,
          1139250,
          1066500,
          1046625,
          932625,
          949125,
          1013250,
          958125,
          978750,
          1153125,
          1178250,
          1061250,
          1061250,
          1346625,
          1502625,
          1482750,
          1578750,
          1764750,
          1532250,
          1866750,
          2004750,
          1965375,
          2161500,
          1849875,
          1955625,
          2367375,
          1803000,
          1299375,
          1099125,
          1231125,
          1067250,
          1059375,
          1085625,
          1383375,
          1562625,
          1297125,
          1319625,
          1410375,
          1324875
         ],
         "yaxis": "y"
        },
        {
         "hoverlabel": {
          "namelength": 0
         },
         "hovertemplate": "building_id_max=1148<br>date=%{x}<br>meter_reading-max=%{y}",
         "legendgroup": "building_id_max=1148",
         "marker": {
          "color": "#ab63fa",
          "symbol": "circle"
         },
         "mode": "markers",
         "name": "building_id_max=1148",
         "showlegend": true,
         "type": "scatter",
         "x": [
          "2016-10-02",
          "2016-10-03",
          "2016-10-04",
          "2016-10-07",
          "2016-10-08",
          "2016-10-09",
          "2016-10-12"
         ],
         "xaxis": "x",
         "y": [
          978867.3125,
          969257.875,
          941484.375,
          1187976.5,
          1214812.5,
          1143586.125,
          1216124.875
         ],
         "yaxis": "y"
        }
       ],
       "layout": {
        "height": 600,
        "legend": {
         "tracegroupgap": 0
        },
        "margin": {
         "t": 60
        },
        "template": {
         "data": {
          "bar": [
           {
            "error_x": {
             "color": "#2a3f5f"
            },
            "error_y": {
             "color": "#2a3f5f"
            },
            "marker": {
             "line": {
              "color": "#E5ECF6",
              "width": 0.5
             }
            },
            "type": "bar"
           }
          ],
          "barpolar": [
           {
            "marker": {
             "line": {
              "color": "#E5ECF6",
              "width": 0.5
             }
            },
            "type": "barpolar"
           }
          ],
          "carpet": [
           {
            "aaxis": {
             "endlinecolor": "#2a3f5f",
             "gridcolor": "white",
             "linecolor": "white",
             "minorgridcolor": "white",
             "startlinecolor": "#2a3f5f"
            },
            "baxis": {
             "endlinecolor": "#2a3f5f",
             "gridcolor": "white",
             "linecolor": "white",
             "minorgridcolor": "white",
             "startlinecolor": "#2a3f5f"
            },
            "type": "carpet"
           }
          ],
          "choropleth": [
           {
            "colorbar": {
             "outlinewidth": 0,
             "ticks": ""
            },
            "type": "choropleth"
           }
          ],
          "contour": [
           {
            "colorbar": {
             "outlinewidth": 0,
             "ticks": ""
            },
            "colorscale": [
             [
              0,
              "#0d0887"
             ],
             [
              0.1111111111111111,
              "#46039f"
             ],
             [
              0.2222222222222222,
              "#7201a8"
             ],
             [
              0.3333333333333333,
              "#9c179e"
             ],
             [
              0.4444444444444444,
              "#bd3786"
             ],
             [
              0.5555555555555556,
              "#d8576b"
             ],
             [
              0.6666666666666666,
              "#ed7953"
             ],
             [
              0.7777777777777778,
              "#fb9f3a"
             ],
             [
              0.8888888888888888,
              "#fdca26"
             ],
             [
              1,
              "#f0f921"
             ]
            ],
            "type": "contour"
           }
          ],
          "contourcarpet": [
           {
            "colorbar": {
             "outlinewidth": 0,
             "ticks": ""
            },
            "type": "contourcarpet"
           }
          ],
          "heatmap": [
           {
            "colorbar": {
             "outlinewidth": 0,
             "ticks": ""
            },
            "colorscale": [
             [
              0,
              "#0d0887"
             ],
             [
              0.1111111111111111,
              "#46039f"
             ],
             [
              0.2222222222222222,
              "#7201a8"
             ],
             [
              0.3333333333333333,
              "#9c179e"
             ],
             [
              0.4444444444444444,
              "#bd3786"
             ],
             [
              0.5555555555555556,
              "#d8576b"
             ],
             [
              0.6666666666666666,
              "#ed7953"
             ],
             [
              0.7777777777777778,
              "#fb9f3a"
             ],
             [
              0.8888888888888888,
              "#fdca26"
             ],
             [
              1,
              "#f0f921"
             ]
            ],
            "type": "heatmap"
           }
          ],
          "heatmapgl": [
           {
            "colorbar": {
             "outlinewidth": 0,
             "ticks": ""
            },
            "colorscale": [
             [
              0,
              "#0d0887"
             ],
             [
              0.1111111111111111,
              "#46039f"
             ],
             [
              0.2222222222222222,
              "#7201a8"
             ],
             [
              0.3333333333333333,
              "#9c179e"
             ],
             [
              0.4444444444444444,
              "#bd3786"
             ],
             [
              0.5555555555555556,
              "#d8576b"
             ],
             [
              0.6666666666666666,
              "#ed7953"
             ],
             [
              0.7777777777777778,
              "#fb9f3a"
             ],
             [
              0.8888888888888888,
              "#fdca26"
             ],
             [
              1,
              "#f0f921"
             ]
            ],
            "type": "heatmapgl"
           }
          ],
          "histogram": [
           {
            "marker": {
             "colorbar": {
              "outlinewidth": 0,
              "ticks": ""
             }
            },
            "type": "histogram"
           }
          ],
          "histogram2d": [
           {
            "colorbar": {
             "outlinewidth": 0,
             "ticks": ""
            },
            "colorscale": [
             [
              0,
              "#0d0887"
             ],
             [
              0.1111111111111111,
              "#46039f"
             ],
             [
              0.2222222222222222,
              "#7201a8"
             ],
             [
              0.3333333333333333,
              "#9c179e"
             ],
             [
              0.4444444444444444,
              "#bd3786"
             ],
             [
              0.5555555555555556,
              "#d8576b"
             ],
             [
              0.6666666666666666,
              "#ed7953"
             ],
             [
              0.7777777777777778,
              "#fb9f3a"
             ],
             [
              0.8888888888888888,
              "#fdca26"
             ],
             [
              1,
              "#f0f921"
             ]
            ],
            "type": "histogram2d"
           }
          ],
          "histogram2dcontour": [
           {
            "colorbar": {
             "outlinewidth": 0,
             "ticks": ""
            },
            "colorscale": [
             [
              0,
              "#0d0887"
             ],
             [
              0.1111111111111111,
              "#46039f"
             ],
             [
              0.2222222222222222,
              "#7201a8"
             ],
             [
              0.3333333333333333,
              "#9c179e"
             ],
             [
              0.4444444444444444,
              "#bd3786"
             ],
             [
              0.5555555555555556,
              "#d8576b"
             ],
             [
              0.6666666666666666,
              "#ed7953"
             ],
             [
              0.7777777777777778,
              "#fb9f3a"
             ],
             [
              0.8888888888888888,
              "#fdca26"
             ],
             [
              1,
              "#f0f921"
             ]
            ],
            "type": "histogram2dcontour"
           }
          ],
          "mesh3d": [
           {
            "colorbar": {
             "outlinewidth": 0,
             "ticks": ""
            },
            "type": "mesh3d"
           }
          ],
          "parcoords": [
           {
            "line": {
             "colorbar": {
              "outlinewidth": 0,
              "ticks": ""
             }
            },
            "type": "parcoords"
           }
          ],
          "pie": [
           {
            "automargin": true,
            "type": "pie"
           }
          ],
          "scatter": [
           {
            "marker": {
             "colorbar": {
              "outlinewidth": 0,
              "ticks": ""
             }
            },
            "type": "scatter"
           }
          ],
          "scatter3d": [
           {
            "line": {
             "colorbar": {
              "outlinewidth": 0,
              "ticks": ""
             }
            },
            "marker": {
             "colorbar": {
              "outlinewidth": 0,
              "ticks": ""
             }
            },
            "type": "scatter3d"
           }
          ],
          "scattercarpet": [
           {
            "marker": {
             "colorbar": {
              "outlinewidth": 0,
              "ticks": ""
             }
            },
            "type": "scattercarpet"
           }
          ],
          "scattergeo": [
           {
            "marker": {
             "colorbar": {
              "outlinewidth": 0,
              "ticks": ""
             }
            },
            "type": "scattergeo"
           }
          ],
          "scattergl": [
           {
            "marker": {
             "colorbar": {
              "outlinewidth": 0,
              "ticks": ""
             }
            },
            "type": "scattergl"
           }
          ],
          "scattermapbox": [
           {
            "marker": {
             "colorbar": {
              "outlinewidth": 0,
              "ticks": ""
             }
            },
            "type": "scattermapbox"
           }
          ],
          "scatterpolar": [
           {
            "marker": {
             "colorbar": {
              "outlinewidth": 0,
              "ticks": ""
             }
            },
            "type": "scatterpolar"
           }
          ],
          "scatterpolargl": [
           {
            "marker": {
             "colorbar": {
              "outlinewidth": 0,
              "ticks": ""
             }
            },
            "type": "scatterpolargl"
           }
          ],
          "scatterternary": [
           {
            "marker": {
             "colorbar": {
              "outlinewidth": 0,
              "ticks": ""
             }
            },
            "type": "scatterternary"
           }
          ],
          "surface": [
           {
            "colorbar": {
             "outlinewidth": 0,
             "ticks": ""
            },
            "colorscale": [
             [
              0,
              "#0d0887"
             ],
             [
              0.1111111111111111,
              "#46039f"
             ],
             [
              0.2222222222222222,
              "#7201a8"
             ],
             [
              0.3333333333333333,
              "#9c179e"
             ],
             [
              0.4444444444444444,
              "#bd3786"
             ],
             [
              0.5555555555555556,
              "#d8576b"
             ],
             [
              0.6666666666666666,
              "#ed7953"
             ],
             [
              0.7777777777777778,
              "#fb9f3a"
             ],
             [
              0.8888888888888888,
              "#fdca26"
             ],
             [
              1,
              "#f0f921"
             ]
            ],
            "type": "surface"
           }
          ],
          "table": [
           {
            "cells": {
             "fill": {
              "color": "#EBF0F8"
             },
             "line": {
              "color": "white"
             }
            },
            "header": {
             "fill": {
              "color": "#C8D4E3"
             },
             "line": {
              "color": "white"
             }
            },
            "type": "table"
           }
          ]
         },
         "layout": {
          "annotationdefaults": {
           "arrowcolor": "#2a3f5f",
           "arrowhead": 0,
           "arrowwidth": 1
          },
          "coloraxis": {
           "colorbar": {
            "outlinewidth": 0,
            "ticks": ""
           }
          },
          "colorscale": {
           "diverging": [
            [
             0,
             "#8e0152"
            ],
            [
             0.1,
             "#c51b7d"
            ],
            [
             0.2,
             "#de77ae"
            ],
            [
             0.3,
             "#f1b6da"
            ],
            [
             0.4,
             "#fde0ef"
            ],
            [
             0.5,
             "#f7f7f7"
            ],
            [
             0.6,
             "#e6f5d0"
            ],
            [
             0.7,
             "#b8e186"
            ],
            [
             0.8,
             "#7fbc41"
            ],
            [
             0.9,
             "#4d9221"
            ],
            [
             1,
             "#276419"
            ]
           ],
           "sequential": [
            [
             0,
             "#0d0887"
            ],
            [
             0.1111111111111111,
             "#46039f"
            ],
            [
             0.2222222222222222,
             "#7201a8"
            ],
            [
             0.3333333333333333,
             "#9c179e"
            ],
            [
             0.4444444444444444,
             "#bd3786"
            ],
            [
             0.5555555555555556,
             "#d8576b"
            ],
            [
             0.6666666666666666,
             "#ed7953"
            ],
            [
             0.7777777777777778,
             "#fb9f3a"
            ],
            [
             0.8888888888888888,
             "#fdca26"
            ],
            [
             1,
             "#f0f921"
            ]
           ],
           "sequentialminus": [
            [
             0,
             "#0d0887"
            ],
            [
             0.1111111111111111,
             "#46039f"
            ],
            [
             0.2222222222222222,
             "#7201a8"
            ],
            [
             0.3333333333333333,
             "#9c179e"
            ],
            [
             0.4444444444444444,
             "#bd3786"
            ],
            [
             0.5555555555555556,
             "#d8576b"
            ],
            [
             0.6666666666666666,
             "#ed7953"
            ],
            [
             0.7777777777777778,
             "#fb9f3a"
            ],
            [
             0.8888888888888888,
             "#fdca26"
            ],
            [
             1,
             "#f0f921"
            ]
           ]
          },
          "colorway": [
           "#636efa",
           "#EF553B",
           "#00cc96",
           "#ab63fa",
           "#FFA15A",
           "#19d3f3",
           "#FF6692",
           "#B6E880",
           "#FF97FF",
           "#FECB52"
          ],
          "font": {
           "color": "#2a3f5f"
          },
          "geo": {
           "bgcolor": "white",
           "lakecolor": "white",
           "landcolor": "#E5ECF6",
           "showlakes": true,
           "showland": true,
           "subunitcolor": "white"
          },
          "hoverlabel": {
           "align": "left"
          },
          "hovermode": "closest",
          "mapbox": {
           "style": "light"
          },
          "paper_bgcolor": "white",
          "plot_bgcolor": "#E5ECF6",
          "polar": {
           "angularaxis": {
            "gridcolor": "white",
            "linecolor": "white",
            "ticks": ""
           },
           "bgcolor": "#E5ECF6",
           "radialaxis": {
            "gridcolor": "white",
            "linecolor": "white",
            "ticks": ""
           }
          },
          "scene": {
           "xaxis": {
            "backgroundcolor": "#E5ECF6",
            "gridcolor": "white",
            "gridwidth": 2,
            "linecolor": "white",
            "showbackground": true,
            "ticks": "",
            "zerolinecolor": "white"
           },
           "yaxis": {
            "backgroundcolor": "#E5ECF6",
            "gridcolor": "white",
            "gridwidth": 2,
            "linecolor": "white",
            "showbackground": true,
            "ticks": "",
            "zerolinecolor": "white"
           },
           "zaxis": {
            "backgroundcolor": "#E5ECF6",
            "gridcolor": "white",
            "gridwidth": 2,
            "linecolor": "white",
            "showbackground": true,
            "ticks": "",
            "zerolinecolor": "white"
           }
          },
          "shapedefaults": {
           "line": {
            "color": "#2a3f5f"
           }
          },
          "ternary": {
           "aaxis": {
            "gridcolor": "white",
            "linecolor": "white",
            "ticks": ""
           },
           "baxis": {
            "gridcolor": "white",
            "linecolor": "white",
            "ticks": ""
           },
           "bgcolor": "#E5ECF6",
           "caxis": {
            "gridcolor": "white",
            "linecolor": "white",
            "ticks": ""
           }
          },
          "title": {
           "x": 0.05
          },
          "xaxis": {
           "automargin": true,
           "gridcolor": "white",
           "linecolor": "white",
           "ticks": "",
           "title": {
            "standoff": 15
           },
           "zerolinecolor": "white",
           "zerolinewidth": 2
          },
          "yaxis": {
           "automargin": true,
           "gridcolor": "white",
           "linecolor": "white",
           "ticks": "",
           "title": {
            "standoff": 15
           },
           "zerolinecolor": "white",
           "zerolinewidth": 2
          }
         }
        },
        "xaxis": {
         "anchor": "y",
         "domain": [
          0,
          1
         ],
         "title": {
          "text": "date"
         }
        },
        "yaxis": {
         "anchor": "x",
         "domain": [
          0,
          1
         ],
         "title": {
          "text": "meter_reading-max"
         }
        }
       }
      },
      "text/html": [
       "<div>\n",
       "        \n",
       "        \n",
       "            <div id=\"29ad7b8d-9812-48db-a0fe-7643b274af79\" class=\"plotly-graph-div\" style=\"height:600px; width:100%;\"></div>\n",
       "            <script type=\"text/javascript\">\n",
       "                require([\"plotly\"], function(Plotly) {\n",
       "                    window.PLOTLYENV=window.PLOTLYENV || {};\n",
       "                    \n",
       "                if (document.getElementById(\"29ad7b8d-9812-48db-a0fe-7643b274af79\")) {\n",
       "                    Plotly.newPlot(\n",
       "                        '29ad7b8d-9812-48db-a0fe-7643b274af79',\n",
       "                        [{\"hoverlabel\": {\"namelength\": 0}, \"hovertemplate\": \"building_id_max=1099<br>date=%{x}<br>meter_reading-max=%{y}\", \"legendgroup\": \"building_id_max=1099\", \"marker\": {\"color\": \"#636efa\", \"symbol\": \"circle\"}, \"mode\": \"markers\", \"name\": \"building_id_max=1099\", \"showlegend\": true, \"type\": \"scatter\", \"x\": [\"2016-01-01\", \"2016-01-02\", \"2016-01-03\", \"2016-01-04\", \"2016-01-05\", \"2016-01-06\", \"2016-01-07\", \"2016-01-08\", \"2016-01-09\", \"2016-01-13\", \"2016-01-14\", \"2016-01-15\", \"2016-01-21\", \"2016-01-22\", \"2016-01-23\", \"2016-01-24\", \"2016-01-25\", \"2016-01-26\", \"2016-01-27\", \"2016-01-28\", \"2016-01-29\", \"2016-01-30\", \"2016-01-31\", \"2016-02-01\", \"2016-02-02\", \"2016-02-03\", \"2016-02-04\", \"2016-02-05\", \"2016-02-06\", \"2016-02-07\", \"2016-02-15\", \"2016-02-16\", \"2016-02-17\", \"2016-02-18\", \"2016-02-19\", \"2016-02-20\", \"2016-02-21\", \"2016-02-22\", \"2016-02-23\", \"2016-02-24\", \"2016-02-25\", \"2016-02-26\", \"2016-02-27\", \"2016-02-28\", \"2016-02-29\", \"2016-03-01\", \"2016-03-02\", \"2016-03-03\", \"2016-03-04\", \"2016-03-05\", \"2016-03-06\", \"2016-03-07\", \"2016-03-08\", \"2016-03-09\", \"2016-03-10\", \"2016-03-11\", \"2016-03-12\", \"2016-03-13\", \"2016-03-14\", \"2016-03-15\", \"2016-03-16\", \"2016-03-17\", \"2016-03-18\", \"2016-03-19\", \"2016-03-20\", \"2016-03-21\", \"2016-03-22\", \"2016-03-23\", \"2016-03-24\", \"2016-03-25\", \"2016-03-26\", \"2016-03-27\", \"2016-03-28\", \"2016-03-29\", \"2016-03-30\", \"2016-03-31\", \"2016-04-01\", \"2016-04-02\", \"2016-04-03\", \"2016-04-04\", \"2016-04-05\", \"2016-04-06\", \"2016-04-07\", \"2016-04-08\", \"2016-04-09\", \"2016-04-10\", \"2016-04-11\", \"2016-04-12\", \"2016-04-13\", \"2016-04-14\", \"2016-04-15\", \"2016-04-16\", \"2016-04-17\", \"2016-04-18\", \"2016-04-19\", \"2016-04-20\", \"2016-04-21\", \"2016-04-22\", \"2016-04-23\", \"2016-04-24\", \"2016-04-25\", \"2016-04-26\", \"2016-04-27\", \"2016-04-28\", \"2016-04-29\", \"2016-04-30\", \"2016-05-01\", \"2016-05-02\", \"2016-05-03\", \"2016-05-04\", \"2016-05-05\", \"2016-05-06\", \"2016-05-07\", \"2016-05-08\", \"2016-05-09\", \"2016-05-10\", \"2016-05-11\", \"2016-05-12\", \"2016-05-13\", \"2016-05-14\", \"2016-05-15\", \"2016-05-16\", \"2016-05-17\", \"2016-05-18\", \"2016-05-19\", \"2016-05-20\", \"2016-05-21\", \"2016-05-22\", \"2016-05-23\", \"2016-05-24\", \"2016-05-25\", \"2016-05-26\", \"2016-05-27\", \"2016-05-28\", \"2016-05-29\", \"2016-05-30\", \"2016-05-31\", \"2016-06-01\", \"2016-06-02\", \"2016-06-03\", \"2016-06-04\", \"2016-06-05\", \"2016-06-06\", \"2016-06-07\", \"2016-06-08\", \"2016-06-09\", \"2016-06-10\", \"2016-06-11\", \"2016-06-12\", \"2016-06-13\", \"2016-06-14\", \"2016-06-15\", \"2016-06-16\", \"2016-11-08\", \"2016-11-09\", \"2016-11-10\", \"2016-11-11\", \"2016-11-12\"], \"xaxis\": \"x\", \"y\": [50950800.0, 18746688.0, 18646320.0, 27760238.0, 58403172.0, 112135008.0, 160212272.0, 174563712.0, 130359040.0, 7361686.0, 28359880.0, 33972564.0, 31909284.0, 10870470.0, 16343202.0, 14426950.0, 6165526.0, 24745776.0, 30595974.0, 25087324.0, 20132670.0, 47350944.0, 13176504.0, 27772872.0, 77513760.0, 124012928.0, 28354364.0, 24281606.0, 40925192.0, 1290696.0, 6551212.0, 20098604.0, 9549460.0, 16468702.0, 30156648.0, 45915108.0, 10194428.0, 15296380.0, 27148292.0, 32775602.0, 22385926.0, 62057624.0, 191340880.0, 190054272.0, 86987992.0, 16592412.0, 8880850.0, 13525682.0, 16529132.0, 5010380.0, 77348624.0, 290265824.0, 430916192.0, 455224704.0, 257913408.0, 266191488.0, 413154688.0, 374916800.0, 391211296.0, 397590208.0, 423932800.0, 226860672.0, 163804832.0, 168515648.0, 148173328.0, 126882648.0, 206124688.0, 252265248.0, 209291248.0, 280378048.0, 169384176.0, 169211072.0, 170145584.0, 299756928.0, 357192608.0, 304014368.0, 235833936.0, 136537552.0, 227317424.0, 167248384.0, 249963968.0, 234648144.0, 128764648.0, 256002960.0, 147967968.0, 158665280.0, 150021216.0, 123774408.0, 199672256.0, 395719168.0, 300940256.0, 254814048.0, 218312352.0, 356952992.0, 427946304.0, 450787904.0, 400777088.0, 447694592.0, 347039008.0, 445405408.0, 396174208.0, 432213792.0, 452210304.0, 443202304.0, 400945792.0, 174923264.0, 171986464.0, 145732832.0, 178611216.0, 147783008.0, 151824192.0, 291107072.0, 238941392.0, 160854800.0, 205955280.0, 424836192.0, 386634912.0, 356739712.0, 461146912.0, 169000784.0, 152531648.0, 142984320.0, 153314064.0, 155725296.0, 135886624.0, 179232304.0, 295266240.0, 272544736.0, 364362112.0, 404532096.0, 376937440.0, 384428704.0, 379759104.0, 385455104.0, 388253504.0, 382917312.0, 371698496.0, 383705408.0, 378469792.0, 437496704.0, 367886912.0, 368204512.0, 418365696.0, 392759488.0, 395005600.0, 398957696.0, 383892288.0, 413549600.0, 406452992.0, 419520000.0, 384060000.0, 383857408.0, 383755648.0, 37753760.0, 403633408.0, 275397280.0, 22634380.0, 2773850.0], \"yaxis\": \"y\"}, {\"hoverlabel\": {\"namelength\": 0}, \"hovertemplate\": \"building_id_max=1197<br>date=%{x}<br>meter_reading-max=%{y}\", \"legendgroup\": \"building_id_max=1197\", \"marker\": {\"color\": \"#EF553B\", \"symbol\": \"circle\"}, \"mode\": \"markers\", \"name\": \"building_id_max=1197\", \"showlegend\": true, \"type\": \"scatter\", \"x\": [\"2016-01-10\", \"2016-01-11\", \"2016-01-12\", \"2016-01-16\", \"2016-01-17\", \"2016-01-18\", \"2016-01-19\", \"2016-01-20\", \"2016-02-08\", \"2016-02-09\", \"2016-02-10\", \"2016-02-11\", \"2016-02-12\", \"2016-02-13\", \"2016-02-14\", \"2016-06-23\", \"2016-06-24\", \"2016-06-26\", \"2016-06-27\", \"2016-06-28\", \"2016-06-29\", \"2016-06-30\", \"2016-07-01\", \"2016-07-02\", \"2016-07-03\", \"2016-07-04\", \"2016-07-06\", \"2016-07-07\", \"2016-07-08\", \"2016-07-09\", \"2016-07-10\", \"2016-07-16\", \"2016-07-17\", \"2016-07-29\", \"2016-07-30\", \"2016-07-31\", \"2016-08-07\", \"2016-08-08\", \"2016-08-21\", \"2016-08-30\", \"2016-08-31\", \"2016-09-05\", \"2016-09-07\", \"2016-09-13\", \"2016-09-14\", \"2016-09-15\", \"2016-09-16\", \"2016-09-17\", \"2016-09-20\", \"2016-09-21\", \"2016-09-22\", \"2016-09-23\", \"2016-09-24\", \"2016-09-25\", \"2016-09-26\", \"2016-09-27\", \"2016-09-28\", \"2016-09-29\", \"2016-09-30\", \"2016-10-01\", \"2016-10-05\", \"2016-10-06\", \"2016-10-10\", \"2016-10-11\", \"2016-10-13\", \"2016-10-14\", \"2016-10-15\", \"2016-10-16\", \"2016-10-17\", \"2016-10-18\", \"2016-10-19\", \"2016-10-20\", \"2016-10-21\", \"2016-10-22\", \"2016-10-23\", \"2016-10-24\", \"2016-10-25\", \"2016-10-26\", \"2016-10-27\", \"2016-10-28\", \"2016-10-29\", \"2016-10-30\", \"2016-10-31\", \"2016-11-01\", \"2016-11-02\", \"2016-11-03\", \"2016-11-04\", \"2016-11-05\", \"2016-11-06\", \"2016-11-07\", \"2016-11-13\", \"2016-11-14\", \"2016-11-15\", \"2016-11-16\", \"2016-11-17\", \"2016-11-18\", \"2016-11-19\", \"2016-11-20\", \"2016-11-21\", \"2016-11-22\", \"2016-11-28\"], \"xaxis\": \"x\", \"y\": [2888890.0, 2874718.0, 2926784.0, 2845829.0, 2976046.0, 2966280.0, 2891469.0, 2654842.0, 1839719.125, 1942453.25, 2010484.5, 1923328.125, 1987203.25, 2061125.25, 1778875.25, 828218.8125, 772499.875, 793218.6875, 783937.6875, 812719.125, 801874.875, 777187.375, 842250.125, 756500.125, 734655.8125, 730687.375, 772812.5, 764281.0, 774156.375, 763437.5, 740875.375, 748281.375, 740968.6875, 798375.3125, 730593.625, 738501.1875, 751281.3125, 799625.125, 819437.6875, 777000.375, 820500.125, 744125.0, 779249.9375, 923124.875, 960562.5, 896593.8125, 869719.0, 853968.875, 881187.8125, 859844.0, 869125.125, 895000.125, 826937.6875, 851781.3125, 983343.8125, 1032937.875, 1029187.5, 1007344.0, 974406.375, 910875.0, 950249.8125, 1027031.1875, 990243.6875, 959282.625, 1190281.25, 1100593.625, 948500.0, 1003250.375, 967813.0, 1041031.3125, 1160750.25, 1265156.375, 1198406.25, 1098656.5, 1102094.0, 1229906.375, 1245531.25, 1274375.25, 1249938.0, 1093563.0, 1082406.25, 1223718.75, 1188531.625, 1075875.25, 1124406.125, 1102156.25, 1086687.75, 1028343.6875, 1062781.5, 1063093.75, 1134000.0, 1215562.5, 1225093.75, 1182656.25, 1140093.875, 1320781.25, 1489687.75, 1514250.0, 1500312.375, 1473625.125, 801437.6875], \"yaxis\": \"y\"}, {\"hoverlabel\": {\"namelength\": 0}, \"hovertemplate\": \"building_id_max=1168<br>date=%{x}<br>meter_reading-max=%{y}\", \"legendgroup\": \"building_id_max=1168\", \"marker\": {\"color\": \"#00cc96\", \"symbol\": \"circle\"}, \"mode\": \"markers\", \"name\": \"building_id_max=1168\", \"showlegend\": true, \"type\": \"scatter\", \"x\": [\"2016-06-17\", \"2016-06-18\", \"2016-06-19\", \"2016-06-20\", \"2016-06-21\", \"2016-06-22\", \"2016-06-25\", \"2016-07-05\", \"2016-07-11\", \"2016-07-12\", \"2016-07-13\", \"2016-07-14\", \"2016-07-15\", \"2016-07-18\", \"2016-07-19\", \"2016-07-20\", \"2016-07-21\", \"2016-07-22\", \"2016-07-23\", \"2016-07-24\", \"2016-07-25\", \"2016-07-26\", \"2016-07-27\", \"2016-07-28\", \"2016-08-01\", \"2016-08-02\", \"2016-08-03\", \"2016-08-04\", \"2016-08-05\", \"2016-08-06\", \"2016-08-09\", \"2016-08-10\", \"2016-08-11\", \"2016-08-12\", \"2016-08-13\", \"2016-08-14\", \"2016-08-15\", \"2016-08-16\", \"2016-08-17\", \"2016-08-18\", \"2016-08-19\", \"2016-08-20\", \"2016-08-22\", \"2016-08-23\", \"2016-08-24\", \"2016-08-25\", \"2016-08-26\", \"2016-08-27\", \"2016-08-28\", \"2016-08-29\", \"2016-09-01\", \"2016-09-02\", \"2016-09-03\", \"2016-09-04\", \"2016-09-06\", \"2016-09-08\", \"2016-09-09\", \"2016-09-10\", \"2016-09-11\", \"2016-09-12\", \"2016-09-18\", \"2016-09-19\", \"2016-11-23\", \"2016-11-24\", \"2016-11-25\", \"2016-11-26\", \"2016-11-27\", \"2016-11-29\", \"2016-11-30\", \"2016-12-01\", \"2016-12-02\", \"2016-12-03\", \"2016-12-04\", \"2016-12-05\", \"2016-12-06\", \"2016-12-07\", \"2016-12-08\", \"2016-12-09\", \"2016-12-10\", \"2016-12-11\", \"2016-12-12\", \"2016-12-13\", \"2016-12-14\", \"2016-12-15\", \"2016-12-16\", \"2016-12-17\", \"2016-12-18\", \"2016-12-19\", \"2016-12-20\", \"2016-12-21\", \"2016-12-22\", \"2016-12-23\", \"2016-12-24\", \"2016-12-25\", \"2016-12-26\", \"2016-12-27\", \"2016-12-28\", \"2016-12-29\", \"2016-12-30\", \"2016-12-31\"], \"xaxis\": \"x\", \"y\": [1561875.0, 2240250.0, 2203875.0, 2036250.0, 1826250.0, 1200000.0, 1425375.0, 1445250.0, 2065875.0, 2661750.0, 1560000.0, 1188375.0, 1105500.0, 873375.0, 2183250.0, 2655750.0, 2693250.0, 2742375.0, 2746125.0, 2608500.0, 2769375.0, 2824500.0, 2816250.0, 2618250.0, 1435875.0, 3012750.0, 3025500.0, 3016875.0, 2587500.0, 1293375.0, 1455750.0, 2776125.0, 2749125.0, 2718750.0, 2671875.0, 2694000.0, 1985625.0, 1214250.0, 1238250.0, 1218750.0, 1231875.0, 985875.0, 1064625.0, 1277625.0, 1324500.0, 1414125.0, 1225500.0, 1523250.0, 844875.0, 1531500.0, 826125.0, 827625.0, 794625.0, 780000.0, 1456500.0, 1541250.0, 2255250.0, 1996125.0, 1999125.0, 1081875.0, 1449000.0, 1257375.0, 1139250.0, 1066500.0, 1046625.0, 932625.0, 949125.0, 1013250.0, 958125.0, 978750.0, 1153125.0, 1178250.0, 1061250.0, 1061250.0, 1346625.0, 1502625.0, 1482750.0, 1578750.0, 1764750.0, 1532250.0, 1866750.0, 2004750.0, 1965375.0, 2161500.0, 1849875.0, 1955625.0, 2367375.0, 1803000.0, 1299375.0, 1099125.0, 1231125.0, 1067250.0, 1059375.0, 1085625.0, 1383375.0, 1562625.0, 1297125.0, 1319625.0, 1410375.0, 1324875.0], \"yaxis\": \"y\"}, {\"hoverlabel\": {\"namelength\": 0}, \"hovertemplate\": \"building_id_max=1148<br>date=%{x}<br>meter_reading-max=%{y}\", \"legendgroup\": \"building_id_max=1148\", \"marker\": {\"color\": \"#ab63fa\", \"symbol\": \"circle\"}, \"mode\": \"markers\", \"name\": \"building_id_max=1148\", \"showlegend\": true, \"type\": \"scatter\", \"x\": [\"2016-10-02\", \"2016-10-03\", \"2016-10-04\", \"2016-10-07\", \"2016-10-08\", \"2016-10-09\", \"2016-10-12\"], \"xaxis\": \"x\", \"y\": [978867.3125, 969257.875, 941484.375, 1187976.5, 1214812.5, 1143586.125, 1216124.875], \"yaxis\": \"y\"}],\n",
       "                        {\"height\": 600, \"legend\": {\"tracegroupgap\": 0}, \"margin\": {\"t\": 60}, \"template\": {\"data\": {\"bar\": [{\"error_x\": {\"color\": \"#2a3f5f\"}, \"error_y\": {\"color\": \"#2a3f5f\"}, \"marker\": {\"line\": {\"color\": \"#E5ECF6\", \"width\": 0.5}}, \"type\": \"bar\"}], \"barpolar\": [{\"marker\": {\"line\": {\"color\": \"#E5ECF6\", \"width\": 0.5}}, \"type\": \"barpolar\"}], \"carpet\": [{\"aaxis\": {\"endlinecolor\": \"#2a3f5f\", \"gridcolor\": \"white\", \"linecolor\": \"white\", \"minorgridcolor\": \"white\", \"startlinecolor\": \"#2a3f5f\"}, \"baxis\": {\"endlinecolor\": \"#2a3f5f\", \"gridcolor\": \"white\", \"linecolor\": \"white\", \"minorgridcolor\": \"white\", \"startlinecolor\": \"#2a3f5f\"}, \"type\": \"carpet\"}], \"choropleth\": [{\"colorbar\": {\"outlinewidth\": 0, \"ticks\": \"\"}, \"type\": \"choropleth\"}], \"contour\": [{\"colorbar\": {\"outlinewidth\": 0, \"ticks\": \"\"}, \"colorscale\": [[0.0, \"#0d0887\"], [0.1111111111111111, \"#46039f\"], [0.2222222222222222, \"#7201a8\"], [0.3333333333333333, \"#9c179e\"], [0.4444444444444444, \"#bd3786\"], [0.5555555555555556, \"#d8576b\"], [0.6666666666666666, \"#ed7953\"], [0.7777777777777778, \"#fb9f3a\"], [0.8888888888888888, \"#fdca26\"], [1.0, \"#f0f921\"]], \"type\": \"contour\"}], \"contourcarpet\": [{\"colorbar\": {\"outlinewidth\": 0, \"ticks\": \"\"}, \"type\": \"contourcarpet\"}], \"heatmap\": [{\"colorbar\": {\"outlinewidth\": 0, \"ticks\": \"\"}, \"colorscale\": [[0.0, \"#0d0887\"], [0.1111111111111111, \"#46039f\"], [0.2222222222222222, \"#7201a8\"], [0.3333333333333333, \"#9c179e\"], [0.4444444444444444, \"#bd3786\"], [0.5555555555555556, \"#d8576b\"], [0.6666666666666666, \"#ed7953\"], [0.7777777777777778, \"#fb9f3a\"], [0.8888888888888888, \"#fdca26\"], [1.0, \"#f0f921\"]], \"type\": \"heatmap\"}], \"heatmapgl\": [{\"colorbar\": {\"outlinewidth\": 0, \"ticks\": \"\"}, \"colorscale\": [[0.0, \"#0d0887\"], [0.1111111111111111, \"#46039f\"], [0.2222222222222222, \"#7201a8\"], [0.3333333333333333, \"#9c179e\"], [0.4444444444444444, \"#bd3786\"], [0.5555555555555556, \"#d8576b\"], [0.6666666666666666, \"#ed7953\"], [0.7777777777777778, \"#fb9f3a\"], [0.8888888888888888, \"#fdca26\"], [1.0, \"#f0f921\"]], \"type\": \"heatmapgl\"}], \"histogram\": [{\"marker\": {\"colorbar\": {\"outlinewidth\": 0, \"ticks\": \"\"}}, \"type\": \"histogram\"}], \"histogram2d\": [{\"colorbar\": {\"outlinewidth\": 0, \"ticks\": \"\"}, \"colorscale\": [[0.0, \"#0d0887\"], [0.1111111111111111, \"#46039f\"], [0.2222222222222222, \"#7201a8\"], [0.3333333333333333, \"#9c179e\"], [0.4444444444444444, \"#bd3786\"], [0.5555555555555556, \"#d8576b\"], [0.6666666666666666, \"#ed7953\"], [0.7777777777777778, \"#fb9f3a\"], [0.8888888888888888, \"#fdca26\"], [1.0, \"#f0f921\"]], \"type\": \"histogram2d\"}], \"histogram2dcontour\": [{\"colorbar\": {\"outlinewidth\": 0, \"ticks\": \"\"}, \"colorscale\": [[0.0, \"#0d0887\"], [0.1111111111111111, \"#46039f\"], [0.2222222222222222, \"#7201a8\"], [0.3333333333333333, \"#9c179e\"], [0.4444444444444444, \"#bd3786\"], [0.5555555555555556, \"#d8576b\"], [0.6666666666666666, \"#ed7953\"], [0.7777777777777778, \"#fb9f3a\"], [0.8888888888888888, \"#fdca26\"], [1.0, \"#f0f921\"]], \"type\": \"histogram2dcontour\"}], \"mesh3d\": [{\"colorbar\": {\"outlinewidth\": 0, \"ticks\": \"\"}, \"type\": \"mesh3d\"}], \"parcoords\": [{\"line\": {\"colorbar\": {\"outlinewidth\": 0, \"ticks\": \"\"}}, \"type\": \"parcoords\"}], \"pie\": [{\"automargin\": true, \"type\": \"pie\"}], \"scatter\": [{\"marker\": {\"colorbar\": {\"outlinewidth\": 0, \"ticks\": \"\"}}, \"type\": \"scatter\"}], \"scatter3d\": [{\"line\": {\"colorbar\": {\"outlinewidth\": 0, \"ticks\": \"\"}}, \"marker\": {\"colorbar\": {\"outlinewidth\": 0, \"ticks\": \"\"}}, \"type\": \"scatter3d\"}], \"scattercarpet\": [{\"marker\": {\"colorbar\": {\"outlinewidth\": 0, \"ticks\": \"\"}}, \"type\": \"scattercarpet\"}], \"scattergeo\": [{\"marker\": {\"colorbar\": {\"outlinewidth\": 0, \"ticks\": \"\"}}, \"type\": \"scattergeo\"}], \"scattergl\": [{\"marker\": {\"colorbar\": {\"outlinewidth\": 0, \"ticks\": \"\"}}, \"type\": \"scattergl\"}], \"scattermapbox\": [{\"marker\": {\"colorbar\": {\"outlinewidth\": 0, \"ticks\": \"\"}}, \"type\": \"scattermapbox\"}], \"scatterpolar\": [{\"marker\": {\"colorbar\": {\"outlinewidth\": 0, \"ticks\": \"\"}}, \"type\": \"scatterpolar\"}], \"scatterpolargl\": [{\"marker\": {\"colorbar\": {\"outlinewidth\": 0, \"ticks\": \"\"}}, \"type\": \"scatterpolargl\"}], \"scatterternary\": [{\"marker\": {\"colorbar\": {\"outlinewidth\": 0, \"ticks\": \"\"}}, \"type\": \"scatterternary\"}], \"surface\": [{\"colorbar\": {\"outlinewidth\": 0, \"ticks\": \"\"}, \"colorscale\": [[0.0, \"#0d0887\"], [0.1111111111111111, \"#46039f\"], [0.2222222222222222, \"#7201a8\"], [0.3333333333333333, \"#9c179e\"], [0.4444444444444444, \"#bd3786\"], [0.5555555555555556, \"#d8576b\"], [0.6666666666666666, \"#ed7953\"], [0.7777777777777778, \"#fb9f3a\"], [0.8888888888888888, \"#fdca26\"], [1.0, \"#f0f921\"]], \"type\": \"surface\"}], \"table\": [{\"cells\": {\"fill\": {\"color\": \"#EBF0F8\"}, \"line\": {\"color\": \"white\"}}, \"header\": {\"fill\": {\"color\": \"#C8D4E3\"}, \"line\": {\"color\": \"white\"}}, \"type\": \"table\"}]}, \"layout\": {\"annotationdefaults\": {\"arrowcolor\": \"#2a3f5f\", \"arrowhead\": 0, \"arrowwidth\": 1}, \"coloraxis\": {\"colorbar\": {\"outlinewidth\": 0, \"ticks\": \"\"}}, \"colorscale\": {\"diverging\": [[0, \"#8e0152\"], [0.1, \"#c51b7d\"], [0.2, \"#de77ae\"], [0.3, \"#f1b6da\"], [0.4, \"#fde0ef\"], [0.5, \"#f7f7f7\"], [0.6, \"#e6f5d0\"], [0.7, \"#b8e186\"], [0.8, \"#7fbc41\"], [0.9, \"#4d9221\"], [1, \"#276419\"]], \"sequential\": [[0.0, \"#0d0887\"], [0.1111111111111111, \"#46039f\"], [0.2222222222222222, \"#7201a8\"], [0.3333333333333333, \"#9c179e\"], [0.4444444444444444, \"#bd3786\"], [0.5555555555555556, \"#d8576b\"], [0.6666666666666666, \"#ed7953\"], [0.7777777777777778, \"#fb9f3a\"], [0.8888888888888888, \"#fdca26\"], [1.0, \"#f0f921\"]], \"sequentialminus\": [[0.0, \"#0d0887\"], [0.1111111111111111, \"#46039f\"], [0.2222222222222222, \"#7201a8\"], [0.3333333333333333, \"#9c179e\"], [0.4444444444444444, \"#bd3786\"], [0.5555555555555556, \"#d8576b\"], [0.6666666666666666, \"#ed7953\"], [0.7777777777777778, \"#fb9f3a\"], [0.8888888888888888, \"#fdca26\"], [1.0, \"#f0f921\"]]}, \"colorway\": [\"#636efa\", \"#EF553B\", \"#00cc96\", \"#ab63fa\", \"#FFA15A\", \"#19d3f3\", \"#FF6692\", \"#B6E880\", \"#FF97FF\", \"#FECB52\"], \"font\": {\"color\": \"#2a3f5f\"}, \"geo\": {\"bgcolor\": \"white\", \"lakecolor\": \"white\", \"landcolor\": \"#E5ECF6\", \"showlakes\": true, \"showland\": true, \"subunitcolor\": \"white\"}, \"hoverlabel\": {\"align\": \"left\"}, \"hovermode\": \"closest\", \"mapbox\": {\"style\": \"light\"}, \"paper_bgcolor\": \"white\", \"plot_bgcolor\": \"#E5ECF6\", \"polar\": {\"angularaxis\": {\"gridcolor\": \"white\", \"linecolor\": \"white\", \"ticks\": \"\"}, \"bgcolor\": \"#E5ECF6\", \"radialaxis\": {\"gridcolor\": \"white\", \"linecolor\": \"white\", \"ticks\": \"\"}}, \"scene\": {\"xaxis\": {\"backgroundcolor\": \"#E5ECF6\", \"gridcolor\": \"white\", \"gridwidth\": 2, \"linecolor\": \"white\", \"showbackground\": true, \"ticks\": \"\", \"zerolinecolor\": \"white\"}, \"yaxis\": {\"backgroundcolor\": \"#E5ECF6\", \"gridcolor\": \"white\", \"gridwidth\": 2, \"linecolor\": \"white\", \"showbackground\": true, \"ticks\": \"\", \"zerolinecolor\": \"white\"}, \"zaxis\": {\"backgroundcolor\": \"#E5ECF6\", \"gridcolor\": \"white\", \"gridwidth\": 2, \"linecolor\": \"white\", \"showbackground\": true, \"ticks\": \"\", \"zerolinecolor\": \"white\"}}, \"shapedefaults\": {\"line\": {\"color\": \"#2a3f5f\"}}, \"ternary\": {\"aaxis\": {\"gridcolor\": \"white\", \"linecolor\": \"white\", \"ticks\": \"\"}, \"baxis\": {\"gridcolor\": \"white\", \"linecolor\": \"white\", \"ticks\": \"\"}, \"bgcolor\": \"#E5ECF6\", \"caxis\": {\"gridcolor\": \"white\", \"linecolor\": \"white\", \"ticks\": \"\"}}, \"title\": {\"x\": 0.05}, \"xaxis\": {\"automargin\": true, \"gridcolor\": \"white\", \"linecolor\": \"white\", \"ticks\": \"\", \"title\": {\"standoff\": 15}, \"zerolinecolor\": \"white\", \"zerolinewidth\": 2}, \"yaxis\": {\"automargin\": true, \"gridcolor\": \"white\", \"linecolor\": \"white\", \"ticks\": \"\", \"title\": {\"standoff\": 15}, \"zerolinecolor\": \"white\", \"zerolinewidth\": 2}}}, \"xaxis\": {\"anchor\": \"y\", \"domain\": [0.0, 1.0], \"title\": {\"text\": \"date\"}}, \"yaxis\": {\"anchor\": \"x\", \"domain\": [0.0, 1.0], \"title\": {\"text\": \"meter_reading-max\"}}},\n",
       "                        {\"responsive\": true}\n",
       "                    ).then(function(){\n",
       "                            \n",
       "var gd = document.getElementById('29ad7b8d-9812-48db-a0fe-7643b274af79');\n",
       "var x = new MutationObserver(function (mutations, observer) {{\n",
       "        var display = window.getComputedStyle(gd).display;\n",
       "        if (!display || display === 'none') {{\n",
       "            console.log([gd, 'removed!']);\n",
       "            Plotly.purge(gd);\n",
       "            observer.disconnect();\n",
       "        }}\n",
       "}});\n",
       "\n",
       "// Listen for the removal of the full notebook cells\n",
       "var notebookContainer = gd.closest('#notebook-container');\n",
       "if (notebookContainer) {{\n",
       "    x.observe(notebookContainer, {childList: true});\n",
       "}}\n",
       "\n",
       "// Listen for the clearing of the current output cell\n",
       "var outputEl = gd.closest('.output');\n",
       "if (outputEl) {{\n",
       "    x.observe(outputEl, {childList: true});\n",
       "}}\n",
       "\n",
       "                        })\n",
       "                };\n",
       "                });\n",
       "            </script>\n",
       "        </div>"
      ]
     },
     "metadata": {},
     "output_type": "display_data"
    }
   ],
   "source": [
    "steam = train_group_agg[train_group_agg['meter']=='steam'].copy()\n",
    "steam['building_id_max'] = pd.Categorical(steam['building_id_max'])\n",
    "px.scatter(steam, x='date', y='meter_reading-max', color='building_id_max')"
   ]
  },
  {
   "cell_type": "code",
   "execution_count": 34,
   "metadata": {},
   "outputs": [
    {
     "data": {
      "application/vnd.plotly.v1+json": {
       "config": {
        "plotlyServerURL": "https://plot.ly"
       },
       "data": [
        {
         "hoverlabel": {
          "namelength": 0
         },
         "hovertemplate": "building_id_max=1331<br>date=%{x}<br>meter_reading-max=%{y}",
         "legendgroup": "building_id_max=1331",
         "marker": {
          "color": "#636efa",
          "symbol": "circle"
         },
         "mode": "markers",
         "name": "building_id_max=1331",
         "showlegend": true,
         "type": "scatter",
         "x": [
          "2016-01-01",
          "2016-01-03",
          "2016-01-05",
          "2016-01-06",
          "2016-01-07",
          "2016-01-08",
          "2016-01-09",
          "2016-01-14",
          "2016-01-15",
          "2016-01-16",
          "2016-01-17",
          "2016-01-19",
          "2016-01-20",
          "2016-01-23",
          "2016-01-24",
          "2016-01-25",
          "2016-01-27",
          "2016-01-28",
          "2016-01-29",
          "2016-01-30",
          "2016-02-02",
          "2016-02-03",
          "2016-02-04",
          "2016-02-05",
          "2016-02-06",
          "2016-02-09",
          "2016-04-01",
          "2016-04-02",
          "2016-04-03",
          "2016-04-04",
          "2016-04-05",
          "2016-04-06",
          "2016-04-07",
          "2016-04-08",
          "2016-04-10",
          "2016-04-13",
          "2016-04-14",
          "2016-04-15",
          "2016-04-16",
          "2016-04-22",
          "2016-04-26",
          "2016-04-27",
          "2016-04-28",
          "2016-04-29",
          "2016-04-30",
          "2016-05-01",
          "2016-05-05",
          "2016-05-06",
          "2016-05-08",
          "2016-05-11",
          "2016-05-12",
          "2016-05-13",
          "2016-05-14",
          "2016-05-15",
          "2016-05-16",
          "2016-05-17",
          "2016-05-18",
          "2016-05-19",
          "2016-05-20",
          "2016-05-21",
          "2016-05-22",
          "2016-05-23",
          "2016-05-24",
          "2016-05-25",
          "2016-05-26",
          "2016-05-27",
          "2016-05-30",
          "2016-06-05",
          "2016-06-06",
          "2016-06-07",
          "2016-06-08",
          "2016-06-09",
          "2016-06-10",
          "2016-06-11",
          "2016-06-12",
          "2016-06-13",
          "2016-06-14",
          "2016-06-15",
          "2016-06-18",
          "2016-06-19",
          "2016-06-21",
          "2016-06-22",
          "2016-06-23",
          "2016-06-24",
          "2016-06-27",
          "2016-06-28",
          "2016-06-29",
          "2016-06-30",
          "2016-07-11",
          "2016-09-04",
          "2016-09-05",
          "2016-09-06",
          "2016-09-07",
          "2016-09-16",
          "2016-09-17",
          "2016-09-19",
          "2016-09-25",
          "2016-09-26",
          "2016-09-27",
          "2016-09-29",
          "2016-10-01",
          "2016-10-02",
          "2016-10-03",
          "2016-10-05",
          "2016-10-07",
          "2016-10-08",
          "2016-10-09",
          "2016-10-11",
          "2016-10-12",
          "2016-10-17",
          "2016-10-19",
          "2016-11-21",
          "2016-12-04",
          "2016-12-09",
          "2016-12-10",
          "2016-12-11",
          "2016-12-12",
          "2016-12-14",
          "2016-12-15",
          "2016-12-23"
         ],
         "xaxis": "x",
         "y": [
          219824.53125,
          220537.28125,
          376608.90625,
          306608.4375,
          266769.0625,
          236884.9375,
          149722.046875,
          407406.59375,
          364713.71875,
          342600.6875,
          383752.59375,
          467251.28125,
          408353.09375,
          495144.8125,
          439975.3125,
          391959.1875,
          327798.8125,
          361546.34375,
          345960.90625,
          306971.21875,
          259328.28125,
          172306.765625,
          241002.171875,
          311160.75,
          307875,
          303012.09375,
          128613.484375,
          161843.890625,
          305138.96875,
          296429.3125,
          304334.6875,
          253754.125,
          152986.8125,
          221304.9375,
          254156.34375,
          185813.96875,
          155503.234375,
          135992.09375,
          122671.9609375,
          83905.40625,
          156161.90625,
          149861.515625,
          133036.578125,
          112507.390625,
          99636.65625,
          113193.4296875,
          96464.203125,
          106147.390625,
          109207.2109375,
          111923.2265625,
          79119.8203125,
          77229.4375,
          91367.0859375,
          139293.9375,
          119972.0390625,
          102032.3203125,
          112706.2421875,
          104758.21875,
          98822.265625,
          95123.234375,
          93810.2265625,
          93525.1171875,
          82934.6796875,
          80297.5390625,
          72050.5234375,
          48580.97265625,
          39603.55078125,
          46730.08984375,
          51382.1875,
          52615.19921875,
          73469.078125,
          67217.328125,
          62646.46875,
          39817.68359375,
          54069.01171875,
          67477.609375,
          57753.24609375,
          44890.91796875,
          42608.49609375,
          36427.15625,
          39569.59375,
          45657.12890625,
          46651.94921875,
          43275.921875,
          29704.796875,
          34925.0390625,
          44553.03515625,
          43550.75,
          45305.18359375,
          45783.140625,
          37866.75390625,
          39517.33203125,
          33224.7734375,
          46093.875,
          42760.6484375,
          40357.5,
          73267.3671875,
          51216.390625,
          57526.2890625,
          54846.171875,
          60004.859375,
          56828.19921875,
          54479.55078125,
          53839.609375,
          49710.68359375,
          54357.01953125,
          72044.046875,
          114433.5,
          60972.5390625,
          50689.609375,
          58817.76171875,
          263562.8125,
          211145.078125,
          285978.4375,
          319531.3125,
          335734.09375,
          247083.640625,
          270940.75,
          377115.8125,
          205214.015625
         ],
         "yaxis": "y"
        },
        {
         "hoverlabel": {
          "namelength": 0
         },
         "hovertemplate": "building_id_max=1021<br>date=%{x}<br>meter_reading-max=%{y}",
         "legendgroup": "building_id_max=1021",
         "marker": {
          "color": "#EF553B",
          "symbol": "circle"
         },
         "mode": "markers",
         "name": "building_id_max=1021",
         "showlegend": true,
         "type": "scatter",
         "x": [
          "2016-01-02",
          "2016-01-04",
          "2016-01-10",
          "2016-01-11",
          "2016-01-12",
          "2016-01-13",
          "2016-01-18",
          "2016-01-21",
          "2016-01-22",
          "2016-01-26",
          "2016-01-31",
          "2016-02-01",
          "2016-02-07",
          "2016-02-08",
          "2016-02-10",
          "2016-02-14",
          "2016-02-15",
          "2016-02-16",
          "2016-02-17",
          "2016-02-18",
          "2016-02-19",
          "2016-02-21",
          "2016-02-22",
          "2016-02-24",
          "2016-02-25",
          "2016-02-26",
          "2016-02-27",
          "2016-02-28",
          "2016-02-29",
          "2016-03-01",
          "2016-03-02",
          "2016-03-03",
          "2016-03-04",
          "2016-03-05",
          "2016-03-06",
          "2016-03-07",
          "2016-03-08",
          "2016-03-09",
          "2016-03-10",
          "2016-03-11",
          "2016-03-12",
          "2016-03-13",
          "2016-03-14",
          "2016-03-15",
          "2016-03-16",
          "2016-03-17",
          "2016-03-18",
          "2016-03-19",
          "2016-03-20",
          "2016-03-22",
          "2016-03-23",
          "2016-03-24",
          "2016-03-25",
          "2016-03-26",
          "2016-03-27",
          "2016-03-29",
          "2016-03-30",
          "2016-03-31",
          "2016-04-09",
          "2016-04-11",
          "2016-04-12",
          "2016-04-17",
          "2016-04-18",
          "2016-04-19",
          "2016-04-20",
          "2016-04-21",
          "2016-04-23",
          "2016-04-24",
          "2016-04-25",
          "2016-05-02",
          "2016-05-03",
          "2016-05-04",
          "2016-05-07",
          "2016-05-09",
          "2016-06-01",
          "2016-06-02",
          "2016-06-03",
          "2016-06-04",
          "2016-06-16",
          "2016-06-17",
          "2016-07-01",
          "2016-07-02",
          "2016-07-03",
          "2016-07-04",
          "2016-07-05",
          "2016-07-06",
          "2016-07-07",
          "2016-07-08",
          "2016-07-09",
          "2016-07-10",
          "2016-07-12",
          "2016-07-13",
          "2016-07-14",
          "2016-07-15",
          "2016-07-16",
          "2016-07-17",
          "2016-07-18",
          "2016-07-19",
          "2016-07-20",
          "2016-07-21",
          "2016-07-22",
          "2016-07-23",
          "2016-07-24",
          "2016-07-25",
          "2016-07-26",
          "2016-07-27",
          "2016-07-28",
          "2016-07-29",
          "2016-07-30",
          "2016-07-31",
          "2016-08-01",
          "2016-08-02",
          "2016-08-03",
          "2016-08-04",
          "2016-08-05",
          "2016-08-06",
          "2016-08-07",
          "2016-08-08",
          "2016-08-09",
          "2016-08-10",
          "2016-08-11",
          "2016-08-12",
          "2016-08-13",
          "2016-08-14",
          "2016-08-15",
          "2016-08-16",
          "2016-08-17",
          "2016-08-18",
          "2016-08-19",
          "2016-08-20",
          "2016-08-21",
          "2016-08-22",
          "2016-08-23",
          "2016-08-24",
          "2016-08-25",
          "2016-08-26",
          "2016-08-27",
          "2016-08-28",
          "2016-08-29",
          "2016-08-30",
          "2016-08-31",
          "2016-09-01",
          "2016-09-02",
          "2016-09-03",
          "2016-09-08",
          "2016-09-09",
          "2016-09-10",
          "2016-09-11",
          "2016-09-12",
          "2016-09-13",
          "2016-09-14",
          "2016-09-15",
          "2016-09-21",
          "2016-09-22",
          "2016-09-23",
          "2016-09-24",
          "2016-09-28",
          "2016-09-30",
          "2016-10-04",
          "2016-10-06",
          "2016-10-10",
          "2016-10-13",
          "2016-10-14",
          "2016-10-15",
          "2016-10-16",
          "2016-10-20",
          "2016-10-21",
          "2016-10-22",
          "2016-10-23",
          "2016-10-24",
          "2016-10-25",
          "2016-10-26",
          "2016-10-27",
          "2016-10-28",
          "2016-10-29",
          "2016-10-30",
          "2016-10-31",
          "2016-11-01",
          "2016-11-02",
          "2016-11-03",
          "2016-11-04",
          "2016-11-05",
          "2016-11-06",
          "2016-11-07",
          "2016-11-08",
          "2016-11-09",
          "2016-11-10",
          "2016-11-11",
          "2016-11-12",
          "2016-11-13",
          "2016-11-14",
          "2016-11-15",
          "2016-11-16",
          "2016-11-17",
          "2016-11-18",
          "2016-11-19",
          "2016-11-20",
          "2016-11-22",
          "2016-11-23",
          "2016-11-24",
          "2016-11-25",
          "2016-11-26",
          "2016-11-27",
          "2016-11-28",
          "2016-11-29",
          "2016-11-30",
          "2016-12-01",
          "2016-12-02",
          "2016-12-03",
          "2016-12-05",
          "2016-12-06",
          "2016-12-07",
          "2016-12-08",
          "2016-12-13",
          "2016-12-16",
          "2016-12-17",
          "2016-12-18",
          "2016-12-19",
          "2016-12-20",
          "2016-12-21",
          "2016-12-22",
          "2016-12-24",
          "2016-12-25",
          "2016-12-26",
          "2016-12-27",
          "2016-12-28",
          "2016-12-29",
          "2016-12-30",
          "2016-12-31"
         ],
         "xaxis": "x",
         "y": [
          266008.21875,
          571135.5625,
          163311.96875,
          563727.6875,
          502685.34375,
          440467.4375,
          835888,
          968706.3125,
          873586.6875,
          355227.78125,
          188576.78125,
          233235.875,
          573359.5,
          426928.78125,
          461540.6875,
          663640.875,
          481344.5625,
          526499.9375,
          1024755.125,
          1048856.875,
          543324.375,
          137919.71875,
          563754.5625,
          156829.828125,
          128109.9140625,
          652727.875,
          467184.25,
          409421.375,
          612528.4375,
          441250.5625,
          231599.359375,
          761467.8125,
          477667.625,
          223507.671875,
          705218,
          1303695.25,
          1043809.875,
          1038873.625,
          997035.75,
          667325.375,
          325214.59375,
          104383.9140625,
          700439.25,
          1533579.875,
          1038593.8125,
          373563.75,
          659021.5625,
          107474.8984375,
          392296.75,
          276997.78125,
          653034.9375,
          198905.40625,
          121563.9375,
          871558,
          583205.625,
          153717.6875,
          286310.3125,
          329027.03125,
          297696,
          254994.15625,
          338130.25,
          223989.828125,
          107441.5859375,
          244613.09375,
          278272.46875,
          189873.703125,
          363468.09375,
          417820.78125,
          117280.25,
          197448.078125,
          143639.390625,
          196394.546875,
          476992.4375,
          130549.2734375,
          59568.703125,
          414249.96875,
          769203.5625,
          282406.03125,
          204016.40625,
          481234.375,
          75473.96875,
          503728.28125,
          474708.4375,
          425998.4375,
          381755.21875,
          319926.21875,
          418986.96875,
          554206.6875,
          359799.5625,
          248615.734375,
          128850.6171875,
          240366.34375,
          146772.296875,
          243803.15625,
          178934.921875,
          292915.15625,
          370209.34375,
          288567.90625,
          507359.4375,
          871936.25,
          752533.4375,
          994439.75,
          269096.90625,
          574449.9375,
          474124.46875,
          798616.125,
          924709.9375,
          757173.0625,
          1053335.25,
          1288213.375,
          924877.625,
          716182.3125,
          429320.8125,
          1416105.875,
          1124879.875,
          787625.8125,
          692313.5625,
          298126.28125,
          1088430,
          409226.6875,
          713010.4375,
          200387.046875,
          837324.0625,
          373424.90625,
          274112.6875,
          641742.3125,
          279745.6875,
          318565.84375,
          286216.1875,
          616740.4375,
          479932.03125,
          598662.5,
          736089.9375,
          1069995.875,
          1041734.375,
          833901.625,
          1851247.875,
          1584565.75,
          1076797.25,
          160563.03125,
          892806.375,
          443612.75,
          396581.3125,
          81914.3515625,
          188728.5625,
          1092228.125,
          685808.625,
          1091816.75,
          1056583.875,
          898223.625,
          1196151.625,
          1036968.6875,
          1061959.125,
          1212656.125,
          468957.8125,
          462605.65625,
          95615.5078125,
          65322.5546875,
          89803.09375,
          105603.3515625,
          169306.71875,
          176530.34375,
          212726.609375,
          279851.03125,
          232242.453125,
          505593.5,
          340005.875,
          573047.125,
          472580.375,
          414780.09375,
          393304.75,
          541591,
          960568.375,
          1044698.9375,
          850116.25,
          511895.34375,
          852282.3125,
          474671.125,
          880590.75,
          678660.75,
          823314.5,
          894436.125,
          1014330,
          905253.0625,
          655828.75,
          636537.6875,
          714016.125,
          1330917,
          1210162.625,
          1183955.625,
          800545.125,
          1250931.125,
          755521.0625,
          424413.5625,
          1078860.875,
          220037.796875,
          601782.125,
          452539.09375,
          322365.53125,
          700828.25,
          468891.40625,
          273985.28125,
          358080.5625,
          349214.28125,
          543637.625,
          372174.84375,
          272171.9375,
          325591.5625,
          259423.328125,
          599227.3125,
          857363.8125,
          715053.9375,
          816464.9375,
          234493.59375,
          537092.375,
          1462117.5,
          2434173.25,
          2278998.5,
          1220991.375,
          819587.9375,
          226905.375,
          957992.625,
          436368.65625,
          848507.6875,
          1074769.5,
          442251.75,
          386087.03125,
          512420.625,
          413259.9375
         ],
         "yaxis": "y"
        },
        {
         "hoverlabel": {
          "namelength": 0
         },
         "hovertemplate": "building_id_max=794<br>date=%{x}<br>meter_reading-max=%{y}",
         "legendgroup": "building_id_max=794",
         "marker": {
          "color": "#00cc96",
          "symbol": "circle"
         },
         "mode": "markers",
         "name": "building_id_max=794",
         "showlegend": true,
         "type": "scatter",
         "x": [
          "2016-02-11",
          "2016-02-12",
          "2016-02-13",
          "2016-02-20",
          "2016-02-23",
          "2016-03-21",
          "2016-03-28"
         ],
         "xaxis": "x",
         "y": [
          177254.5,
          162547.578125,
          190392.1875,
          100023.8828125,
          151937.859375,
          113763.1875,
          96041.1875
         ],
         "yaxis": "y"
        },
        {
         "hoverlabel": {
          "namelength": 0
         },
         "hovertemplate": "building_id_max=1232<br>date=%{x}<br>meter_reading-max=%{y}",
         "legendgroup": "building_id_max=1232",
         "marker": {
          "color": "#ab63fa",
          "symbol": "circle"
         },
         "mode": "markers",
         "name": "building_id_max=1232",
         "showlegend": true,
         "type": "scatter",
         "x": [
          "2016-05-10"
         ],
         "xaxis": "x",
         "y": [
          116677.84375
         ],
         "yaxis": "y"
        },
        {
         "hoverlabel": {
          "namelength": 0
         },
         "hovertemplate": "building_id_max=1317<br>date=%{x}<br>meter_reading-max=%{y}",
         "legendgroup": "building_id_max=1317",
         "marker": {
          "color": "#FFA15A",
          "symbol": "circle"
         },
         "mode": "markers",
         "name": "building_id_max=1317",
         "showlegend": true,
         "type": "scatter",
         "x": [
          "2016-05-28",
          "2016-05-29",
          "2016-05-31",
          "2016-06-25",
          "2016-06-26",
          "2016-09-18",
          "2016-09-20"
         ],
         "xaxis": "x",
         "y": [
          37519.1796875,
          37803.96484375,
          39102.7890625,
          33340.52734375,
          31537.919921875,
          39434.0390625,
          41174.08984375
         ],
         "yaxis": "y"
        },
        {
         "hoverlabel": {
          "namelength": 0
         },
         "hovertemplate": "building_id_max=1323<br>date=%{x}<br>meter_reading-max=%{y}",
         "legendgroup": "building_id_max=1323",
         "marker": {
          "color": "#19d3f3",
          "symbol": "circle"
         },
         "mode": "markers",
         "name": "building_id_max=1323",
         "showlegend": true,
         "type": "scatter",
         "x": [
          "2016-06-20"
         ],
         "xaxis": "x",
         "y": [
          29015.31640625
         ],
         "yaxis": "y"
        },
        {
         "hoverlabel": {
          "namelength": 0
         },
         "hovertemplate": "building_id_max=1252<br>date=%{x}<br>meter_reading-max=%{y}",
         "legendgroup": "building_id_max=1252",
         "marker": {
          "color": "#FF6692",
          "symbol": "circle"
         },
         "mode": "markers",
         "name": "building_id_max=1252",
         "showlegend": true,
         "type": "scatter",
         "x": [
          "2016-10-18"
         ],
         "xaxis": "x",
         "y": [
          41692.5
         ],
         "yaxis": "y"
        }
       ],
       "layout": {
        "height": 600,
        "legend": {
         "tracegroupgap": 0
        },
        "margin": {
         "t": 60
        },
        "template": {
         "data": {
          "bar": [
           {
            "error_x": {
             "color": "#2a3f5f"
            },
            "error_y": {
             "color": "#2a3f5f"
            },
            "marker": {
             "line": {
              "color": "#E5ECF6",
              "width": 0.5
             }
            },
            "type": "bar"
           }
          ],
          "barpolar": [
           {
            "marker": {
             "line": {
              "color": "#E5ECF6",
              "width": 0.5
             }
            },
            "type": "barpolar"
           }
          ],
          "carpet": [
           {
            "aaxis": {
             "endlinecolor": "#2a3f5f",
             "gridcolor": "white",
             "linecolor": "white",
             "minorgridcolor": "white",
             "startlinecolor": "#2a3f5f"
            },
            "baxis": {
             "endlinecolor": "#2a3f5f",
             "gridcolor": "white",
             "linecolor": "white",
             "minorgridcolor": "white",
             "startlinecolor": "#2a3f5f"
            },
            "type": "carpet"
           }
          ],
          "choropleth": [
           {
            "colorbar": {
             "outlinewidth": 0,
             "ticks": ""
            },
            "type": "choropleth"
           }
          ],
          "contour": [
           {
            "colorbar": {
             "outlinewidth": 0,
             "ticks": ""
            },
            "colorscale": [
             [
              0,
              "#0d0887"
             ],
             [
              0.1111111111111111,
              "#46039f"
             ],
             [
              0.2222222222222222,
              "#7201a8"
             ],
             [
              0.3333333333333333,
              "#9c179e"
             ],
             [
              0.4444444444444444,
              "#bd3786"
             ],
             [
              0.5555555555555556,
              "#d8576b"
             ],
             [
              0.6666666666666666,
              "#ed7953"
             ],
             [
              0.7777777777777778,
              "#fb9f3a"
             ],
             [
              0.8888888888888888,
              "#fdca26"
             ],
             [
              1,
              "#f0f921"
             ]
            ],
            "type": "contour"
           }
          ],
          "contourcarpet": [
           {
            "colorbar": {
             "outlinewidth": 0,
             "ticks": ""
            },
            "type": "contourcarpet"
           }
          ],
          "heatmap": [
           {
            "colorbar": {
             "outlinewidth": 0,
             "ticks": ""
            },
            "colorscale": [
             [
              0,
              "#0d0887"
             ],
             [
              0.1111111111111111,
              "#46039f"
             ],
             [
              0.2222222222222222,
              "#7201a8"
             ],
             [
              0.3333333333333333,
              "#9c179e"
             ],
             [
              0.4444444444444444,
              "#bd3786"
             ],
             [
              0.5555555555555556,
              "#d8576b"
             ],
             [
              0.6666666666666666,
              "#ed7953"
             ],
             [
              0.7777777777777778,
              "#fb9f3a"
             ],
             [
              0.8888888888888888,
              "#fdca26"
             ],
             [
              1,
              "#f0f921"
             ]
            ],
            "type": "heatmap"
           }
          ],
          "heatmapgl": [
           {
            "colorbar": {
             "outlinewidth": 0,
             "ticks": ""
            },
            "colorscale": [
             [
              0,
              "#0d0887"
             ],
             [
              0.1111111111111111,
              "#46039f"
             ],
             [
              0.2222222222222222,
              "#7201a8"
             ],
             [
              0.3333333333333333,
              "#9c179e"
             ],
             [
              0.4444444444444444,
              "#bd3786"
             ],
             [
              0.5555555555555556,
              "#d8576b"
             ],
             [
              0.6666666666666666,
              "#ed7953"
             ],
             [
              0.7777777777777778,
              "#fb9f3a"
             ],
             [
              0.8888888888888888,
              "#fdca26"
             ],
             [
              1,
              "#f0f921"
             ]
            ],
            "type": "heatmapgl"
           }
          ],
          "histogram": [
           {
            "marker": {
             "colorbar": {
              "outlinewidth": 0,
              "ticks": ""
             }
            },
            "type": "histogram"
           }
          ],
          "histogram2d": [
           {
            "colorbar": {
             "outlinewidth": 0,
             "ticks": ""
            },
            "colorscale": [
             [
              0,
              "#0d0887"
             ],
             [
              0.1111111111111111,
              "#46039f"
             ],
             [
              0.2222222222222222,
              "#7201a8"
             ],
             [
              0.3333333333333333,
              "#9c179e"
             ],
             [
              0.4444444444444444,
              "#bd3786"
             ],
             [
              0.5555555555555556,
              "#d8576b"
             ],
             [
              0.6666666666666666,
              "#ed7953"
             ],
             [
              0.7777777777777778,
              "#fb9f3a"
             ],
             [
              0.8888888888888888,
              "#fdca26"
             ],
             [
              1,
              "#f0f921"
             ]
            ],
            "type": "histogram2d"
           }
          ],
          "histogram2dcontour": [
           {
            "colorbar": {
             "outlinewidth": 0,
             "ticks": ""
            },
            "colorscale": [
             [
              0,
              "#0d0887"
             ],
             [
              0.1111111111111111,
              "#46039f"
             ],
             [
              0.2222222222222222,
              "#7201a8"
             ],
             [
              0.3333333333333333,
              "#9c179e"
             ],
             [
              0.4444444444444444,
              "#bd3786"
             ],
             [
              0.5555555555555556,
              "#d8576b"
             ],
             [
              0.6666666666666666,
              "#ed7953"
             ],
             [
              0.7777777777777778,
              "#fb9f3a"
             ],
             [
              0.8888888888888888,
              "#fdca26"
             ],
             [
              1,
              "#f0f921"
             ]
            ],
            "type": "histogram2dcontour"
           }
          ],
          "mesh3d": [
           {
            "colorbar": {
             "outlinewidth": 0,
             "ticks": ""
            },
            "type": "mesh3d"
           }
          ],
          "parcoords": [
           {
            "line": {
             "colorbar": {
              "outlinewidth": 0,
              "ticks": ""
             }
            },
            "type": "parcoords"
           }
          ],
          "pie": [
           {
            "automargin": true,
            "type": "pie"
           }
          ],
          "scatter": [
           {
            "marker": {
             "colorbar": {
              "outlinewidth": 0,
              "ticks": ""
             }
            },
            "type": "scatter"
           }
          ],
          "scatter3d": [
           {
            "line": {
             "colorbar": {
              "outlinewidth": 0,
              "ticks": ""
             }
            },
            "marker": {
             "colorbar": {
              "outlinewidth": 0,
              "ticks": ""
             }
            },
            "type": "scatter3d"
           }
          ],
          "scattercarpet": [
           {
            "marker": {
             "colorbar": {
              "outlinewidth": 0,
              "ticks": ""
             }
            },
            "type": "scattercarpet"
           }
          ],
          "scattergeo": [
           {
            "marker": {
             "colorbar": {
              "outlinewidth": 0,
              "ticks": ""
             }
            },
            "type": "scattergeo"
           }
          ],
          "scattergl": [
           {
            "marker": {
             "colorbar": {
              "outlinewidth": 0,
              "ticks": ""
             }
            },
            "type": "scattergl"
           }
          ],
          "scattermapbox": [
           {
            "marker": {
             "colorbar": {
              "outlinewidth": 0,
              "ticks": ""
             }
            },
            "type": "scattermapbox"
           }
          ],
          "scatterpolar": [
           {
            "marker": {
             "colorbar": {
              "outlinewidth": 0,
              "ticks": ""
             }
            },
            "type": "scatterpolar"
           }
          ],
          "scatterpolargl": [
           {
            "marker": {
             "colorbar": {
              "outlinewidth": 0,
              "ticks": ""
             }
            },
            "type": "scatterpolargl"
           }
          ],
          "scatterternary": [
           {
            "marker": {
             "colorbar": {
              "outlinewidth": 0,
              "ticks": ""
             }
            },
            "type": "scatterternary"
           }
          ],
          "surface": [
           {
            "colorbar": {
             "outlinewidth": 0,
             "ticks": ""
            },
            "colorscale": [
             [
              0,
              "#0d0887"
             ],
             [
              0.1111111111111111,
              "#46039f"
             ],
             [
              0.2222222222222222,
              "#7201a8"
             ],
             [
              0.3333333333333333,
              "#9c179e"
             ],
             [
              0.4444444444444444,
              "#bd3786"
             ],
             [
              0.5555555555555556,
              "#d8576b"
             ],
             [
              0.6666666666666666,
              "#ed7953"
             ],
             [
              0.7777777777777778,
              "#fb9f3a"
             ],
             [
              0.8888888888888888,
              "#fdca26"
             ],
             [
              1,
              "#f0f921"
             ]
            ],
            "type": "surface"
           }
          ],
          "table": [
           {
            "cells": {
             "fill": {
              "color": "#EBF0F8"
             },
             "line": {
              "color": "white"
             }
            },
            "header": {
             "fill": {
              "color": "#C8D4E3"
             },
             "line": {
              "color": "white"
             }
            },
            "type": "table"
           }
          ]
         },
         "layout": {
          "annotationdefaults": {
           "arrowcolor": "#2a3f5f",
           "arrowhead": 0,
           "arrowwidth": 1
          },
          "coloraxis": {
           "colorbar": {
            "outlinewidth": 0,
            "ticks": ""
           }
          },
          "colorscale": {
           "diverging": [
            [
             0,
             "#8e0152"
            ],
            [
             0.1,
             "#c51b7d"
            ],
            [
             0.2,
             "#de77ae"
            ],
            [
             0.3,
             "#f1b6da"
            ],
            [
             0.4,
             "#fde0ef"
            ],
            [
             0.5,
             "#f7f7f7"
            ],
            [
             0.6,
             "#e6f5d0"
            ],
            [
             0.7,
             "#b8e186"
            ],
            [
             0.8,
             "#7fbc41"
            ],
            [
             0.9,
             "#4d9221"
            ],
            [
             1,
             "#276419"
            ]
           ],
           "sequential": [
            [
             0,
             "#0d0887"
            ],
            [
             0.1111111111111111,
             "#46039f"
            ],
            [
             0.2222222222222222,
             "#7201a8"
            ],
            [
             0.3333333333333333,
             "#9c179e"
            ],
            [
             0.4444444444444444,
             "#bd3786"
            ],
            [
             0.5555555555555556,
             "#d8576b"
            ],
            [
             0.6666666666666666,
             "#ed7953"
            ],
            [
             0.7777777777777778,
             "#fb9f3a"
            ],
            [
             0.8888888888888888,
             "#fdca26"
            ],
            [
             1,
             "#f0f921"
            ]
           ],
           "sequentialminus": [
            [
             0,
             "#0d0887"
            ],
            [
             0.1111111111111111,
             "#46039f"
            ],
            [
             0.2222222222222222,
             "#7201a8"
            ],
            [
             0.3333333333333333,
             "#9c179e"
            ],
            [
             0.4444444444444444,
             "#bd3786"
            ],
            [
             0.5555555555555556,
             "#d8576b"
            ],
            [
             0.6666666666666666,
             "#ed7953"
            ],
            [
             0.7777777777777778,
             "#fb9f3a"
            ],
            [
             0.8888888888888888,
             "#fdca26"
            ],
            [
             1,
             "#f0f921"
            ]
           ]
          },
          "colorway": [
           "#636efa",
           "#EF553B",
           "#00cc96",
           "#ab63fa",
           "#FFA15A",
           "#19d3f3",
           "#FF6692",
           "#B6E880",
           "#FF97FF",
           "#FECB52"
          ],
          "font": {
           "color": "#2a3f5f"
          },
          "geo": {
           "bgcolor": "white",
           "lakecolor": "white",
           "landcolor": "#E5ECF6",
           "showlakes": true,
           "showland": true,
           "subunitcolor": "white"
          },
          "hoverlabel": {
           "align": "left"
          },
          "hovermode": "closest",
          "mapbox": {
           "style": "light"
          },
          "paper_bgcolor": "white",
          "plot_bgcolor": "#E5ECF6",
          "polar": {
           "angularaxis": {
            "gridcolor": "white",
            "linecolor": "white",
            "ticks": ""
           },
           "bgcolor": "#E5ECF6",
           "radialaxis": {
            "gridcolor": "white",
            "linecolor": "white",
            "ticks": ""
           }
          },
          "scene": {
           "xaxis": {
            "backgroundcolor": "#E5ECF6",
            "gridcolor": "white",
            "gridwidth": 2,
            "linecolor": "white",
            "showbackground": true,
            "ticks": "",
            "zerolinecolor": "white"
           },
           "yaxis": {
            "backgroundcolor": "#E5ECF6",
            "gridcolor": "white",
            "gridwidth": 2,
            "linecolor": "white",
            "showbackground": true,
            "ticks": "",
            "zerolinecolor": "white"
           },
           "zaxis": {
            "backgroundcolor": "#E5ECF6",
            "gridcolor": "white",
            "gridwidth": 2,
            "linecolor": "white",
            "showbackground": true,
            "ticks": "",
            "zerolinecolor": "white"
           }
          },
          "shapedefaults": {
           "line": {
            "color": "#2a3f5f"
           }
          },
          "ternary": {
           "aaxis": {
            "gridcolor": "white",
            "linecolor": "white",
            "ticks": ""
           },
           "baxis": {
            "gridcolor": "white",
            "linecolor": "white",
            "ticks": ""
           },
           "bgcolor": "#E5ECF6",
           "caxis": {
            "gridcolor": "white",
            "linecolor": "white",
            "ticks": ""
           }
          },
          "title": {
           "x": 0.05
          },
          "xaxis": {
           "automargin": true,
           "gridcolor": "white",
           "linecolor": "white",
           "ticks": "",
           "title": {
            "standoff": 15
           },
           "zerolinecolor": "white",
           "zerolinewidth": 2
          },
          "yaxis": {
           "automargin": true,
           "gridcolor": "white",
           "linecolor": "white",
           "ticks": "",
           "title": {
            "standoff": 15
           },
           "zerolinecolor": "white",
           "zerolinewidth": 2
          }
         }
        },
        "xaxis": {
         "anchor": "y",
         "domain": [
          0,
          1
         ],
         "title": {
          "text": "date"
         }
        },
        "yaxis": {
         "anchor": "x",
         "domain": [
          0,
          1
         ],
         "title": {
          "text": "meter_reading-max"
         }
        }
       }
      },
      "text/html": [
       "<div>\n",
       "        \n",
       "        \n",
       "            <div id=\"e5a735ec-8763-4a2e-9df6-522eb81ed107\" class=\"plotly-graph-div\" style=\"height:600px; width:100%;\"></div>\n",
       "            <script type=\"text/javascript\">\n",
       "                require([\"plotly\"], function(Plotly) {\n",
       "                    window.PLOTLYENV=window.PLOTLYENV || {};\n",
       "                    \n",
       "                if (document.getElementById(\"e5a735ec-8763-4a2e-9df6-522eb81ed107\")) {\n",
       "                    Plotly.newPlot(\n",
       "                        'e5a735ec-8763-4a2e-9df6-522eb81ed107',\n",
       "                        [{\"hoverlabel\": {\"namelength\": 0}, \"hovertemplate\": \"building_id_max=1331<br>date=%{x}<br>meter_reading-max=%{y}\", \"legendgroup\": \"building_id_max=1331\", \"marker\": {\"color\": \"#636efa\", \"symbol\": \"circle\"}, \"mode\": \"markers\", \"name\": \"building_id_max=1331\", \"showlegend\": true, \"type\": \"scatter\", \"x\": [\"2016-01-01\", \"2016-01-03\", \"2016-01-05\", \"2016-01-06\", \"2016-01-07\", \"2016-01-08\", \"2016-01-09\", \"2016-01-14\", \"2016-01-15\", \"2016-01-16\", \"2016-01-17\", \"2016-01-19\", \"2016-01-20\", \"2016-01-23\", \"2016-01-24\", \"2016-01-25\", \"2016-01-27\", \"2016-01-28\", \"2016-01-29\", \"2016-01-30\", \"2016-02-02\", \"2016-02-03\", \"2016-02-04\", \"2016-02-05\", \"2016-02-06\", \"2016-02-09\", \"2016-04-01\", \"2016-04-02\", \"2016-04-03\", \"2016-04-04\", \"2016-04-05\", \"2016-04-06\", \"2016-04-07\", \"2016-04-08\", \"2016-04-10\", \"2016-04-13\", \"2016-04-14\", \"2016-04-15\", \"2016-04-16\", \"2016-04-22\", \"2016-04-26\", \"2016-04-27\", \"2016-04-28\", \"2016-04-29\", \"2016-04-30\", \"2016-05-01\", \"2016-05-05\", \"2016-05-06\", \"2016-05-08\", \"2016-05-11\", \"2016-05-12\", \"2016-05-13\", \"2016-05-14\", \"2016-05-15\", \"2016-05-16\", \"2016-05-17\", \"2016-05-18\", \"2016-05-19\", \"2016-05-20\", \"2016-05-21\", \"2016-05-22\", \"2016-05-23\", \"2016-05-24\", \"2016-05-25\", \"2016-05-26\", \"2016-05-27\", \"2016-05-30\", \"2016-06-05\", \"2016-06-06\", \"2016-06-07\", \"2016-06-08\", \"2016-06-09\", \"2016-06-10\", \"2016-06-11\", \"2016-06-12\", \"2016-06-13\", \"2016-06-14\", \"2016-06-15\", \"2016-06-18\", \"2016-06-19\", \"2016-06-21\", \"2016-06-22\", \"2016-06-23\", \"2016-06-24\", \"2016-06-27\", \"2016-06-28\", \"2016-06-29\", \"2016-06-30\", \"2016-07-11\", \"2016-09-04\", \"2016-09-05\", \"2016-09-06\", \"2016-09-07\", \"2016-09-16\", \"2016-09-17\", \"2016-09-19\", \"2016-09-25\", \"2016-09-26\", \"2016-09-27\", \"2016-09-29\", \"2016-10-01\", \"2016-10-02\", \"2016-10-03\", \"2016-10-05\", \"2016-10-07\", \"2016-10-08\", \"2016-10-09\", \"2016-10-11\", \"2016-10-12\", \"2016-10-17\", \"2016-10-19\", \"2016-11-21\", \"2016-12-04\", \"2016-12-09\", \"2016-12-10\", \"2016-12-11\", \"2016-12-12\", \"2016-12-14\", \"2016-12-15\", \"2016-12-23\"], \"xaxis\": \"x\", \"y\": [219824.53125, 220537.28125, 376608.90625, 306608.4375, 266769.0625, 236884.9375, 149722.046875, 407406.59375, 364713.71875, 342600.6875, 383752.59375, 467251.28125, 408353.09375, 495144.8125, 439975.3125, 391959.1875, 327798.8125, 361546.34375, 345960.90625, 306971.21875, 259328.28125, 172306.765625, 241002.171875, 311160.75, 307875.0, 303012.09375, 128613.484375, 161843.890625, 305138.96875, 296429.3125, 304334.6875, 253754.125, 152986.8125, 221304.9375, 254156.34375, 185813.96875, 155503.234375, 135992.09375, 122671.9609375, 83905.40625, 156161.90625, 149861.515625, 133036.578125, 112507.390625, 99636.65625, 113193.4296875, 96464.203125, 106147.390625, 109207.2109375, 111923.2265625, 79119.8203125, 77229.4375, 91367.0859375, 139293.9375, 119972.0390625, 102032.3203125, 112706.2421875, 104758.21875, 98822.265625, 95123.234375, 93810.2265625, 93525.1171875, 82934.6796875, 80297.5390625, 72050.5234375, 48580.97265625, 39603.55078125, 46730.08984375, 51382.1875, 52615.19921875, 73469.078125, 67217.328125, 62646.46875, 39817.68359375, 54069.01171875, 67477.609375, 57753.24609375, 44890.91796875, 42608.49609375, 36427.15625, 39569.59375, 45657.12890625, 46651.94921875, 43275.921875, 29704.796875, 34925.0390625, 44553.03515625, 43550.75, 45305.18359375, 45783.140625, 37866.75390625, 39517.33203125, 33224.7734375, 46093.875, 42760.6484375, 40357.5, 73267.3671875, 51216.390625, 57526.2890625, 54846.171875, 60004.859375, 56828.19921875, 54479.55078125, 53839.609375, 49710.68359375, 54357.01953125, 72044.046875, 114433.5, 60972.5390625, 50689.609375, 58817.76171875, 263562.8125, 211145.078125, 285978.4375, 319531.3125, 335734.09375, 247083.640625, 270940.75, 377115.8125, 205214.015625], \"yaxis\": \"y\"}, {\"hoverlabel\": {\"namelength\": 0}, \"hovertemplate\": \"building_id_max=1021<br>date=%{x}<br>meter_reading-max=%{y}\", \"legendgroup\": \"building_id_max=1021\", \"marker\": {\"color\": \"#EF553B\", \"symbol\": \"circle\"}, \"mode\": \"markers\", \"name\": \"building_id_max=1021\", \"showlegend\": true, \"type\": \"scatter\", \"x\": [\"2016-01-02\", \"2016-01-04\", \"2016-01-10\", \"2016-01-11\", \"2016-01-12\", \"2016-01-13\", \"2016-01-18\", \"2016-01-21\", \"2016-01-22\", \"2016-01-26\", \"2016-01-31\", \"2016-02-01\", \"2016-02-07\", \"2016-02-08\", \"2016-02-10\", \"2016-02-14\", \"2016-02-15\", \"2016-02-16\", \"2016-02-17\", \"2016-02-18\", \"2016-02-19\", \"2016-02-21\", \"2016-02-22\", \"2016-02-24\", \"2016-02-25\", \"2016-02-26\", \"2016-02-27\", \"2016-02-28\", \"2016-02-29\", \"2016-03-01\", \"2016-03-02\", \"2016-03-03\", \"2016-03-04\", \"2016-03-05\", \"2016-03-06\", \"2016-03-07\", \"2016-03-08\", \"2016-03-09\", \"2016-03-10\", \"2016-03-11\", \"2016-03-12\", \"2016-03-13\", \"2016-03-14\", \"2016-03-15\", \"2016-03-16\", \"2016-03-17\", \"2016-03-18\", \"2016-03-19\", \"2016-03-20\", \"2016-03-22\", \"2016-03-23\", \"2016-03-24\", \"2016-03-25\", \"2016-03-26\", \"2016-03-27\", \"2016-03-29\", \"2016-03-30\", \"2016-03-31\", \"2016-04-09\", \"2016-04-11\", \"2016-04-12\", \"2016-04-17\", \"2016-04-18\", \"2016-04-19\", \"2016-04-20\", \"2016-04-21\", \"2016-04-23\", \"2016-04-24\", \"2016-04-25\", \"2016-05-02\", \"2016-05-03\", \"2016-05-04\", \"2016-05-07\", \"2016-05-09\", \"2016-06-01\", \"2016-06-02\", \"2016-06-03\", \"2016-06-04\", \"2016-06-16\", \"2016-06-17\", \"2016-07-01\", \"2016-07-02\", \"2016-07-03\", \"2016-07-04\", \"2016-07-05\", \"2016-07-06\", \"2016-07-07\", \"2016-07-08\", \"2016-07-09\", \"2016-07-10\", \"2016-07-12\", \"2016-07-13\", \"2016-07-14\", \"2016-07-15\", \"2016-07-16\", \"2016-07-17\", \"2016-07-18\", \"2016-07-19\", \"2016-07-20\", \"2016-07-21\", \"2016-07-22\", \"2016-07-23\", \"2016-07-24\", \"2016-07-25\", \"2016-07-26\", \"2016-07-27\", \"2016-07-28\", \"2016-07-29\", \"2016-07-30\", \"2016-07-31\", \"2016-08-01\", \"2016-08-02\", \"2016-08-03\", \"2016-08-04\", \"2016-08-05\", \"2016-08-06\", \"2016-08-07\", \"2016-08-08\", \"2016-08-09\", \"2016-08-10\", \"2016-08-11\", \"2016-08-12\", \"2016-08-13\", \"2016-08-14\", \"2016-08-15\", \"2016-08-16\", \"2016-08-17\", \"2016-08-18\", \"2016-08-19\", \"2016-08-20\", \"2016-08-21\", \"2016-08-22\", \"2016-08-23\", \"2016-08-24\", \"2016-08-25\", \"2016-08-26\", \"2016-08-27\", \"2016-08-28\", \"2016-08-29\", \"2016-08-30\", \"2016-08-31\", \"2016-09-01\", \"2016-09-02\", \"2016-09-03\", \"2016-09-08\", \"2016-09-09\", \"2016-09-10\", \"2016-09-11\", \"2016-09-12\", \"2016-09-13\", \"2016-09-14\", \"2016-09-15\", \"2016-09-21\", \"2016-09-22\", \"2016-09-23\", \"2016-09-24\", \"2016-09-28\", \"2016-09-30\", \"2016-10-04\", \"2016-10-06\", \"2016-10-10\", \"2016-10-13\", \"2016-10-14\", \"2016-10-15\", \"2016-10-16\", \"2016-10-20\", \"2016-10-21\", \"2016-10-22\", \"2016-10-23\", \"2016-10-24\", \"2016-10-25\", \"2016-10-26\", \"2016-10-27\", \"2016-10-28\", \"2016-10-29\", \"2016-10-30\", \"2016-10-31\", \"2016-11-01\", \"2016-11-02\", \"2016-11-03\", \"2016-11-04\", \"2016-11-05\", \"2016-11-06\", \"2016-11-07\", \"2016-11-08\", \"2016-11-09\", \"2016-11-10\", \"2016-11-11\", \"2016-11-12\", \"2016-11-13\", \"2016-11-14\", \"2016-11-15\", \"2016-11-16\", \"2016-11-17\", \"2016-11-18\", \"2016-11-19\", \"2016-11-20\", \"2016-11-22\", \"2016-11-23\", \"2016-11-24\", \"2016-11-25\", \"2016-11-26\", \"2016-11-27\", \"2016-11-28\", \"2016-11-29\", \"2016-11-30\", \"2016-12-01\", \"2016-12-02\", \"2016-12-03\", \"2016-12-05\", \"2016-12-06\", \"2016-12-07\", \"2016-12-08\", \"2016-12-13\", \"2016-12-16\", \"2016-12-17\", \"2016-12-18\", \"2016-12-19\", \"2016-12-20\", \"2016-12-21\", \"2016-12-22\", \"2016-12-24\", \"2016-12-25\", \"2016-12-26\", \"2016-12-27\", \"2016-12-28\", \"2016-12-29\", \"2016-12-30\", \"2016-12-31\"], \"xaxis\": \"x\", \"y\": [266008.21875, 571135.5625, 163311.96875, 563727.6875, 502685.34375, 440467.4375, 835888.0, 968706.3125, 873586.6875, 355227.78125, 188576.78125, 233235.875, 573359.5, 426928.78125, 461540.6875, 663640.875, 481344.5625, 526499.9375, 1024755.125, 1048856.875, 543324.375, 137919.71875, 563754.5625, 156829.828125, 128109.9140625, 652727.875, 467184.25, 409421.375, 612528.4375, 441250.5625, 231599.359375, 761467.8125, 477667.625, 223507.671875, 705218.0, 1303695.25, 1043809.875, 1038873.625, 997035.75, 667325.375, 325214.59375, 104383.9140625, 700439.25, 1533579.875, 1038593.8125, 373563.75, 659021.5625, 107474.8984375, 392296.75, 276997.78125, 653034.9375, 198905.40625, 121563.9375, 871558.0, 583205.625, 153717.6875, 286310.3125, 329027.03125, 297696.0, 254994.15625, 338130.25, 223989.828125, 107441.5859375, 244613.09375, 278272.46875, 189873.703125, 363468.09375, 417820.78125, 117280.25, 197448.078125, 143639.390625, 196394.546875, 476992.4375, 130549.2734375, 59568.703125, 414249.96875, 769203.5625, 282406.03125, 204016.40625, 481234.375, 75473.96875, 503728.28125, 474708.4375, 425998.4375, 381755.21875, 319926.21875, 418986.96875, 554206.6875, 359799.5625, 248615.734375, 128850.6171875, 240366.34375, 146772.296875, 243803.15625, 178934.921875, 292915.15625, 370209.34375, 288567.90625, 507359.4375, 871936.25, 752533.4375, 994439.75, 269096.90625, 574449.9375, 474124.46875, 798616.125, 924709.9375, 757173.0625, 1053335.25, 1288213.375, 924877.625, 716182.3125, 429320.8125, 1416105.875, 1124879.875, 787625.8125, 692313.5625, 298126.28125, 1088430.0, 409226.6875, 713010.4375, 200387.046875, 837324.0625, 373424.90625, 274112.6875, 641742.3125, 279745.6875, 318565.84375, 286216.1875, 616740.4375, 479932.03125, 598662.5, 736089.9375, 1069995.875, 1041734.375, 833901.625, 1851247.875, 1584565.75, 1076797.25, 160563.03125, 892806.375, 443612.75, 396581.3125, 81914.3515625, 188728.5625, 1092228.125, 685808.625, 1091816.75, 1056583.875, 898223.625, 1196151.625, 1036968.6875, 1061959.125, 1212656.125, 468957.8125, 462605.65625, 95615.5078125, 65322.5546875, 89803.09375, 105603.3515625, 169306.71875, 176530.34375, 212726.609375, 279851.03125, 232242.453125, 505593.5, 340005.875, 573047.125, 472580.375, 414780.09375, 393304.75, 541591.0, 960568.375, 1044698.9375, 850116.25, 511895.34375, 852282.3125, 474671.125, 880590.75, 678660.75, 823314.5, 894436.125, 1014330.0, 905253.0625, 655828.75, 636537.6875, 714016.125, 1330917.0, 1210162.625, 1183955.625, 800545.125, 1250931.125, 755521.0625, 424413.5625, 1078860.875, 220037.796875, 601782.125, 452539.09375, 322365.53125, 700828.25, 468891.40625, 273985.28125, 358080.5625, 349214.28125, 543637.625, 372174.84375, 272171.9375, 325591.5625, 259423.328125, 599227.3125, 857363.8125, 715053.9375, 816464.9375, 234493.59375, 537092.375, 1462117.5, 2434173.25, 2278998.5, 1220991.375, 819587.9375, 226905.375, 957992.625, 436368.65625, 848507.6875, 1074769.5, 442251.75, 386087.03125, 512420.625, 413259.9375], \"yaxis\": \"y\"}, {\"hoverlabel\": {\"namelength\": 0}, \"hovertemplate\": \"building_id_max=794<br>date=%{x}<br>meter_reading-max=%{y}\", \"legendgroup\": \"building_id_max=794\", \"marker\": {\"color\": \"#00cc96\", \"symbol\": \"circle\"}, \"mode\": \"markers\", \"name\": \"building_id_max=794\", \"showlegend\": true, \"type\": \"scatter\", \"x\": [\"2016-02-11\", \"2016-02-12\", \"2016-02-13\", \"2016-02-20\", \"2016-02-23\", \"2016-03-21\", \"2016-03-28\"], \"xaxis\": \"x\", \"y\": [177254.5, 162547.578125, 190392.1875, 100023.8828125, 151937.859375, 113763.1875, 96041.1875], \"yaxis\": \"y\"}, {\"hoverlabel\": {\"namelength\": 0}, \"hovertemplate\": \"building_id_max=1232<br>date=%{x}<br>meter_reading-max=%{y}\", \"legendgroup\": \"building_id_max=1232\", \"marker\": {\"color\": \"#ab63fa\", \"symbol\": \"circle\"}, \"mode\": \"markers\", \"name\": \"building_id_max=1232\", \"showlegend\": true, \"type\": \"scatter\", \"x\": [\"2016-05-10\"], \"xaxis\": \"x\", \"y\": [116677.84375], \"yaxis\": \"y\"}, {\"hoverlabel\": {\"namelength\": 0}, \"hovertemplate\": \"building_id_max=1317<br>date=%{x}<br>meter_reading-max=%{y}\", \"legendgroup\": \"building_id_max=1317\", \"marker\": {\"color\": \"#FFA15A\", \"symbol\": \"circle\"}, \"mode\": \"markers\", \"name\": \"building_id_max=1317\", \"showlegend\": true, \"type\": \"scatter\", \"x\": [\"2016-05-28\", \"2016-05-29\", \"2016-05-31\", \"2016-06-25\", \"2016-06-26\", \"2016-09-18\", \"2016-09-20\"], \"xaxis\": \"x\", \"y\": [37519.1796875, 37803.96484375, 39102.7890625, 33340.52734375, 31537.919921875, 39434.0390625, 41174.08984375], \"yaxis\": \"y\"}, {\"hoverlabel\": {\"namelength\": 0}, \"hovertemplate\": \"building_id_max=1323<br>date=%{x}<br>meter_reading-max=%{y}\", \"legendgroup\": \"building_id_max=1323\", \"marker\": {\"color\": \"#19d3f3\", \"symbol\": \"circle\"}, \"mode\": \"markers\", \"name\": \"building_id_max=1323\", \"showlegend\": true, \"type\": \"scatter\", \"x\": [\"2016-06-20\"], \"xaxis\": \"x\", \"y\": [29015.31640625], \"yaxis\": \"y\"}, {\"hoverlabel\": {\"namelength\": 0}, \"hovertemplate\": \"building_id_max=1252<br>date=%{x}<br>meter_reading-max=%{y}\", \"legendgroup\": \"building_id_max=1252\", \"marker\": {\"color\": \"#FF6692\", \"symbol\": \"circle\"}, \"mode\": \"markers\", \"name\": \"building_id_max=1252\", \"showlegend\": true, \"type\": \"scatter\", \"x\": [\"2016-10-18\"], \"xaxis\": \"x\", \"y\": [41692.5], \"yaxis\": \"y\"}],\n",
       "                        {\"height\": 600, \"legend\": {\"tracegroupgap\": 0}, \"margin\": {\"t\": 60}, \"template\": {\"data\": {\"bar\": [{\"error_x\": {\"color\": \"#2a3f5f\"}, \"error_y\": {\"color\": \"#2a3f5f\"}, \"marker\": {\"line\": {\"color\": \"#E5ECF6\", \"width\": 0.5}}, \"type\": \"bar\"}], \"barpolar\": [{\"marker\": {\"line\": {\"color\": \"#E5ECF6\", \"width\": 0.5}}, \"type\": \"barpolar\"}], \"carpet\": [{\"aaxis\": {\"endlinecolor\": \"#2a3f5f\", \"gridcolor\": \"white\", \"linecolor\": \"white\", \"minorgridcolor\": \"white\", \"startlinecolor\": \"#2a3f5f\"}, \"baxis\": {\"endlinecolor\": \"#2a3f5f\", \"gridcolor\": \"white\", \"linecolor\": \"white\", \"minorgridcolor\": \"white\", \"startlinecolor\": \"#2a3f5f\"}, \"type\": \"carpet\"}], \"choropleth\": [{\"colorbar\": {\"outlinewidth\": 0, \"ticks\": \"\"}, \"type\": \"choropleth\"}], \"contour\": [{\"colorbar\": {\"outlinewidth\": 0, \"ticks\": \"\"}, \"colorscale\": [[0.0, \"#0d0887\"], [0.1111111111111111, \"#46039f\"], [0.2222222222222222, \"#7201a8\"], [0.3333333333333333, \"#9c179e\"], [0.4444444444444444, \"#bd3786\"], [0.5555555555555556, \"#d8576b\"], [0.6666666666666666, \"#ed7953\"], [0.7777777777777778, \"#fb9f3a\"], [0.8888888888888888, \"#fdca26\"], [1.0, \"#f0f921\"]], \"type\": \"contour\"}], \"contourcarpet\": [{\"colorbar\": {\"outlinewidth\": 0, \"ticks\": \"\"}, \"type\": \"contourcarpet\"}], \"heatmap\": [{\"colorbar\": {\"outlinewidth\": 0, \"ticks\": \"\"}, \"colorscale\": [[0.0, \"#0d0887\"], [0.1111111111111111, \"#46039f\"], [0.2222222222222222, \"#7201a8\"], [0.3333333333333333, \"#9c179e\"], [0.4444444444444444, \"#bd3786\"], [0.5555555555555556, \"#d8576b\"], [0.6666666666666666, \"#ed7953\"], [0.7777777777777778, \"#fb9f3a\"], [0.8888888888888888, \"#fdca26\"], [1.0, \"#f0f921\"]], \"type\": \"heatmap\"}], \"heatmapgl\": [{\"colorbar\": {\"outlinewidth\": 0, \"ticks\": \"\"}, \"colorscale\": [[0.0, \"#0d0887\"], [0.1111111111111111, \"#46039f\"], [0.2222222222222222, \"#7201a8\"], [0.3333333333333333, \"#9c179e\"], [0.4444444444444444, \"#bd3786\"], [0.5555555555555556, \"#d8576b\"], [0.6666666666666666, \"#ed7953\"], [0.7777777777777778, \"#fb9f3a\"], [0.8888888888888888, \"#fdca26\"], [1.0, \"#f0f921\"]], \"type\": \"heatmapgl\"}], \"histogram\": [{\"marker\": {\"colorbar\": {\"outlinewidth\": 0, \"ticks\": \"\"}}, \"type\": \"histogram\"}], \"histogram2d\": [{\"colorbar\": {\"outlinewidth\": 0, \"ticks\": \"\"}, \"colorscale\": [[0.0, \"#0d0887\"], [0.1111111111111111, \"#46039f\"], [0.2222222222222222, \"#7201a8\"], [0.3333333333333333, \"#9c179e\"], [0.4444444444444444, \"#bd3786\"], [0.5555555555555556, \"#d8576b\"], [0.6666666666666666, \"#ed7953\"], [0.7777777777777778, \"#fb9f3a\"], [0.8888888888888888, \"#fdca26\"], [1.0, \"#f0f921\"]], \"type\": \"histogram2d\"}], \"histogram2dcontour\": [{\"colorbar\": {\"outlinewidth\": 0, \"ticks\": \"\"}, \"colorscale\": [[0.0, \"#0d0887\"], [0.1111111111111111, \"#46039f\"], [0.2222222222222222, \"#7201a8\"], [0.3333333333333333, \"#9c179e\"], [0.4444444444444444, \"#bd3786\"], [0.5555555555555556, \"#d8576b\"], [0.6666666666666666, \"#ed7953\"], [0.7777777777777778, \"#fb9f3a\"], [0.8888888888888888, \"#fdca26\"], [1.0, \"#f0f921\"]], \"type\": \"histogram2dcontour\"}], \"mesh3d\": [{\"colorbar\": {\"outlinewidth\": 0, \"ticks\": \"\"}, \"type\": \"mesh3d\"}], \"parcoords\": [{\"line\": {\"colorbar\": {\"outlinewidth\": 0, \"ticks\": \"\"}}, \"type\": \"parcoords\"}], \"pie\": [{\"automargin\": true, \"type\": \"pie\"}], \"scatter\": [{\"marker\": {\"colorbar\": {\"outlinewidth\": 0, \"ticks\": \"\"}}, \"type\": \"scatter\"}], \"scatter3d\": [{\"line\": {\"colorbar\": {\"outlinewidth\": 0, \"ticks\": \"\"}}, \"marker\": {\"colorbar\": {\"outlinewidth\": 0, \"ticks\": \"\"}}, \"type\": \"scatter3d\"}], \"scattercarpet\": [{\"marker\": {\"colorbar\": {\"outlinewidth\": 0, \"ticks\": \"\"}}, \"type\": \"scattercarpet\"}], \"scattergeo\": [{\"marker\": {\"colorbar\": {\"outlinewidth\": 0, \"ticks\": \"\"}}, \"type\": \"scattergeo\"}], \"scattergl\": [{\"marker\": {\"colorbar\": {\"outlinewidth\": 0, \"ticks\": \"\"}}, \"type\": \"scattergl\"}], \"scattermapbox\": [{\"marker\": {\"colorbar\": {\"outlinewidth\": 0, \"ticks\": \"\"}}, \"type\": \"scattermapbox\"}], \"scatterpolar\": [{\"marker\": {\"colorbar\": {\"outlinewidth\": 0, \"ticks\": \"\"}}, \"type\": \"scatterpolar\"}], \"scatterpolargl\": [{\"marker\": {\"colorbar\": {\"outlinewidth\": 0, \"ticks\": \"\"}}, \"type\": \"scatterpolargl\"}], \"scatterternary\": [{\"marker\": {\"colorbar\": {\"outlinewidth\": 0, \"ticks\": \"\"}}, \"type\": \"scatterternary\"}], \"surface\": [{\"colorbar\": {\"outlinewidth\": 0, \"ticks\": \"\"}, \"colorscale\": [[0.0, \"#0d0887\"], [0.1111111111111111, \"#46039f\"], [0.2222222222222222, \"#7201a8\"], [0.3333333333333333, \"#9c179e\"], [0.4444444444444444, \"#bd3786\"], [0.5555555555555556, \"#d8576b\"], [0.6666666666666666, \"#ed7953\"], [0.7777777777777778, \"#fb9f3a\"], [0.8888888888888888, \"#fdca26\"], [1.0, \"#f0f921\"]], \"type\": \"surface\"}], \"table\": [{\"cells\": {\"fill\": {\"color\": \"#EBF0F8\"}, \"line\": {\"color\": \"white\"}}, \"header\": {\"fill\": {\"color\": \"#C8D4E3\"}, \"line\": {\"color\": \"white\"}}, \"type\": \"table\"}]}, \"layout\": {\"annotationdefaults\": {\"arrowcolor\": \"#2a3f5f\", \"arrowhead\": 0, \"arrowwidth\": 1}, \"coloraxis\": {\"colorbar\": {\"outlinewidth\": 0, \"ticks\": \"\"}}, \"colorscale\": {\"diverging\": [[0, \"#8e0152\"], [0.1, \"#c51b7d\"], [0.2, \"#de77ae\"], [0.3, \"#f1b6da\"], [0.4, \"#fde0ef\"], [0.5, \"#f7f7f7\"], [0.6, \"#e6f5d0\"], [0.7, \"#b8e186\"], [0.8, \"#7fbc41\"], [0.9, \"#4d9221\"], [1, \"#276419\"]], \"sequential\": [[0.0, \"#0d0887\"], [0.1111111111111111, \"#46039f\"], [0.2222222222222222, \"#7201a8\"], [0.3333333333333333, \"#9c179e\"], [0.4444444444444444, \"#bd3786\"], [0.5555555555555556, \"#d8576b\"], [0.6666666666666666, \"#ed7953\"], [0.7777777777777778, \"#fb9f3a\"], [0.8888888888888888, \"#fdca26\"], [1.0, \"#f0f921\"]], \"sequentialminus\": [[0.0, \"#0d0887\"], [0.1111111111111111, \"#46039f\"], [0.2222222222222222, \"#7201a8\"], [0.3333333333333333, \"#9c179e\"], [0.4444444444444444, \"#bd3786\"], [0.5555555555555556, \"#d8576b\"], [0.6666666666666666, \"#ed7953\"], [0.7777777777777778, \"#fb9f3a\"], [0.8888888888888888, \"#fdca26\"], [1.0, \"#f0f921\"]]}, \"colorway\": [\"#636efa\", \"#EF553B\", \"#00cc96\", \"#ab63fa\", \"#FFA15A\", \"#19d3f3\", \"#FF6692\", \"#B6E880\", \"#FF97FF\", \"#FECB52\"], \"font\": {\"color\": \"#2a3f5f\"}, \"geo\": {\"bgcolor\": \"white\", \"lakecolor\": \"white\", \"landcolor\": \"#E5ECF6\", \"showlakes\": true, \"showland\": true, \"subunitcolor\": \"white\"}, \"hoverlabel\": {\"align\": \"left\"}, \"hovermode\": \"closest\", \"mapbox\": {\"style\": \"light\"}, \"paper_bgcolor\": \"white\", \"plot_bgcolor\": \"#E5ECF6\", \"polar\": {\"angularaxis\": {\"gridcolor\": \"white\", \"linecolor\": \"white\", \"ticks\": \"\"}, \"bgcolor\": \"#E5ECF6\", \"radialaxis\": {\"gridcolor\": \"white\", \"linecolor\": \"white\", \"ticks\": \"\"}}, \"scene\": {\"xaxis\": {\"backgroundcolor\": \"#E5ECF6\", \"gridcolor\": \"white\", \"gridwidth\": 2, \"linecolor\": \"white\", \"showbackground\": true, \"ticks\": \"\", \"zerolinecolor\": \"white\"}, \"yaxis\": {\"backgroundcolor\": \"#E5ECF6\", \"gridcolor\": \"white\", \"gridwidth\": 2, \"linecolor\": \"white\", \"showbackground\": true, \"ticks\": \"\", \"zerolinecolor\": \"white\"}, \"zaxis\": {\"backgroundcolor\": \"#E5ECF6\", \"gridcolor\": \"white\", \"gridwidth\": 2, \"linecolor\": \"white\", \"showbackground\": true, \"ticks\": \"\", \"zerolinecolor\": \"white\"}}, \"shapedefaults\": {\"line\": {\"color\": \"#2a3f5f\"}}, \"ternary\": {\"aaxis\": {\"gridcolor\": \"white\", \"linecolor\": \"white\", \"ticks\": \"\"}, \"baxis\": {\"gridcolor\": \"white\", \"linecolor\": \"white\", \"ticks\": \"\"}, \"bgcolor\": \"#E5ECF6\", \"caxis\": {\"gridcolor\": \"white\", \"linecolor\": \"white\", \"ticks\": \"\"}}, \"title\": {\"x\": 0.05}, \"xaxis\": {\"automargin\": true, \"gridcolor\": \"white\", \"linecolor\": \"white\", \"ticks\": \"\", \"title\": {\"standoff\": 15}, \"zerolinecolor\": \"white\", \"zerolinewidth\": 2}, \"yaxis\": {\"automargin\": true, \"gridcolor\": \"white\", \"linecolor\": \"white\", \"ticks\": \"\", \"title\": {\"standoff\": 15}, \"zerolinecolor\": \"white\", \"zerolinewidth\": 2}}}, \"xaxis\": {\"anchor\": \"y\", \"domain\": [0.0, 1.0], \"title\": {\"text\": \"date\"}}, \"yaxis\": {\"anchor\": \"x\", \"domain\": [0.0, 1.0], \"title\": {\"text\": \"meter_reading-max\"}}},\n",
       "                        {\"responsive\": true}\n",
       "                    ).then(function(){\n",
       "                            \n",
       "var gd = document.getElementById('e5a735ec-8763-4a2e-9df6-522eb81ed107');\n",
       "var x = new MutationObserver(function (mutations, observer) {{\n",
       "        var display = window.getComputedStyle(gd).display;\n",
       "        if (!display || display === 'none') {{\n",
       "            console.log([gd, 'removed!']);\n",
       "            Plotly.purge(gd);\n",
       "            observer.disconnect();\n",
       "        }}\n",
       "}});\n",
       "\n",
       "// Listen for the removal of the full notebook cells\n",
       "var notebookContainer = gd.closest('#notebook-container');\n",
       "if (notebookContainer) {{\n",
       "    x.observe(notebookContainer, {childList: true});\n",
       "}}\n",
       "\n",
       "// Listen for the clearing of the current output cell\n",
       "var outputEl = gd.closest('.output');\n",
       "if (outputEl) {{\n",
       "    x.observe(outputEl, {childList: true});\n",
       "}}\n",
       "\n",
       "                        })\n",
       "                };\n",
       "                });\n",
       "            </script>\n",
       "        </div>"
      ]
     },
     "metadata": {},
     "output_type": "display_data"
    }
   ],
   "source": [
    "hotwater = train_group_agg[train_group_agg['meter']=='hotwater'].copy()\n",
    "hotwater['building_id_max'] = pd.Categorical(hotwater['building_id_max'])\n",
    "px.scatter(hotwater, x='date', y='meter_reading-max', color='building_id_max')"
   ]
  },
  {
   "cell_type": "code",
   "execution_count": 65,
   "metadata": {},
   "outputs": [
    {
     "name": "stdout",
     "output_type": "stream",
     "text": [
      "**max building for electricity**\n",
      "building_id          799\n",
      "site_id                7\n",
      "primary_use    Education\n",
      "square_feet       527431\n",
      "year_built          1976\n",
      "floor_count           26\n",
      "Name: 8855687, dtype: object\n",
      "-----------------------------------------------\n",
      "**max building for chilled water**\n",
      "building_id                              778\n",
      "site_id                                    6\n",
      "primary_use    Entertainment/public assembly\n",
      "square_feet                           108339\n",
      "year_built                               NaN\n",
      "floor_count                              NaN\n",
      "Name: 8499352, dtype: object\n",
      "-----------------------------------------------\n",
      "**max building for steam**\n",
      "building_id         1099\n",
      "site_id               13\n",
      "primary_use    Education\n",
      "square_feet       332884\n",
      "year_built           NaN\n",
      "floor_count          NaN\n",
      "Name: 13603751, dtype: object\n",
      "-----------------------------------------------\n",
      "**max building for hot water**\n",
      "building_id                             1021\n",
      "site_id                                   10\n",
      "primary_use    Entertainment/public assembly\n",
      "square_feet                           213762\n",
      "year_built                               NaN\n",
      "floor_count                                2\n",
      "Name: 12549400, dtype: object\n"
     ]
    }
   ],
   "source": [
    "print('**max building for electricity**')\n",
    "print(train_building[train_building['building_id'] == 799].iloc[0][['building_id','site_id','primary_use','square_feet','year_built','floor_count']])\n",
    "print('-----------------------------------------------')\n",
    "print('**max building for chilled water**')\n",
    "print(train_building[train_building['building_id'] == 778].iloc[0][['building_id','site_id','primary_use','square_feet','year_built','floor_count']])\n",
    "print('-----------------------------------------------')\n",
    "print('**max building for steam**')\n",
    "print(train_building[train_building['building_id'] == 1099].iloc[0][['building_id','site_id','primary_use','square_feet','year_built','floor_count']])\n",
    "print('-----------------------------------------------')\n",
    "print('**max building for hot water**')\n",
    "print(train_building[train_building['building_id'] == 1021].iloc[0][['building_id','site_id','primary_use','square_feet','year_built','floor_count']])"
   ]
  },
  {
   "cell_type": "code",
   "execution_count": 21,
   "metadata": {},
   "outputs": [
    {
     "data": {
      "text/html": [
       "<div>\n",
       "<style scoped>\n",
       "    .dataframe tbody tr th:only-of-type {\n",
       "        vertical-align: middle;\n",
       "    }\n",
       "\n",
       "    .dataframe tbody tr th {\n",
       "        vertical-align: top;\n",
       "    }\n",
       "\n",
       "    .dataframe thead th {\n",
       "        text-align: right;\n",
       "    }\n",
       "</style>\n",
       "<table border=\"1\" class=\"dataframe\">\n",
       "  <thead>\n",
       "    <tr style=\"text-align: right;\">\n",
       "      <th></th>\n",
       "      <th>Total</th>\n",
       "      <th>Percent</th>\n",
       "    </tr>\n",
       "  </thead>\n",
       "  <tbody>\n",
       "    <tr>\n",
       "      <th>floor_count</th>\n",
       "      <td>1094</td>\n",
       "      <td>75.500345</td>\n",
       "    </tr>\n",
       "    <tr>\n",
       "      <th>year_built</th>\n",
       "      <td>774</td>\n",
       "      <td>53.416149</td>\n",
       "    </tr>\n",
       "    <tr>\n",
       "      <th>square_feet</th>\n",
       "      <td>0</td>\n",
       "      <td>0.000000</td>\n",
       "    </tr>\n",
       "    <tr>\n",
       "      <th>primary_use</th>\n",
       "      <td>0</td>\n",
       "      <td>0.000000</td>\n",
       "    </tr>\n",
       "    <tr>\n",
       "      <th>building_id</th>\n",
       "      <td>0</td>\n",
       "      <td>0.000000</td>\n",
       "    </tr>\n",
       "    <tr>\n",
       "      <th>site_id</th>\n",
       "      <td>0</td>\n",
       "      <td>0.000000</td>\n",
       "    </tr>\n",
       "  </tbody>\n",
       "</table>\n",
       "</div>"
      ],
      "text/plain": [
       "             Total    Percent\n",
       "floor_count   1094  75.500345\n",
       "year_built     774  53.416149\n",
       "square_feet      0   0.000000\n",
       "primary_use      0   0.000000\n",
       "building_id      0   0.000000\n",
       "site_id          0   0.000000"
      ]
     },
     "execution_count": 21,
     "metadata": {},
     "output_type": "execute_result"
    }
   ],
   "source": [
    "total = building_meta.isnull().sum().sort_values(ascending = False)\n",
    "percent = (building_meta.isnull().sum()/building_meta.isnull().count()*100).sort_values(ascending = False)\n",
    "missing_building_meta = pd.concat([total, percent], axis=1, keys=['Total', 'Percent'])\n",
    "missing_building_meta"
   ]
  },
  {
   "cell_type": "code",
   "execution_count": 23,
   "metadata": {},
   "outputs": [
    {
     "data": {
      "text/plain": [
       "site_id           0\n",
       "building_id       0\n",
       "primary_use       0\n",
       "square_feet       0\n",
       "year_built      774\n",
       "floor_count    1094\n",
       "dtype: int64"
      ]
     },
     "execution_count": 23,
     "metadata": {},
     "output_type": "execute_result"
    }
   ],
   "source": [
    "total = weather_test.isnull().sum().sort_values(ascending = False)\n",
    "percent = (weather_test.isnull().sum()/weather_test.isnull().count()*100).sort_values(ascending = False)\n",
    "missing_weather_test = pd.concat([total, percent], axis=1, keys=['Total', 'Percent'])\n",
    "missing_weather_test"
   ]
  },
  {
   "cell_type": "code",
   "execution_count": 24,
   "metadata": {},
   "outputs": [
    {
     "data": {
      "text/html": [
       "<div>\n",
       "<style scoped>\n",
       "    .dataframe tbody tr th:only-of-type {\n",
       "        vertical-align: middle;\n",
       "    }\n",
       "\n",
       "    .dataframe tbody tr th {\n",
       "        vertical-align: top;\n",
       "    }\n",
       "\n",
       "    .dataframe thead th {\n",
       "        text-align: right;\n",
       "    }\n",
       "</style>\n",
       "<table border=\"1\" class=\"dataframe\">\n",
       "  <thead>\n",
       "    <tr style=\"text-align: right;\">\n",
       "      <th></th>\n",
       "      <th>Total</th>\n",
       "      <th>Percent</th>\n",
       "    </tr>\n",
       "  </thead>\n",
       "  <tbody>\n",
       "    <tr>\n",
       "      <th>cloud_coverage</th>\n",
       "      <td>69173</td>\n",
       "      <td>49.489529</td>\n",
       "    </tr>\n",
       "    <tr>\n",
       "      <th>precip_depth_1_hr</th>\n",
       "      <td>50289</td>\n",
       "      <td>35.979052</td>\n",
       "    </tr>\n",
       "    <tr>\n",
       "      <th>sea_level_pressure</th>\n",
       "      <td>10618</td>\n",
       "      <td>7.596603</td>\n",
       "    </tr>\n",
       "    <tr>\n",
       "      <th>wind_direction</th>\n",
       "      <td>6268</td>\n",
       "      <td>4.484414</td>\n",
       "    </tr>\n",
       "    <tr>\n",
       "      <th>wind_speed</th>\n",
       "      <td>304</td>\n",
       "      <td>0.217496</td>\n",
       "    </tr>\n",
       "    <tr>\n",
       "      <th>dew_temperature</th>\n",
       "      <td>113</td>\n",
       "      <td>0.080845</td>\n",
       "    </tr>\n",
       "    <tr>\n",
       "      <th>air_temperature</th>\n",
       "      <td>55</td>\n",
       "      <td>0.039350</td>\n",
       "    </tr>\n",
       "    <tr>\n",
       "      <th>timestamp</th>\n",
       "      <td>0</td>\n",
       "      <td>0.000000</td>\n",
       "    </tr>\n",
       "    <tr>\n",
       "      <th>site_id</th>\n",
       "      <td>0</td>\n",
       "      <td>0.000000</td>\n",
       "    </tr>\n",
       "  </tbody>\n",
       "</table>\n",
       "</div>"
      ],
      "text/plain": [
       "                    Total    Percent\n",
       "cloud_coverage      69173  49.489529\n",
       "precip_depth_1_hr   50289  35.979052\n",
       "sea_level_pressure  10618   7.596603\n",
       "wind_direction       6268   4.484414\n",
       "wind_speed            304   0.217496\n",
       "dew_temperature       113   0.080845\n",
       "air_temperature        55   0.039350\n",
       "timestamp               0   0.000000\n",
       "site_id                 0   0.000000"
      ]
     },
     "execution_count": 24,
     "metadata": {},
     "output_type": "execute_result"
    }
   ],
   "source": [
    "total = weather_train.isnull().sum().sort_values(ascending = False)\n",
    "percent = (weather_train.isnull().sum()/weather_train.isnull().count()*100).sort_values(ascending = False)\n",
    "missing_weather_train = pd.concat([total, percent], axis=1, keys=['Total', 'Percent'])\n",
    "missing_weather_train"
   ]
  }
 ],
 "metadata": {
  "kernelspec": {
   "display_name": "Python 3",
   "language": "python",
   "name": "python3"
  },
  "language_info": {
   "codemirror_mode": {
    "name": "ipython",
    "version": 3
   },
   "file_extension": ".py",
   "mimetype": "text/x-python",
   "name": "python",
   "nbconvert_exporter": "python",
   "pygments_lexer": "ipython3",
   "version": "3.7.3"
  }
 },
 "nbformat": 4,
 "nbformat_minor": 2
}
